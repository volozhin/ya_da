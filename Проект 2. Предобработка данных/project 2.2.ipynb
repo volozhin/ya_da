{
 "cells": [
  {
   "cell_type": "markdown",
   "id": "01e82000",
   "metadata": {},
   "source": [
    "<div class=\"alert alert-success\">\n",
    "<b>Комментарий ревьюера v 2.0 ✔️:</b> Отлично, Павел! Ты исправил единственный недостаток и теперь твой проект конечно же принят.\n",
    "    \n",
    "Спасибо за работу и успехов в следующих проектах!)"
   ]
  },
  {
   "cell_type": "markdown",
   "id": "8ff6ee01",
   "metadata": {},
   "source": [
    "<div class=\"alert alert-info\"><b>Зравствуйте, Дмитрий!</b>\n",
    "\n",
    "Я дополнил таблицы через pivot, как ты просил - одной строкой. =)\n",
    "\n",
    "Спасибо за уделенное время и приятного дня!</div>"
   ]
  },
  {
   "cell_type": "markdown",
   "id": "a728310b",
   "metadata": {},
   "source": [
    "<div class=\"alert alert-success\">\n",
    "<b>Комментарий ревьюера v 2.0 ✔️:</b> И тебе тоже хорошего дня!"
   ]
  },
  {
   "cell_type": "markdown",
   "id": "b5be7a5f",
   "metadata": {},
   "source": [
    "<div style=\"border:solid green 2px; padding: 20px\">\n",
    "<b>Привет!</b>\n",
    "\n",
    "Меня зовут Михаленко Дмитрий, и я буду проверять твой проект. Предлагаю общаться на «ты» :) Но если это не удобно - дай знать, и мы перейдем на \"вы\". \n",
    "\n",
    "Моя основная цель — не указать на совершенные тобою ошибки, а поделиться своим опытом и помочь тебе стать аналитиком данных. Ты уже проделал большую работу над проектом, но давай сделаем его еще лучше. Ниже ты найдешь мои комментарии - **пожалуйста, не перемещай, не изменяй и не удаляй их**. Увидев у тебя ошибку, в первый раз я лишь укажу на ее наличие и дам тебе возможность самому найти и исправить ее. На реальной работе твой начальник будет поступать так же, а я пытаюсь подготовить тебя именно к работе аналитиком. Но если ты пока не справишься с такой задачей - при следующей проверке я дам более точную подсказку. Я буду использовать цветовую разметку:\n",
    "\n",
    "<div class=\"alert alert-danger\">\n",
    "<b>Комментарий ревьюера ❌:</b> Так выделены самые важные замечания. Без их отработки проект не будет принят. </div>\n",
    "\n",
    "<div class=\"alert alert-warning\">\n",
    "<b>Комментарий ревьюера ⚠️:</b> Так выделены небольшие замечания. Я надеюсь, что их ты тоже учтешь - твой проект от этого станет только лучше. Но настаивать на их отработке не буду.\n",
    "\n",
    "</div>\n",
    "\n",
    "<div class=\"alert alert-success\">\n",
    "<b>Комментарий ревьюера ✔️:</b> Так я выделяю все остальные комментарии.</div>\n",
    "\n",
    "Давай работать над проектом в диалоге: **если ты что-то меняешь в проекте или отвечаешь на мои комментарии — пиши об этом.** Мне будет легче отследить изменения, если ты выделишь свои комментарии:\n",
    "<div class=\"alert alert-info\"> <b>Комментарий студента:</b> Например, вот так.</div>\n",
    "\n",
    "Всё это поможет выполнить повторную проверку твоего проекта оперативнее."
   ]
  },
  {
   "cell_type": "markdown",
   "id": "c81daeeb",
   "metadata": {
    "deletable": false,
    "id": "c81daeeb"
   },
   "source": [
    "# Исследование надежности заемщиков\n"
   ]
  },
  {
   "cell_type": "markdown",
   "id": "827c20bf",
   "metadata": {
    "id": "827c20bf"
   },
   "source": [
    "Во второй части проекта вы выполните шаги 3 и 4. Их вручную проверит ревьюер.\n",
    "Чтобы вам не пришлось писать код заново для шагов 1 и 2, мы добавили авторские решения в ячейки с кодом. \n",
    "\n"
   ]
  },
  {
   "cell_type": "markdown",
   "id": "744d7639",
   "metadata": {
    "deletable": false,
    "id": "744d7639"
   },
   "source": [
    "## Откройте таблицу и изучите общую информацию о данных"
   ]
  },
  {
   "cell_type": "markdown",
   "id": "e7a14c31",
   "metadata": {
    "deletable": false,
    "id": "e7a14c31"
   },
   "source": [
    "**Задание 1. Импортируйте библиотеку pandas. Считайте данные из csv-файла в датафрейм и сохраните в переменную `data`. Путь к файлу:**\n",
    "\n",
    "`/datasets/data.csv`"
   ]
  },
  {
   "cell_type": "code",
   "execution_count": 1,
   "id": "7bcf75c9",
   "metadata": {
    "deletable": false,
    "id": "7bcf75c9"
   },
   "outputs": [],
   "source": [
    "import pandas as pd\n",
    "\n",
    "try:\n",
    "    data = pd.read_csv('/datasets/data.csv')\n",
    "except:\n",
    "    data = pd.read_csv('https://code.s3.yandex.net/datasets/data.csv')"
   ]
  },
  {
   "cell_type": "markdown",
   "id": "b8038fe3",
   "metadata": {
    "deletable": false,
    "id": "b8038fe3"
   },
   "source": [
    "**Задание 2. Выведите первые 20 строчек датафрейма `data` на экран.**"
   ]
  },
  {
   "cell_type": "code",
   "execution_count": 2,
   "id": "2a7cab99",
   "metadata": {
    "deletable": false,
    "id": "2a7cab99",
    "outputId": "1a8f3ef2-d323-4ec2-ddf7-89670b5944c4"
   },
   "outputs": [
    {
     "data": {
      "text/html": [
       "<div>\n",
       "<style scoped>\n",
       "    .dataframe tbody tr th:only-of-type {\n",
       "        vertical-align: middle;\n",
       "    }\n",
       "\n",
       "    .dataframe tbody tr th {\n",
       "        vertical-align: top;\n",
       "    }\n",
       "\n",
       "    .dataframe thead th {\n",
       "        text-align: right;\n",
       "    }\n",
       "</style>\n",
       "<table border=\"1\" class=\"dataframe\">\n",
       "  <thead>\n",
       "    <tr style=\"text-align: right;\">\n",
       "      <th></th>\n",
       "      <th>children</th>\n",
       "      <th>days_employed</th>\n",
       "      <th>dob_years</th>\n",
       "      <th>education</th>\n",
       "      <th>education_id</th>\n",
       "      <th>family_status</th>\n",
       "      <th>family_status_id</th>\n",
       "      <th>gender</th>\n",
       "      <th>income_type</th>\n",
       "      <th>debt</th>\n",
       "      <th>total_income</th>\n",
       "      <th>purpose</th>\n",
       "    </tr>\n",
       "  </thead>\n",
       "  <tbody>\n",
       "    <tr>\n",
       "      <th>0</th>\n",
       "      <td>1</td>\n",
       "      <td>-8437.673028</td>\n",
       "      <td>42</td>\n",
       "      <td>высшее</td>\n",
       "      <td>0</td>\n",
       "      <td>женат / замужем</td>\n",
       "      <td>0</td>\n",
       "      <td>F</td>\n",
       "      <td>сотрудник</td>\n",
       "      <td>0</td>\n",
       "      <td>253875.639453</td>\n",
       "      <td>покупка жилья</td>\n",
       "    </tr>\n",
       "    <tr>\n",
       "      <th>1</th>\n",
       "      <td>1</td>\n",
       "      <td>-4024.803754</td>\n",
       "      <td>36</td>\n",
       "      <td>среднее</td>\n",
       "      <td>1</td>\n",
       "      <td>женат / замужем</td>\n",
       "      <td>0</td>\n",
       "      <td>F</td>\n",
       "      <td>сотрудник</td>\n",
       "      <td>0</td>\n",
       "      <td>112080.014102</td>\n",
       "      <td>приобретение автомобиля</td>\n",
       "    </tr>\n",
       "    <tr>\n",
       "      <th>2</th>\n",
       "      <td>0</td>\n",
       "      <td>-5623.422610</td>\n",
       "      <td>33</td>\n",
       "      <td>Среднее</td>\n",
       "      <td>1</td>\n",
       "      <td>женат / замужем</td>\n",
       "      <td>0</td>\n",
       "      <td>M</td>\n",
       "      <td>сотрудник</td>\n",
       "      <td>0</td>\n",
       "      <td>145885.952297</td>\n",
       "      <td>покупка жилья</td>\n",
       "    </tr>\n",
       "    <tr>\n",
       "      <th>3</th>\n",
       "      <td>3</td>\n",
       "      <td>-4124.747207</td>\n",
       "      <td>32</td>\n",
       "      <td>среднее</td>\n",
       "      <td>1</td>\n",
       "      <td>женат / замужем</td>\n",
       "      <td>0</td>\n",
       "      <td>M</td>\n",
       "      <td>сотрудник</td>\n",
       "      <td>0</td>\n",
       "      <td>267628.550329</td>\n",
       "      <td>дополнительное образование</td>\n",
       "    </tr>\n",
       "    <tr>\n",
       "      <th>4</th>\n",
       "      <td>0</td>\n",
       "      <td>340266.072047</td>\n",
       "      <td>53</td>\n",
       "      <td>среднее</td>\n",
       "      <td>1</td>\n",
       "      <td>гражданский брак</td>\n",
       "      <td>1</td>\n",
       "      <td>F</td>\n",
       "      <td>пенсионер</td>\n",
       "      <td>0</td>\n",
       "      <td>158616.077870</td>\n",
       "      <td>сыграть свадьбу</td>\n",
       "    </tr>\n",
       "    <tr>\n",
       "      <th>5</th>\n",
       "      <td>0</td>\n",
       "      <td>-926.185831</td>\n",
       "      <td>27</td>\n",
       "      <td>высшее</td>\n",
       "      <td>0</td>\n",
       "      <td>гражданский брак</td>\n",
       "      <td>1</td>\n",
       "      <td>M</td>\n",
       "      <td>компаньон</td>\n",
       "      <td>0</td>\n",
       "      <td>255763.565419</td>\n",
       "      <td>покупка жилья</td>\n",
       "    </tr>\n",
       "    <tr>\n",
       "      <th>6</th>\n",
       "      <td>0</td>\n",
       "      <td>-2879.202052</td>\n",
       "      <td>43</td>\n",
       "      <td>высшее</td>\n",
       "      <td>0</td>\n",
       "      <td>женат / замужем</td>\n",
       "      <td>0</td>\n",
       "      <td>F</td>\n",
       "      <td>компаньон</td>\n",
       "      <td>0</td>\n",
       "      <td>240525.971920</td>\n",
       "      <td>операции с жильем</td>\n",
       "    </tr>\n",
       "    <tr>\n",
       "      <th>7</th>\n",
       "      <td>0</td>\n",
       "      <td>-152.779569</td>\n",
       "      <td>50</td>\n",
       "      <td>СРЕДНЕЕ</td>\n",
       "      <td>1</td>\n",
       "      <td>женат / замужем</td>\n",
       "      <td>0</td>\n",
       "      <td>M</td>\n",
       "      <td>сотрудник</td>\n",
       "      <td>0</td>\n",
       "      <td>135823.934197</td>\n",
       "      <td>образование</td>\n",
       "    </tr>\n",
       "    <tr>\n",
       "      <th>8</th>\n",
       "      <td>2</td>\n",
       "      <td>-6929.865299</td>\n",
       "      <td>35</td>\n",
       "      <td>ВЫСШЕЕ</td>\n",
       "      <td>0</td>\n",
       "      <td>гражданский брак</td>\n",
       "      <td>1</td>\n",
       "      <td>F</td>\n",
       "      <td>сотрудник</td>\n",
       "      <td>0</td>\n",
       "      <td>95856.832424</td>\n",
       "      <td>на проведение свадьбы</td>\n",
       "    </tr>\n",
       "    <tr>\n",
       "      <th>9</th>\n",
       "      <td>0</td>\n",
       "      <td>-2188.756445</td>\n",
       "      <td>41</td>\n",
       "      <td>среднее</td>\n",
       "      <td>1</td>\n",
       "      <td>женат / замужем</td>\n",
       "      <td>0</td>\n",
       "      <td>M</td>\n",
       "      <td>сотрудник</td>\n",
       "      <td>0</td>\n",
       "      <td>144425.938277</td>\n",
       "      <td>покупка жилья для семьи</td>\n",
       "    </tr>\n",
       "    <tr>\n",
       "      <th>10</th>\n",
       "      <td>2</td>\n",
       "      <td>-4171.483647</td>\n",
       "      <td>36</td>\n",
       "      <td>высшее</td>\n",
       "      <td>0</td>\n",
       "      <td>женат / замужем</td>\n",
       "      <td>0</td>\n",
       "      <td>M</td>\n",
       "      <td>компаньон</td>\n",
       "      <td>0</td>\n",
       "      <td>113943.491460</td>\n",
       "      <td>покупка недвижимости</td>\n",
       "    </tr>\n",
       "    <tr>\n",
       "      <th>11</th>\n",
       "      <td>0</td>\n",
       "      <td>-792.701887</td>\n",
       "      <td>40</td>\n",
       "      <td>среднее</td>\n",
       "      <td>1</td>\n",
       "      <td>женат / замужем</td>\n",
       "      <td>0</td>\n",
       "      <td>F</td>\n",
       "      <td>сотрудник</td>\n",
       "      <td>0</td>\n",
       "      <td>77069.234271</td>\n",
       "      <td>покупка коммерческой недвижимости</td>\n",
       "    </tr>\n",
       "    <tr>\n",
       "      <th>12</th>\n",
       "      <td>0</td>\n",
       "      <td>NaN</td>\n",
       "      <td>65</td>\n",
       "      <td>среднее</td>\n",
       "      <td>1</td>\n",
       "      <td>гражданский брак</td>\n",
       "      <td>1</td>\n",
       "      <td>M</td>\n",
       "      <td>пенсионер</td>\n",
       "      <td>0</td>\n",
       "      <td>NaN</td>\n",
       "      <td>сыграть свадьбу</td>\n",
       "    </tr>\n",
       "    <tr>\n",
       "      <th>13</th>\n",
       "      <td>0</td>\n",
       "      <td>-1846.641941</td>\n",
       "      <td>54</td>\n",
       "      <td>неоконченное высшее</td>\n",
       "      <td>2</td>\n",
       "      <td>женат / замужем</td>\n",
       "      <td>0</td>\n",
       "      <td>F</td>\n",
       "      <td>сотрудник</td>\n",
       "      <td>0</td>\n",
       "      <td>130458.228857</td>\n",
       "      <td>приобретение автомобиля</td>\n",
       "    </tr>\n",
       "    <tr>\n",
       "      <th>14</th>\n",
       "      <td>0</td>\n",
       "      <td>-1844.956182</td>\n",
       "      <td>56</td>\n",
       "      <td>высшее</td>\n",
       "      <td>0</td>\n",
       "      <td>гражданский брак</td>\n",
       "      <td>1</td>\n",
       "      <td>F</td>\n",
       "      <td>компаньон</td>\n",
       "      <td>1</td>\n",
       "      <td>165127.911772</td>\n",
       "      <td>покупка жилой недвижимости</td>\n",
       "    </tr>\n",
       "    <tr>\n",
       "      <th>15</th>\n",
       "      <td>1</td>\n",
       "      <td>-972.364419</td>\n",
       "      <td>26</td>\n",
       "      <td>среднее</td>\n",
       "      <td>1</td>\n",
       "      <td>женат / замужем</td>\n",
       "      <td>0</td>\n",
       "      <td>F</td>\n",
       "      <td>сотрудник</td>\n",
       "      <td>0</td>\n",
       "      <td>116820.904450</td>\n",
       "      <td>строительство собственной недвижимости</td>\n",
       "    </tr>\n",
       "    <tr>\n",
       "      <th>16</th>\n",
       "      <td>0</td>\n",
       "      <td>-1719.934226</td>\n",
       "      <td>35</td>\n",
       "      <td>среднее</td>\n",
       "      <td>1</td>\n",
       "      <td>женат / замужем</td>\n",
       "      <td>0</td>\n",
       "      <td>F</td>\n",
       "      <td>сотрудник</td>\n",
       "      <td>0</td>\n",
       "      <td>289202.704229</td>\n",
       "      <td>недвижимость</td>\n",
       "    </tr>\n",
       "    <tr>\n",
       "      <th>17</th>\n",
       "      <td>0</td>\n",
       "      <td>-2369.999720</td>\n",
       "      <td>33</td>\n",
       "      <td>высшее</td>\n",
       "      <td>0</td>\n",
       "      <td>гражданский брак</td>\n",
       "      <td>1</td>\n",
       "      <td>M</td>\n",
       "      <td>сотрудник</td>\n",
       "      <td>0</td>\n",
       "      <td>90410.586745</td>\n",
       "      <td>строительство недвижимости</td>\n",
       "    </tr>\n",
       "    <tr>\n",
       "      <th>18</th>\n",
       "      <td>0</td>\n",
       "      <td>400281.136913</td>\n",
       "      <td>53</td>\n",
       "      <td>среднее</td>\n",
       "      <td>1</td>\n",
       "      <td>вдовец / вдова</td>\n",
       "      <td>2</td>\n",
       "      <td>F</td>\n",
       "      <td>пенсионер</td>\n",
       "      <td>0</td>\n",
       "      <td>56823.777243</td>\n",
       "      <td>на покупку подержанного автомобиля</td>\n",
       "    </tr>\n",
       "    <tr>\n",
       "      <th>19</th>\n",
       "      <td>0</td>\n",
       "      <td>-10038.818549</td>\n",
       "      <td>48</td>\n",
       "      <td>СРЕДНЕЕ</td>\n",
       "      <td>1</td>\n",
       "      <td>в разводе</td>\n",
       "      <td>3</td>\n",
       "      <td>F</td>\n",
       "      <td>сотрудник</td>\n",
       "      <td>0</td>\n",
       "      <td>242831.107982</td>\n",
       "      <td>на покупку своего автомобиля</td>\n",
       "    </tr>\n",
       "  </tbody>\n",
       "</table>\n",
       "</div>"
      ],
      "text/plain": [
       "    children  days_employed  dob_years            education  education_id  \\\n",
       "0          1   -8437.673028         42               высшее             0   \n",
       "1          1   -4024.803754         36              среднее             1   \n",
       "2          0   -5623.422610         33              Среднее             1   \n",
       "3          3   -4124.747207         32              среднее             1   \n",
       "4          0  340266.072047         53              среднее             1   \n",
       "5          0    -926.185831         27               высшее             0   \n",
       "6          0   -2879.202052         43               высшее             0   \n",
       "7          0    -152.779569         50              СРЕДНЕЕ             1   \n",
       "8          2   -6929.865299         35               ВЫСШЕЕ             0   \n",
       "9          0   -2188.756445         41              среднее             1   \n",
       "10         2   -4171.483647         36               высшее             0   \n",
       "11         0    -792.701887         40              среднее             1   \n",
       "12         0            NaN         65              среднее             1   \n",
       "13         0   -1846.641941         54  неоконченное высшее             2   \n",
       "14         0   -1844.956182         56               высшее             0   \n",
       "15         1    -972.364419         26              среднее             1   \n",
       "16         0   -1719.934226         35              среднее             1   \n",
       "17         0   -2369.999720         33               высшее             0   \n",
       "18         0  400281.136913         53              среднее             1   \n",
       "19         0  -10038.818549         48              СРЕДНЕЕ             1   \n",
       "\n",
       "       family_status  family_status_id gender income_type  debt  \\\n",
       "0    женат / замужем                 0      F   сотрудник     0   \n",
       "1    женат / замужем                 0      F   сотрудник     0   \n",
       "2    женат / замужем                 0      M   сотрудник     0   \n",
       "3    женат / замужем                 0      M   сотрудник     0   \n",
       "4   гражданский брак                 1      F   пенсионер     0   \n",
       "5   гражданский брак                 1      M   компаньон     0   \n",
       "6    женат / замужем                 0      F   компаньон     0   \n",
       "7    женат / замужем                 0      M   сотрудник     0   \n",
       "8   гражданский брак                 1      F   сотрудник     0   \n",
       "9    женат / замужем                 0      M   сотрудник     0   \n",
       "10   женат / замужем                 0      M   компаньон     0   \n",
       "11   женат / замужем                 0      F   сотрудник     0   \n",
       "12  гражданский брак                 1      M   пенсионер     0   \n",
       "13   женат / замужем                 0      F   сотрудник     0   \n",
       "14  гражданский брак                 1      F   компаньон     1   \n",
       "15   женат / замужем                 0      F   сотрудник     0   \n",
       "16   женат / замужем                 0      F   сотрудник     0   \n",
       "17  гражданский брак                 1      M   сотрудник     0   \n",
       "18    вдовец / вдова                 2      F   пенсионер     0   \n",
       "19         в разводе                 3      F   сотрудник     0   \n",
       "\n",
       "     total_income                                 purpose  \n",
       "0   253875.639453                           покупка жилья  \n",
       "1   112080.014102                 приобретение автомобиля  \n",
       "2   145885.952297                           покупка жилья  \n",
       "3   267628.550329              дополнительное образование  \n",
       "4   158616.077870                         сыграть свадьбу  \n",
       "5   255763.565419                           покупка жилья  \n",
       "6   240525.971920                       операции с жильем  \n",
       "7   135823.934197                             образование  \n",
       "8    95856.832424                   на проведение свадьбы  \n",
       "9   144425.938277                 покупка жилья для семьи  \n",
       "10  113943.491460                    покупка недвижимости  \n",
       "11   77069.234271       покупка коммерческой недвижимости  \n",
       "12            NaN                         сыграть свадьбу  \n",
       "13  130458.228857                 приобретение автомобиля  \n",
       "14  165127.911772              покупка жилой недвижимости  \n",
       "15  116820.904450  строительство собственной недвижимости  \n",
       "16  289202.704229                            недвижимость  \n",
       "17   90410.586745              строительство недвижимости  \n",
       "18   56823.777243      на покупку подержанного автомобиля  \n",
       "19  242831.107982            на покупку своего автомобиля  "
      ]
     },
     "execution_count": 2,
     "metadata": {},
     "output_type": "execute_result"
    }
   ],
   "source": [
    "data.head(20)"
   ]
  },
  {
   "cell_type": "markdown",
   "id": "1c12e233",
   "metadata": {
    "deletable": false,
    "id": "1c12e233"
   },
   "source": [
    "**Задание 3. Выведите основную информацию о датафрейме с помощью метода `info()`.**"
   ]
  },
  {
   "cell_type": "code",
   "execution_count": 3,
   "id": "2b757bca",
   "metadata": {
    "deletable": false,
    "id": "2b757bca",
    "outputId": "15376089-8dad-46c9-b520-c05248d43158"
   },
   "outputs": [
    {
     "name": "stdout",
     "output_type": "stream",
     "text": [
      "<class 'pandas.core.frame.DataFrame'>\n",
      "RangeIndex: 21525 entries, 0 to 21524\n",
      "Data columns (total 12 columns):\n",
      " #   Column            Non-Null Count  Dtype  \n",
      "---  ------            --------------  -----  \n",
      " 0   children          21525 non-null  int64  \n",
      " 1   days_employed     19351 non-null  float64\n",
      " 2   dob_years         21525 non-null  int64  \n",
      " 3   education         21525 non-null  object \n",
      " 4   education_id      21525 non-null  int64  \n",
      " 5   family_status     21525 non-null  object \n",
      " 6   family_status_id  21525 non-null  int64  \n",
      " 7   gender            21525 non-null  object \n",
      " 8   income_type       21525 non-null  object \n",
      " 9   debt              21525 non-null  int64  \n",
      " 10  total_income      19351 non-null  float64\n",
      " 11  purpose           21525 non-null  object \n",
      "dtypes: float64(2), int64(5), object(5)\n",
      "memory usage: 2.0+ MB\n"
     ]
    }
   ],
   "source": [
    "data.info()"
   ]
  },
  {
   "cell_type": "markdown",
   "id": "333ec665",
   "metadata": {
    "deletable": false,
    "id": "333ec665"
   },
   "source": [
    "## Предобработка данных"
   ]
  },
  {
   "cell_type": "markdown",
   "id": "02d92d53",
   "metadata": {
    "deletable": false,
    "id": "02d92d53"
   },
   "source": [
    "### Удаление пропусков"
   ]
  },
  {
   "cell_type": "markdown",
   "id": "cd84967c",
   "metadata": {
    "deletable": false,
    "id": "cd84967c"
   },
   "source": [
    "**Задание 4. Выведите количество пропущенных значений для каждого столбца. Используйте комбинацию двух методов.**"
   ]
  },
  {
   "cell_type": "code",
   "execution_count": 4,
   "id": "7f9b2309",
   "metadata": {
    "deletable": false,
    "id": "7f9b2309",
    "outputId": "81f4d817-781c-465c-ed15-91ce4446810d"
   },
   "outputs": [
    {
     "data": {
      "text/plain": [
       "children               0\n",
       "days_employed       2174\n",
       "dob_years              0\n",
       "education              0\n",
       "education_id           0\n",
       "family_status          0\n",
       "family_status_id       0\n",
       "gender                 0\n",
       "income_type            0\n",
       "debt                   0\n",
       "total_income        2174\n",
       "purpose                0\n",
       "dtype: int64"
      ]
     },
     "execution_count": 4,
     "metadata": {},
     "output_type": "execute_result"
    }
   ],
   "source": [
    "data.isna().sum()"
   ]
  },
  {
   "cell_type": "markdown",
   "id": "db86e27b",
   "metadata": {
    "deletable": false,
    "id": "db86e27b"
   },
   "source": [
    "**Задание 5. В двух столбцах есть пропущенные значения. Один из них — `days_employed`. Пропуски в этом столбце вы обработаете на следующем этапе. Другой столбец с пропущенными значениями — `total_income` — хранит данные о доходах. На сумму дохода сильнее всего влияет тип занятости, поэтому заполнить пропуски в этом столбце нужно медианным значением по каждому типу из столбца `income_type`. Например, у человека с типом занятости `сотрудник` пропуск в столбце `total_income` должен быть заполнен медианным доходом среди всех записей с тем же типом.**"
   ]
  },
  {
   "cell_type": "code",
   "execution_count": 5,
   "id": "42006a93",
   "metadata": {
    "deletable": false,
    "id": "42006a93"
   },
   "outputs": [],
   "source": [
    "for t in data['income_type'].unique():\n",
    "    data.loc[(data['income_type'] == t) & (data['total_income'].isna()), 'total_income'] = \\\n",
    "    data.loc[(data['income_type'] == t), 'total_income'].median()"
   ]
  },
  {
   "cell_type": "markdown",
   "id": "89da5ece",
   "metadata": {
    "deletable": false,
    "id": "89da5ece"
   },
   "source": [
    "### Обработка аномальных значений"
   ]
  },
  {
   "cell_type": "markdown",
   "id": "57964554",
   "metadata": {
    "deletable": false,
    "id": "57964554"
   },
   "source": [
    "**Задание 6. В данных могут встречаться артефакты (аномалии) — значения, которые не отражают действительность и появились по какой-то ошибке. таким артефактом будет отрицательное количество дней трудового стажа в столбце `days_employed`. Для реальных данных это нормально. Обработайте значения в этом столбце: замените все отрицательные значения положительными с помощью метода `abs()`.**"
   ]
  },
  {
   "cell_type": "code",
   "execution_count": 6,
   "id": "f6f055bf",
   "metadata": {
    "deletable": false,
    "id": "f6f055bf"
   },
   "outputs": [],
   "source": [
    "data['days_employed'] = data['days_employed'].abs()"
   ]
  },
  {
   "cell_type": "markdown",
   "id": "6107dd2f",
   "metadata": {
    "deletable": false,
    "id": "6107dd2f"
   },
   "source": [
    "**Задание 7. Для каждого типа занятости выведите медианное значение трудового стажа `days_employed` в днях.**"
   ]
  },
  {
   "cell_type": "code",
   "execution_count": 7,
   "id": "85a5faf6",
   "metadata": {
    "deletable": false,
    "id": "85a5faf6",
    "outputId": "801ef80e-522b-4668-f34e-565af7432bcf"
   },
   "outputs": [
    {
     "data": {
      "text/plain": [
       "income_type\n",
       "безработный        366413.652744\n",
       "в декрете            3296.759962\n",
       "госслужащий          2689.368353\n",
       "компаньон            1547.382223\n",
       "пенсионер          365213.306266\n",
       "предприниматель       520.848083\n",
       "сотрудник            1574.202821\n",
       "студент               578.751554\n",
       "Name: days_employed, dtype: float64"
      ]
     },
     "execution_count": 7,
     "metadata": {},
     "output_type": "execute_result"
    }
   ],
   "source": [
    "data.groupby('income_type')['days_employed'].agg('median')"
   ]
  },
  {
   "cell_type": "markdown",
   "id": "38d1a030",
   "metadata": {
    "deletable": false,
    "id": "38d1a030"
   },
   "source": [
    "У двух типов (безработные и пенсионеры) получатся аномально большие значения. Исправить такие значения сложно, поэтому оставьте их как есть. Тем более этот столбец не понадобится вам для исследования."
   ]
  },
  {
   "cell_type": "markdown",
   "id": "d8a9f147",
   "metadata": {
    "deletable": false,
    "id": "d8a9f147"
   },
   "source": [
    "**Задание 8. Выведите перечень уникальных значений столбца `children`.**"
   ]
  },
  {
   "cell_type": "code",
   "execution_count": 8,
   "id": "ef5056eb",
   "metadata": {
    "deletable": false,
    "id": "ef5056eb",
    "outputId": "6975b15c-7f95-4697-d16d-a0c79b657b03"
   },
   "outputs": [
    {
     "data": {
      "text/plain": [
       "array([ 1,  0,  3,  2, -1,  4, 20,  5])"
      ]
     },
     "execution_count": 8,
     "metadata": {},
     "output_type": "execute_result"
    }
   ],
   "source": [
    "data['children'].unique()"
   ]
  },
  {
   "cell_type": "markdown",
   "id": "40b9ebf2",
   "metadata": {
    "deletable": false,
    "id": "40b9ebf2"
   },
   "source": [
    "**Задание 9. В столбце `children` есть два аномальных значения. Удалите строки, в которых встречаются такие аномальные значения из датафрейма `data`.**"
   ]
  },
  {
   "cell_type": "code",
   "execution_count": 9,
   "id": "3ff9801d",
   "metadata": {
    "deletable": false,
    "id": "3ff9801d"
   },
   "outputs": [],
   "source": [
    "data = data[(data['children'] != -1) & (data['children'] != 20)]"
   ]
  },
  {
   "cell_type": "markdown",
   "id": "bbc4d0ce",
   "metadata": {
    "deletable": false,
    "id": "bbc4d0ce"
   },
   "source": [
    "**Задание 10. Ещё раз выведите перечень уникальных значений столбца `children`, чтобы убедиться, что артефакты удалены.**"
   ]
  },
  {
   "cell_type": "code",
   "execution_count": 10,
   "id": "ad4fa8b7",
   "metadata": {
    "deletable": false,
    "id": "ad4fa8b7",
    "outputId": "b2097101-d49d-44d9-901b-32a65c9463d1"
   },
   "outputs": [
    {
     "data": {
      "text/plain": [
       "array([1, 0, 3, 2, 4, 5])"
      ]
     },
     "execution_count": 10,
     "metadata": {},
     "output_type": "execute_result"
    }
   ],
   "source": [
    "data['children'].unique()"
   ]
  },
  {
   "cell_type": "markdown",
   "id": "75440b63",
   "metadata": {
    "deletable": false,
    "id": "75440b63"
   },
   "source": [
    "### Удаление пропусков (продолжение)"
   ]
  },
  {
   "cell_type": "markdown",
   "id": "f4ea573f",
   "metadata": {
    "deletable": false,
    "id": "f4ea573f"
   },
   "source": [
    "**Задание 11. Заполните пропуски в столбце `days_employed` медианными значениями по каждого типа занятости `income_type`.**"
   ]
  },
  {
   "cell_type": "code",
   "execution_count": 11,
   "id": "af6b1a7e",
   "metadata": {
    "deletable": false,
    "id": "af6b1a7e"
   },
   "outputs": [],
   "source": [
    "for t in data['income_type'].unique():\n",
    "    data.loc[(data['income_type'] == t) & (data['days_employed'].isna()), 'days_employed'] = \\\n",
    "    data.loc[(data['income_type'] == t), 'days_employed'].median()"
   ]
  },
  {
   "cell_type": "markdown",
   "id": "2753f40d",
   "metadata": {
    "deletable": false,
    "id": "2753f40d"
   },
   "source": [
    "**Задание 12. Убедитесь, что все пропуски заполнены. Проверьте себя и ещё раз выведите количество пропущенных значений для каждого столбца с помощью двух методов.**"
   ]
  },
  {
   "cell_type": "code",
   "execution_count": 12,
   "id": "55f78bc2",
   "metadata": {
    "deletable": false,
    "id": "55f78bc2",
    "outputId": "8da1e4e1-358e-4e87-98c9-f261bce0a7b2"
   },
   "outputs": [
    {
     "data": {
      "text/plain": [
       "children            0\n",
       "days_employed       0\n",
       "dob_years           0\n",
       "education           0\n",
       "education_id        0\n",
       "family_status       0\n",
       "family_status_id    0\n",
       "gender              0\n",
       "income_type         0\n",
       "debt                0\n",
       "total_income        0\n",
       "purpose             0\n",
       "dtype: int64"
      ]
     },
     "execution_count": 12,
     "metadata": {},
     "output_type": "execute_result"
    }
   ],
   "source": [
    "data.isna().sum()"
   ]
  },
  {
   "cell_type": "markdown",
   "id": "ddc81e43",
   "metadata": {
    "deletable": false,
    "id": "ddc81e43"
   },
   "source": [
    "### Изменение типов данных"
   ]
  },
  {
   "cell_type": "markdown",
   "id": "42d19d24",
   "metadata": {
    "deletable": false,
    "id": "42d19d24"
   },
   "source": [
    "**Задание 13. Замените вещественный тип данных в столбце `total_income` на целочисленный с помощью метода `astype()`.**"
   ]
  },
  {
   "cell_type": "code",
   "execution_count": 13,
   "id": "920b65ad",
   "metadata": {
    "deletable": false,
    "id": "920b65ad"
   },
   "outputs": [],
   "source": [
    "data['total_income'] = data['total_income'].astype(int)"
   ]
  },
  {
   "cell_type": "markdown",
   "id": "80c420ba",
   "metadata": {
    "deletable": false,
    "id": "80c420ba"
   },
   "source": [
    "### Обработка дубликатов"
   ]
  },
  {
   "cell_type": "markdown",
   "id": "dc587695",
   "metadata": {
    "deletable": false,
    "id": "dc587695"
   },
   "source": [
    "**Задание 14. Выведите на экран количество строк-дубликатов в данных. Если такие строки присутствуют, удалите их.**"
   ]
  },
  {
   "cell_type": "code",
   "execution_count": 14,
   "id": "3ee445e4",
   "metadata": {
    "deletable": false,
    "id": "3ee445e4",
    "outputId": "9684deba-1934-42d1-99e1-cda61740f822"
   },
   "outputs": [
    {
     "data": {
      "text/plain": [
       "54"
      ]
     },
     "execution_count": 14,
     "metadata": {},
     "output_type": "execute_result"
    }
   ],
   "source": [
    "data.duplicated().sum()"
   ]
  },
  {
   "cell_type": "code",
   "execution_count": 15,
   "id": "8575fe05",
   "metadata": {
    "deletable": false,
    "id": "8575fe05"
   },
   "outputs": [],
   "source": [
    "data = data.drop_duplicates()"
   ]
  },
  {
   "cell_type": "markdown",
   "id": "9771a76c",
   "metadata": {
    "deletable": false,
    "id": "9771a76c"
   },
   "source": [
    "**Задание 15. Обработайте неявные дубликаты в столбце `education`. В этом столбце есть одни и те же значения, но записанные по-разному: с использованием заглавных и строчных букв. Приведите их к нижнему регистру. Проверьте остальные столбцы.**"
   ]
  },
  {
   "cell_type": "code",
   "execution_count": 16,
   "id": "a9f8e2bf",
   "metadata": {
    "deletable": false,
    "id": "a9f8e2bf"
   },
   "outputs": [],
   "source": [
    "data['education'] = data['education'].str.lower()"
   ]
  },
  {
   "cell_type": "markdown",
   "id": "9904cf55",
   "metadata": {
    "deletable": false,
    "id": "9904cf55"
   },
   "source": [
    "### Категоризация данных"
   ]
  },
  {
   "cell_type": "markdown",
   "id": "72fcc8a2",
   "metadata": {
    "deletable": false,
    "id": "72fcc8a2"
   },
   "source": [
    "**Задание 16. На основании диапазонов, указанных ниже, создайте в датафрейме `data` столбец `total_income_category` с категориями:**\n",
    "\n",
    "- 0–30000 — `'E'`;\n",
    "- 30001–50000 — `'D'`;\n",
    "- 50001–200000 — `'C'`;\n",
    "- 200001–1000000 — `'B'`;\n",
    "- 1000001 и выше — `'A'`.\n",
    "\n",
    "\n",
    "**Например, кредитополучателю с доходом 25000 нужно назначить категорию `'E'`, а клиенту, получающему 235000, — `'B'`. Используйте собственную функцию с именем `categorize_income()` и метод `apply()`.**"
   ]
  },
  {
   "cell_type": "code",
   "execution_count": 17,
   "id": "e1771346",
   "metadata": {
    "deletable": false,
    "id": "e1771346"
   },
   "outputs": [],
   "source": [
    "def categorize_income(income):\n",
    "    try:\n",
    "        if 0 <= income <= 30000:\n",
    "            return 'E'\n",
    "        elif 30001 <= income <= 50000:\n",
    "            return 'D'\n",
    "        elif 50001 <= income <= 200000:\n",
    "            return 'C'\n",
    "        elif 200001 <= income <= 1000000:\n",
    "            return 'B'\n",
    "        elif income >= 1000001:\n",
    "            return 'A'\n",
    "    except:\n",
    "        pass"
   ]
  },
  {
   "cell_type": "code",
   "execution_count": 18,
   "id": "d5f3586d",
   "metadata": {
    "deletable": false,
    "id": "d5f3586d"
   },
   "outputs": [],
   "source": [
    "data['total_income_category'] = data['total_income'].apply(categorize_income)"
   ]
  },
  {
   "cell_type": "markdown",
   "id": "dde49b5c",
   "metadata": {
    "deletable": false,
    "id": "dde49b5c"
   },
   "source": [
    "**Задание 17. Выведите на экран перечень уникальных целей взятия кредита из столбца `purpose`.**"
   ]
  },
  {
   "cell_type": "code",
   "execution_count": 19,
   "id": "f67ce9b3",
   "metadata": {
    "deletable": false,
    "id": "f67ce9b3",
    "outputId": "673c12d9-7d7e-4ae0-9812-c622c89dd244"
   },
   "outputs": [
    {
     "data": {
      "text/plain": [
       "array(['покупка жилья', 'приобретение автомобиля',\n",
       "       'дополнительное образование', 'сыграть свадьбу',\n",
       "       'операции с жильем', 'образование', 'на проведение свадьбы',\n",
       "       'покупка жилья для семьи', 'покупка недвижимости',\n",
       "       'покупка коммерческой недвижимости', 'покупка жилой недвижимости',\n",
       "       'строительство собственной недвижимости', 'недвижимость',\n",
       "       'строительство недвижимости', 'на покупку подержанного автомобиля',\n",
       "       'на покупку своего автомобиля',\n",
       "       'операции с коммерческой недвижимостью',\n",
       "       'строительство жилой недвижимости', 'жилье',\n",
       "       'операции со своей недвижимостью', 'автомобили',\n",
       "       'заняться образованием', 'сделка с подержанным автомобилем',\n",
       "       'получение образования', 'автомобиль', 'свадьба',\n",
       "       'получение дополнительного образования', 'покупка своего жилья',\n",
       "       'операции с недвижимостью', 'получение высшего образования',\n",
       "       'свой автомобиль', 'сделка с автомобилем',\n",
       "       'профильное образование', 'высшее образование',\n",
       "       'покупка жилья для сдачи', 'на покупку автомобиля', 'ремонт жилью',\n",
       "       'заняться высшим образованием'], dtype=object)"
      ]
     },
     "execution_count": 19,
     "metadata": {},
     "output_type": "execute_result"
    }
   ],
   "source": [
    "data['purpose'].unique()"
   ]
  },
  {
   "cell_type": "markdown",
   "id": "85d0aef0",
   "metadata": {
    "deletable": false,
    "id": "85d0aef0"
   },
   "source": [
    "**Задание 18. Создайте функцию, которая на основании данных из столбца `purpose` сформирует новый столбец `purpose_category`, в который войдут следующие категории:**\n",
    "\n",
    "- `'операции с автомобилем'`,\n",
    "- `'операции с недвижимостью'`,\n",
    "- `'проведение свадьбы'`,\n",
    "- `'получение образования'`.\n",
    "\n",
    "**Например, если в столбце `purpose` находится подстрока `'на покупку автомобиля'`, то в столбце `purpose_category` должна появиться строка `'операции с автомобилем'`.**\n",
    "\n",
    "**Используйте собственную функцию с именем `categorize_purpose()` и метод `apply()`. Изучите данные в столбце `purpose` и определите, какие подстроки помогут вам правильно определить категорию.**"
   ]
  },
  {
   "cell_type": "code",
   "execution_count": 20,
   "id": "e149fab4",
   "metadata": {
    "deletable": false,
    "id": "e149fab4"
   },
   "outputs": [],
   "source": [
    "def categorize_purpose(row):\n",
    "    try:\n",
    "        if 'автом' in row:\n",
    "            return 'операции с автомобилем'\n",
    "        elif 'жил' in row or 'недвиж' in row:\n",
    "            return 'операции с недвижимостью'\n",
    "        elif 'свад' in row:\n",
    "            return 'проведение свадьбы'\n",
    "        elif 'образов' in row:\n",
    "            return 'получение образования'\n",
    "    except:\n",
    "        return 'нет категории'"
   ]
  },
  {
   "cell_type": "code",
   "execution_count": 21,
   "id": "bf36e69b",
   "metadata": {
    "deletable": false,
    "id": "bf36e69b"
   },
   "outputs": [],
   "source": [
    "data['purpose_category'] = data['purpose'].apply(categorize_purpose)"
   ]
  },
  {
   "cell_type": "markdown",
   "id": "09b242bf",
   "metadata": {
    "deletable": false,
    "editable": false,
    "id": "09b242bf"
   },
   "source": [
    "## Исследуйте данные и ответьте на вопросы"
   ]
  },
  {
   "cell_type": "markdown",
   "id": "c59d8603",
   "metadata": {},
   "source": [
    "<div class=\"alert alert-danger\">\n",
    "<b>Комментарий ревьюера ❌:</b> Замечание по всему разделу ответов на вопросы\n",
    "    \n",
    "****\n",
    "У тебя хорошие навыки написания кода, в частности groupby, но все же в данном случае не обязательно усложнять код и писать его в несколько строк, достаточно в пивот воспользоваться встроенными функциями. Выведи пожалуйста в каждом из ответов аналогичную таблицу, в которой будет количество кредитополучателей, количество должников и долю должников с использованием пивот, сделать все это можно в одну строку. Немного подскажу, воспользуйся в aggfunc sum,count и mean\n",
    "    \n",
    "******\n",
    "    \n",
    "Дополни пожалуйста этот раздел работы)"
   ]
  },
  {
   "cell_type": "markdown",
   "id": "c5d66278",
   "metadata": {
    "deletable": false,
    "editable": false,
    "id": "c5d66278"
   },
   "source": [
    "**Задание 19. Есть ли зависимость между количеством детей и возвратом кредита в срок?**"
   ]
  },
  {
   "cell_type": "code",
   "execution_count": 22,
   "id": "2cacfc4a",
   "metadata": {
    "id": "2cacfc4a"
   },
   "outputs": [
    {
     "data": {
      "text/html": [
       "<div>\n",
       "<style scoped>\n",
       "    .dataframe tbody tr th:only-of-type {\n",
       "        vertical-align: middle;\n",
       "    }\n",
       "\n",
       "    .dataframe tbody tr th {\n",
       "        vertical-align: top;\n",
       "    }\n",
       "\n",
       "    .dataframe thead tr th {\n",
       "        text-align: left;\n",
       "    }\n",
       "\n",
       "    .dataframe thead tr:last-of-type th {\n",
       "        text-align: right;\n",
       "    }\n",
       "</style>\n",
       "<table border=\"1\" class=\"dataframe\">\n",
       "  <thead>\n",
       "    <tr>\n",
       "      <th></th>\n",
       "      <th colspan=\"2\" halign=\"left\">debt</th>\n",
       "      <th>procentage</th>\n",
       "    </tr>\n",
       "    <tr>\n",
       "      <th></th>\n",
       "      <th>credit_total</th>\n",
       "      <th>in_debt</th>\n",
       "      <th></th>\n",
       "    </tr>\n",
       "    <tr>\n",
       "      <th>children</th>\n",
       "      <th></th>\n",
       "      <th></th>\n",
       "      <th></th>\n",
       "    </tr>\n",
       "  </thead>\n",
       "  <tbody>\n",
       "    <tr>\n",
       "      <th>4</th>\n",
       "      <td>41</td>\n",
       "      <td>4</td>\n",
       "      <td>9.756098</td>\n",
       "    </tr>\n",
       "    <tr>\n",
       "      <th>2</th>\n",
       "      <td>2052</td>\n",
       "      <td>194</td>\n",
       "      <td>9.454191</td>\n",
       "    </tr>\n",
       "    <tr>\n",
       "      <th>1</th>\n",
       "      <td>4809</td>\n",
       "      <td>444</td>\n",
       "      <td>9.232689</td>\n",
       "    </tr>\n",
       "    <tr>\n",
       "      <th>3</th>\n",
       "      <td>330</td>\n",
       "      <td>27</td>\n",
       "      <td>8.181818</td>\n",
       "    </tr>\n",
       "    <tr>\n",
       "      <th>0</th>\n",
       "      <td>14107</td>\n",
       "      <td>1063</td>\n",
       "      <td>7.535266</td>\n",
       "    </tr>\n",
       "    <tr>\n",
       "      <th>5</th>\n",
       "      <td>9</td>\n",
       "      <td>0</td>\n",
       "      <td>0.000000</td>\n",
       "    </tr>\n",
       "  </tbody>\n",
       "</table>\n",
       "</div>"
      ],
      "text/plain": [
       "                 debt         procentage\n",
       "         credit_total in_debt           \n",
       "children                                \n",
       "4                  41       4   9.756098\n",
       "2                2052     194   9.454191\n",
       "1                4809     444   9.232689\n",
       "3                 330      27   8.181818\n",
       "0               14107    1063   7.535266\n",
       "5                   9       0   0.000000"
      ]
     },
     "execution_count": 22,
     "metadata": {},
     "output_type": "execute_result"
    }
   ],
   "source": [
    "# Ваш код будет здесь. Вы можете создавать новые ячейки.\n",
    "debt_children = data.groupby('children').agg({'debt': ['count', 'sum']}) #группируем по колличеству детей, соотносим данные по таблице\n",
    "debt_children['procentage'] = debt_children['debt']['sum'] / debt_children['debt']['count'] * 100 #считаем конверсию, переводим в проценты\n",
    "debt_children = debt_children.rename(columns={'count': 'credit_total', 'sum': 'in_debt'}) #для удобства пользования переименуем колонки на более понятные названия\n",
    "debt_children.sort_values('procentage', ascending = False) #сортируем по процентам должников, чем выше, тем больше должников"
   ]
  },
  {
   "cell_type": "code",
   "execution_count": 23,
   "id": "125ea99b",
   "metadata": {},
   "outputs": [
    {
     "data": {
      "text/html": [
       "<div>\n",
       "<style scoped>\n",
       "    .dataframe tbody tr th:only-of-type {\n",
       "        vertical-align: middle;\n",
       "    }\n",
       "\n",
       "    .dataframe tbody tr th {\n",
       "        vertical-align: top;\n",
       "    }\n",
       "\n",
       "    .dataframe thead tr th {\n",
       "        text-align: left;\n",
       "    }\n",
       "\n",
       "    .dataframe thead tr:last-of-type th {\n",
       "        text-align: right;\n",
       "    }\n",
       "</style>\n",
       "<table border=\"1\" class=\"dataframe\">\n",
       "  <thead>\n",
       "    <tr>\n",
       "      <th></th>\n",
       "      <th colspan=\"3\" halign=\"left\">debt</th>\n",
       "    </tr>\n",
       "    <tr>\n",
       "      <th></th>\n",
       "      <th>count</th>\n",
       "      <th>mean</th>\n",
       "      <th>sum</th>\n",
       "    </tr>\n",
       "    <tr>\n",
       "      <th>children</th>\n",
       "      <th></th>\n",
       "      <th></th>\n",
       "      <th></th>\n",
       "    </tr>\n",
       "  </thead>\n",
       "  <tbody>\n",
       "    <tr>\n",
       "      <th>0</th>\n",
       "      <td>14107.0</td>\n",
       "      <td>0.075353</td>\n",
       "      <td>1063.0</td>\n",
       "    </tr>\n",
       "    <tr>\n",
       "      <th>1</th>\n",
       "      <td>4809.0</td>\n",
       "      <td>0.092327</td>\n",
       "      <td>444.0</td>\n",
       "    </tr>\n",
       "    <tr>\n",
       "      <th>2</th>\n",
       "      <td>2052.0</td>\n",
       "      <td>0.094542</td>\n",
       "      <td>194.0</td>\n",
       "    </tr>\n",
       "    <tr>\n",
       "      <th>3</th>\n",
       "      <td>330.0</td>\n",
       "      <td>0.081818</td>\n",
       "      <td>27.0</td>\n",
       "    </tr>\n",
       "    <tr>\n",
       "      <th>4</th>\n",
       "      <td>41.0</td>\n",
       "      <td>0.097561</td>\n",
       "      <td>4.0</td>\n",
       "    </tr>\n",
       "    <tr>\n",
       "      <th>5</th>\n",
       "      <td>9.0</td>\n",
       "      <td>0.000000</td>\n",
       "      <td>0.0</td>\n",
       "    </tr>\n",
       "  </tbody>\n",
       "</table>\n",
       "</div>"
      ],
      "text/plain": [
       "             debt                  \n",
       "            count      mean     sum\n",
       "children                           \n",
       "0         14107.0  0.075353  1063.0\n",
       "1          4809.0  0.092327   444.0\n",
       "2          2052.0  0.094542   194.0\n",
       "3           330.0  0.081818    27.0\n",
       "4            41.0  0.097561     4.0\n",
       "5             9.0  0.000000     0.0"
      ]
     },
     "execution_count": 23,
     "metadata": {},
     "output_type": "execute_result"
    }
   ],
   "source": [
    "pd.pivot_table(data,index=[\"children\"],values=['debt'],aggfunc={\"debt\":['sum','count','mean']})"
   ]
  },
  {
   "cell_type": "markdown",
   "id": "3f87c113",
   "metadata": {},
   "source": [
    "<div class=\"alert alert-success\">\n",
    "<b>Комментарий ревьюера v 2.0 ✔️:</b> Совершенно верно, задача решена при помощи пивот отлично"
   ]
  },
  {
   "cell_type": "markdown",
   "id": "3a6b99ec",
   "metadata": {
    "deletable": false,
    "id": "3a6b99ec"
   },
   "source": [
    "**Вывод:** Люди без детей реже пропускают срок оплаты по кредиту. Есть некоторая тенденция к тому что с увеличением колличества детей, увеличивается колличество просроченных задолжностей, однако у людей с тремя детьми процент должников меньше чем у людей с 1, 2, 4 детьми. В текущей выборке сложно оценить зависимость."
   ]
  },
  {
   "cell_type": "markdown",
   "id": "ff0e7181",
   "metadata": {},
   "source": [
    "<div class=\"alert alert-success\">\n",
    "<b>Комментарий ревьюера ✔️:</b> Хорошо исследовал все особеноости зависимостей, все верно"
   ]
  },
  {
   "cell_type": "markdown",
   "id": "97be82ca",
   "metadata": {
    "deletable": false,
    "editable": false,
    "id": "97be82ca"
   },
   "source": [
    "**Задание 20. Есть ли зависимость между семейным положением и возвратом кредита в срок?**"
   ]
  },
  {
   "cell_type": "code",
   "execution_count": 24,
   "id": "dc3f7ee8",
   "metadata": {
    "id": "dc3f7ee8"
   },
   "outputs": [
    {
     "data": {
      "text/html": [
       "<div>\n",
       "<style scoped>\n",
       "    .dataframe tbody tr th:only-of-type {\n",
       "        vertical-align: middle;\n",
       "    }\n",
       "\n",
       "    .dataframe tbody tr th {\n",
       "        vertical-align: top;\n",
       "    }\n",
       "\n",
       "    .dataframe thead tr th {\n",
       "        text-align: left;\n",
       "    }\n",
       "\n",
       "    .dataframe thead tr:last-of-type th {\n",
       "        text-align: right;\n",
       "    }\n",
       "</style>\n",
       "<table border=\"1\" class=\"dataframe\">\n",
       "  <thead>\n",
       "    <tr>\n",
       "      <th></th>\n",
       "      <th colspan=\"2\" halign=\"left\">debt</th>\n",
       "      <th>procentage</th>\n",
       "    </tr>\n",
       "    <tr>\n",
       "      <th></th>\n",
       "      <th>credit_total</th>\n",
       "      <th>in_debt</th>\n",
       "      <th></th>\n",
       "    </tr>\n",
       "    <tr>\n",
       "      <th>family_status</th>\n",
       "      <th></th>\n",
       "      <th></th>\n",
       "      <th></th>\n",
       "    </tr>\n",
       "  </thead>\n",
       "  <tbody>\n",
       "    <tr>\n",
       "      <th>Не женат / не замужем</th>\n",
       "      <td>2796</td>\n",
       "      <td>273</td>\n",
       "      <td>9.763948</td>\n",
       "    </tr>\n",
       "    <tr>\n",
       "      <th>гражданский брак</th>\n",
       "      <td>4146</td>\n",
       "      <td>385</td>\n",
       "      <td>9.286059</td>\n",
       "    </tr>\n",
       "    <tr>\n",
       "      <th>женат / замужем</th>\n",
       "      <td>12266</td>\n",
       "      <td>927</td>\n",
       "      <td>7.557476</td>\n",
       "    </tr>\n",
       "    <tr>\n",
       "      <th>в разводе</th>\n",
       "      <td>1189</td>\n",
       "      <td>84</td>\n",
       "      <td>7.064760</td>\n",
       "    </tr>\n",
       "    <tr>\n",
       "      <th>вдовец / вдова</th>\n",
       "      <td>951</td>\n",
       "      <td>63</td>\n",
       "      <td>6.624606</td>\n",
       "    </tr>\n",
       "  </tbody>\n",
       "</table>\n",
       "</div>"
      ],
      "text/plain": [
       "                              debt         procentage\n",
       "                      credit_total in_debt           \n",
       "family_status                                        \n",
       "Не женат / не замужем         2796     273   9.763948\n",
       "гражданский брак              4146     385   9.286059\n",
       "женат / замужем              12266     927   7.557476\n",
       "в разводе                     1189      84   7.064760\n",
       "вдовец / вдова                 951      63   6.624606"
      ]
     },
     "execution_count": 24,
     "metadata": {},
     "output_type": "execute_result"
    }
   ],
   "source": [
    "# Ваш код будет здесь. Вы можете создавать новые ячейки.\n",
    "debt_family = data.groupby('family_status').agg({'debt': ['count', 'sum']})\n",
    "debt_family['procentage'] = debt_family['debt']['sum'] / debt_family['debt']['count'] * 100\n",
    "debt_family = debt_family.rename(columns={'count': 'credit_total', 'sum': 'in_debt'})\n",
    "debt_family.sort_values('procentage', ascending = False)"
   ]
  },
  {
   "cell_type": "code",
   "execution_count": 25,
   "id": "90318863",
   "metadata": {},
   "outputs": [
    {
     "data": {
      "text/html": [
       "<div>\n",
       "<style scoped>\n",
       "    .dataframe tbody tr th:only-of-type {\n",
       "        vertical-align: middle;\n",
       "    }\n",
       "\n",
       "    .dataframe tbody tr th {\n",
       "        vertical-align: top;\n",
       "    }\n",
       "\n",
       "    .dataframe thead tr th {\n",
       "        text-align: left;\n",
       "    }\n",
       "\n",
       "    .dataframe thead tr:last-of-type th {\n",
       "        text-align: right;\n",
       "    }\n",
       "</style>\n",
       "<table border=\"1\" class=\"dataframe\">\n",
       "  <thead>\n",
       "    <tr>\n",
       "      <th></th>\n",
       "      <th colspan=\"3\" halign=\"left\">debt</th>\n",
       "    </tr>\n",
       "    <tr>\n",
       "      <th></th>\n",
       "      <th>count</th>\n",
       "      <th>mean</th>\n",
       "      <th>sum</th>\n",
       "    </tr>\n",
       "    <tr>\n",
       "      <th>family_status</th>\n",
       "      <th></th>\n",
       "      <th></th>\n",
       "      <th></th>\n",
       "    </tr>\n",
       "  </thead>\n",
       "  <tbody>\n",
       "    <tr>\n",
       "      <th>Не женат / не замужем</th>\n",
       "      <td>2796.0</td>\n",
       "      <td>0.097639</td>\n",
       "      <td>273.0</td>\n",
       "    </tr>\n",
       "    <tr>\n",
       "      <th>в разводе</th>\n",
       "      <td>1189.0</td>\n",
       "      <td>0.070648</td>\n",
       "      <td>84.0</td>\n",
       "    </tr>\n",
       "    <tr>\n",
       "      <th>вдовец / вдова</th>\n",
       "      <td>951.0</td>\n",
       "      <td>0.066246</td>\n",
       "      <td>63.0</td>\n",
       "    </tr>\n",
       "    <tr>\n",
       "      <th>гражданский брак</th>\n",
       "      <td>4146.0</td>\n",
       "      <td>0.092861</td>\n",
       "      <td>385.0</td>\n",
       "    </tr>\n",
       "    <tr>\n",
       "      <th>женат / замужем</th>\n",
       "      <td>12266.0</td>\n",
       "      <td>0.075575</td>\n",
       "      <td>927.0</td>\n",
       "    </tr>\n",
       "  </tbody>\n",
       "</table>\n",
       "</div>"
      ],
      "text/plain": [
       "                          debt                 \n",
       "                         count      mean    sum\n",
       "family_status                                  \n",
       "Не женат / не замужем   2796.0  0.097639  273.0\n",
       "в разводе               1189.0  0.070648   84.0\n",
       "вдовец / вдова           951.0  0.066246   63.0\n",
       "гражданский брак        4146.0  0.092861  385.0\n",
       "женат / замужем        12266.0  0.075575  927.0"
      ]
     },
     "execution_count": 25,
     "metadata": {},
     "output_type": "execute_result"
    }
   ],
   "source": [
    "pd.pivot_table(data,index=[\"family_status\"],values=['debt'],aggfunc={\"debt\":['sum','count','mean']})"
   ]
  },
  {
   "cell_type": "markdown",
   "id": "1cef7837",
   "metadata": {
    "deletable": false,
    "id": "1cef7837"
   },
   "source": [
    "**Вывод:** Зависимость прослеживается, люди в статусе \"Не женат / не замужем\" и \"гражданский брак\" реже возвращают долги, меньше всего долгов у людей со статусом \"вдовец / вдова\""
   ]
  },
  {
   "cell_type": "markdown",
   "id": "b542cb15",
   "metadata": {},
   "source": [
    "<div class=\"alert alert-success\">\n",
    "<b>Комментарий ревьюера ✔️:</b> Да, тут можно заметить, что те люди, в жизни которых в каком-то виде был брак чуть более надежны в плане кредитов"
   ]
  },
  {
   "cell_type": "markdown",
   "id": "1e8b2fca",
   "metadata": {
    "deletable": false,
    "editable": false,
    "id": "1e8b2fca"
   },
   "source": [
    "**Задание 21. Есть ли зависимость между уровнем дохода и возвратом кредита в срок?**"
   ]
  },
  {
   "cell_type": "code",
   "execution_count": 26,
   "id": "cd7e3720",
   "metadata": {
    "id": "cd7e3720"
   },
   "outputs": [
    {
     "data": {
      "text/html": [
       "<div>\n",
       "<style scoped>\n",
       "    .dataframe tbody tr th:only-of-type {\n",
       "        vertical-align: middle;\n",
       "    }\n",
       "\n",
       "    .dataframe tbody tr th {\n",
       "        vertical-align: top;\n",
       "    }\n",
       "\n",
       "    .dataframe thead tr th {\n",
       "        text-align: left;\n",
       "    }\n",
       "\n",
       "    .dataframe thead tr:last-of-type th {\n",
       "        text-align: right;\n",
       "    }\n",
       "</style>\n",
       "<table border=\"1\" class=\"dataframe\">\n",
       "  <thead>\n",
       "    <tr>\n",
       "      <th></th>\n",
       "      <th colspan=\"2\" halign=\"left\">debt</th>\n",
       "      <th>procentage</th>\n",
       "    </tr>\n",
       "    <tr>\n",
       "      <th></th>\n",
       "      <th>credit_total</th>\n",
       "      <th>in_debt</th>\n",
       "      <th></th>\n",
       "    </tr>\n",
       "    <tr>\n",
       "      <th>total_income_category</th>\n",
       "      <th></th>\n",
       "      <th></th>\n",
       "      <th></th>\n",
       "    </tr>\n",
       "  </thead>\n",
       "  <tbody>\n",
       "    <tr>\n",
       "      <th>A</th>\n",
       "      <td>25</td>\n",
       "      <td>2</td>\n",
       "      <td>8.000000</td>\n",
       "    </tr>\n",
       "    <tr>\n",
       "      <th>B</th>\n",
       "      <td>5014</td>\n",
       "      <td>354</td>\n",
       "      <td>7.060231</td>\n",
       "    </tr>\n",
       "    <tr>\n",
       "      <th>C</th>\n",
       "      <td>15938</td>\n",
       "      <td>1353</td>\n",
       "      <td>8.489145</td>\n",
       "    </tr>\n",
       "    <tr>\n",
       "      <th>D</th>\n",
       "      <td>349</td>\n",
       "      <td>21</td>\n",
       "      <td>6.017192</td>\n",
       "    </tr>\n",
       "    <tr>\n",
       "      <th>E</th>\n",
       "      <td>22</td>\n",
       "      <td>2</td>\n",
       "      <td>9.090909</td>\n",
       "    </tr>\n",
       "  </tbody>\n",
       "</table>\n",
       "</div>"
      ],
      "text/plain": [
       "                              debt         procentage\n",
       "                      credit_total in_debt           \n",
       "total_income_category                                \n",
       "A                               25       2   8.000000\n",
       "B                             5014     354   7.060231\n",
       "C                            15938    1353   8.489145\n",
       "D                              349      21   6.017192\n",
       "E                               22       2   9.090909"
      ]
     },
     "execution_count": 26,
     "metadata": {},
     "output_type": "execute_result"
    }
   ],
   "source": [
    "# Ваш код будет здесь. Вы можете создавать новые ячейки.\n",
    "debt_total_income = data.groupby('total_income_category').agg({'debt': ['count', 'sum']})\n",
    "debt_total_income['procentage'] = debt_total_income['debt']['sum'] / debt_total_income['debt']['count'] * 100\n",
    "debt_total_income = debt_total_income.rename(columns={'count': 'credit_total', 'sum': 'in_debt'})\n",
    "debt_total_income.sort_values('procentage', ascending = False)\n",
    "debt_total_income\n",
    "#исходя из таблицы категорий, которые мы сделали ранее A B C D E, сложно судить и я решил разбить на более мелкие сегменты"
   ]
  },
  {
   "cell_type": "code",
   "execution_count": 27,
   "id": "ccee4d74",
   "metadata": {},
   "outputs": [
    {
     "data": {
      "text/html": [
       "<div>\n",
       "<style scoped>\n",
       "    .dataframe tbody tr th:only-of-type {\n",
       "        vertical-align: middle;\n",
       "    }\n",
       "\n",
       "    .dataframe tbody tr th {\n",
       "        vertical-align: top;\n",
       "    }\n",
       "\n",
       "    .dataframe thead tr th {\n",
       "        text-align: left;\n",
       "    }\n",
       "\n",
       "    .dataframe thead tr:last-of-type th {\n",
       "        text-align: right;\n",
       "    }\n",
       "</style>\n",
       "<table border=\"1\" class=\"dataframe\">\n",
       "  <thead>\n",
       "    <tr>\n",
       "      <th></th>\n",
       "      <th colspan=\"3\" halign=\"left\">debt</th>\n",
       "    </tr>\n",
       "    <tr>\n",
       "      <th></th>\n",
       "      <th>count</th>\n",
       "      <th>mean</th>\n",
       "      <th>sum</th>\n",
       "    </tr>\n",
       "    <tr>\n",
       "      <th>total_income_category</th>\n",
       "      <th></th>\n",
       "      <th></th>\n",
       "      <th></th>\n",
       "    </tr>\n",
       "  </thead>\n",
       "  <tbody>\n",
       "    <tr>\n",
       "      <th>A</th>\n",
       "      <td>25.0</td>\n",
       "      <td>0.080000</td>\n",
       "      <td>2.0</td>\n",
       "    </tr>\n",
       "    <tr>\n",
       "      <th>B</th>\n",
       "      <td>5014.0</td>\n",
       "      <td>0.070602</td>\n",
       "      <td>354.0</td>\n",
       "    </tr>\n",
       "    <tr>\n",
       "      <th>C</th>\n",
       "      <td>15938.0</td>\n",
       "      <td>0.084891</td>\n",
       "      <td>1353.0</td>\n",
       "    </tr>\n",
       "    <tr>\n",
       "      <th>D</th>\n",
       "      <td>349.0</td>\n",
       "      <td>0.060172</td>\n",
       "      <td>21.0</td>\n",
       "    </tr>\n",
       "    <tr>\n",
       "      <th>E</th>\n",
       "      <td>22.0</td>\n",
       "      <td>0.090909</td>\n",
       "      <td>2.0</td>\n",
       "    </tr>\n",
       "  </tbody>\n",
       "</table>\n",
       "</div>"
      ],
      "text/plain": [
       "                          debt                  \n",
       "                         count      mean     sum\n",
       "total_income_category                           \n",
       "A                         25.0  0.080000     2.0\n",
       "B                       5014.0  0.070602   354.0\n",
       "C                      15938.0  0.084891  1353.0\n",
       "D                        349.0  0.060172    21.0\n",
       "E                         22.0  0.090909     2.0"
      ]
     },
     "execution_count": 27,
     "metadata": {},
     "output_type": "execute_result"
    }
   ],
   "source": [
    "pd.pivot_table(data,index=[\"total_income_category\"],values=['debt'],aggfunc={\"debt\":['sum','count','mean']})"
   ]
  },
  {
   "cell_type": "markdown",
   "id": "8a5d8b1e",
   "metadata": {},
   "source": [
    "<div class=\"alert alert-success\">\n",
    "<b>Комментарий ревьюера ✔️:</b> Классно дополнил дополнительной разбивкой"
   ]
  },
  {
   "cell_type": "code",
   "execution_count": 28,
   "id": "6b18f116",
   "metadata": {},
   "outputs": [
    {
     "data": {
      "text/html": [
       "<div>\n",
       "<style scoped>\n",
       "    .dataframe tbody tr th:only-of-type {\n",
       "        vertical-align: middle;\n",
       "    }\n",
       "\n",
       "    .dataframe tbody tr th {\n",
       "        vertical-align: top;\n",
       "    }\n",
       "\n",
       "    .dataframe thead tr th {\n",
       "        text-align: left;\n",
       "    }\n",
       "\n",
       "    .dataframe thead tr:last-of-type th {\n",
       "        text-align: right;\n",
       "    }\n",
       "</style>\n",
       "<table border=\"1\" class=\"dataframe\">\n",
       "  <thead>\n",
       "    <tr>\n",
       "      <th></th>\n",
       "      <th colspan=\"2\" halign=\"left\">debt</th>\n",
       "      <th>procentage</th>\n",
       "    </tr>\n",
       "    <tr>\n",
       "      <th></th>\n",
       "      <th>count</th>\n",
       "      <th>sum</th>\n",
       "      <th></th>\n",
       "    </tr>\n",
       "    <tr>\n",
       "      <th>total_income_id</th>\n",
       "      <th></th>\n",
       "      <th></th>\n",
       "      <th></th>\n",
       "    </tr>\n",
       "  </thead>\n",
       "  <tbody>\n",
       "    <tr>\n",
       "      <th>0</th>\n",
       "      <td>8</td>\n",
       "      <td>1</td>\n",
       "      <td>12.500000</td>\n",
       "    </tr>\n",
       "    <tr>\n",
       "      <th>14</th>\n",
       "      <td>186</td>\n",
       "      <td>17</td>\n",
       "      <td>9.139785</td>\n",
       "    </tr>\n",
       "    <tr>\n",
       "      <th>13</th>\n",
       "      <td>305</td>\n",
       "      <td>27</td>\n",
       "      <td>8.852459</td>\n",
       "    </tr>\n",
       "    <tr>\n",
       "      <th>4</th>\n",
       "      <td>3280</td>\n",
       "      <td>288</td>\n",
       "      <td>8.780488</td>\n",
       "    </tr>\n",
       "    <tr>\n",
       "      <th>7</th>\n",
       "      <td>1704</td>\n",
       "      <td>149</td>\n",
       "      <td>8.744131</td>\n",
       "    </tr>\n",
       "    <tr>\n",
       "      <th>5</th>\n",
       "      <td>3845</td>\n",
       "      <td>331</td>\n",
       "      <td>8.608583</td>\n",
       "    </tr>\n",
       "    <tr>\n",
       "      <th>3</th>\n",
       "      <td>2590</td>\n",
       "      <td>218</td>\n",
       "      <td>8.416988</td>\n",
       "    </tr>\n",
       "    <tr>\n",
       "      <th>6</th>\n",
       "      <td>3036</td>\n",
       "      <td>254</td>\n",
       "      <td>8.366271</td>\n",
       "    </tr>\n",
       "    <tr>\n",
       "      <th>12</th>\n",
       "      <td>312</td>\n",
       "      <td>24</td>\n",
       "      <td>7.692308</td>\n",
       "    </tr>\n",
       "    <tr>\n",
       "      <th>2</th>\n",
       "      <td>1483</td>\n",
       "      <td>113</td>\n",
       "      <td>7.619690</td>\n",
       "    </tr>\n",
       "    <tr>\n",
       "      <th>9</th>\n",
       "      <td>956</td>\n",
       "      <td>72</td>\n",
       "      <td>7.531381</td>\n",
       "    </tr>\n",
       "    <tr>\n",
       "      <th>8</th>\n",
       "      <td>1286</td>\n",
       "      <td>90</td>\n",
       "      <td>6.998445</td>\n",
       "    </tr>\n",
       "    <tr>\n",
       "      <th>17</th>\n",
       "      <td>86</td>\n",
       "      <td>6</td>\n",
       "      <td>6.976744</td>\n",
       "    </tr>\n",
       "    <tr>\n",
       "      <th>11</th>\n",
       "      <td>533</td>\n",
       "      <td>36</td>\n",
       "      <td>6.754221</td>\n",
       "    </tr>\n",
       "    <tr>\n",
       "      <th>10</th>\n",
       "      <td>790</td>\n",
       "      <td>52</td>\n",
       "      <td>6.582278</td>\n",
       "    </tr>\n",
       "    <tr>\n",
       "      <th>16</th>\n",
       "      <td>109</td>\n",
       "      <td>7</td>\n",
       "      <td>6.422018</td>\n",
       "    </tr>\n",
       "    <tr>\n",
       "      <th>20</th>\n",
       "      <td>222</td>\n",
       "      <td>14</td>\n",
       "      <td>6.306306</td>\n",
       "    </tr>\n",
       "    <tr>\n",
       "      <th>1</th>\n",
       "      <td>363</td>\n",
       "      <td>22</td>\n",
       "      <td>6.060606</td>\n",
       "    </tr>\n",
       "    <tr>\n",
       "      <th>15</th>\n",
       "      <td>143</td>\n",
       "      <td>7</td>\n",
       "      <td>4.895105</td>\n",
       "    </tr>\n",
       "    <tr>\n",
       "      <th>18</th>\n",
       "      <td>53</td>\n",
       "      <td>2</td>\n",
       "      <td>3.773585</td>\n",
       "    </tr>\n",
       "    <tr>\n",
       "      <th>19</th>\n",
       "      <td>58</td>\n",
       "      <td>2</td>\n",
       "      <td>3.448276</td>\n",
       "    </tr>\n",
       "  </tbody>\n",
       "</table>\n",
       "</div>"
      ],
      "text/plain": [
       "                 debt      procentage\n",
       "                count  sum           \n",
       "total_income_id                      \n",
       "0                   8    1  12.500000\n",
       "14                186   17   9.139785\n",
       "13                305   27   8.852459\n",
       "4                3280  288   8.780488\n",
       "7                1704  149   8.744131\n",
       "5                3845  331   8.608583\n",
       "3                2590  218   8.416988\n",
       "6                3036  254   8.366271\n",
       "12                312   24   7.692308\n",
       "2                1483  113   7.619690\n",
       "9                 956   72   7.531381\n",
       "8                1286   90   6.998445\n",
       "17                 86    6   6.976744\n",
       "11                533   36   6.754221\n",
       "10                790   52   6.582278\n",
       "16                109    7   6.422018\n",
       "20                222   14   6.306306\n",
       "1                 363   22   6.060606\n",
       "15                143    7   4.895105\n",
       "18                 53    2   3.773585\n",
       "19                 58    2   3.448276"
      ]
     },
     "execution_count": 28,
     "metadata": {},
     "output_type": "execute_result"
    }
   ],
   "source": [
    "def total_income_category(income): #создаем функцию для категоризации по уровню дохода\n",
    "    if income >= 500000:\n",
    "        return 20\n",
    "    else:\n",
    "        income = income // 25000 #целочисленно делим на 25k, сделаем 20 условных групп\n",
    "        return income\n",
    "data['total_income_id'] = data['total_income'].apply(total_income_category)\n",
    "data['total_income_id'].value_counts()\n",
    "debt_family = data.groupby('total_income_id').agg({'debt': ['count', 'sum']}) \n",
    "debt_family['procentage'] = debt_family['debt']['sum'] / debt_family['debt']['count'] * 100\n",
    "debt_family.sort_values('procentage', ascending = False)"
   ]
  },
  {
   "cell_type": "markdown",
   "id": "e8593def",
   "metadata": {
    "deletable": false,
    "id": "e8593def"
   },
   "source": [
    "**Вывод:** Целевые группы ведут себя хаотично. Делаем вывод что зависимости здесь нет."
   ]
  },
  {
   "cell_type": "markdown",
   "id": "a7570be2",
   "metadata": {},
   "source": [
    "<div class=\"alert alert-success\">\n",
    "<b>Комментарий ревьюера ✔️:</b> В целом, согласен, зависимость здесь нелинейна, отследить ее проблематично"
   ]
  },
  {
   "cell_type": "markdown",
   "id": "99ecbd1f",
   "metadata": {
    "deletable": false,
    "editable": false,
    "id": "99ecbd1f"
   },
   "source": [
    "**Задание 22. Как разные цели кредита влияют на его возврат в срок?**"
   ]
  },
  {
   "cell_type": "code",
   "execution_count": 29,
   "id": "2b687290",
   "metadata": {
    "id": "2b687290"
   },
   "outputs": [
    {
     "data": {
      "text/html": [
       "<div>\n",
       "<style scoped>\n",
       "    .dataframe tbody tr th:only-of-type {\n",
       "        vertical-align: middle;\n",
       "    }\n",
       "\n",
       "    .dataframe tbody tr th {\n",
       "        vertical-align: top;\n",
       "    }\n",
       "\n",
       "    .dataframe thead tr th {\n",
       "        text-align: left;\n",
       "    }\n",
       "\n",
       "    .dataframe thead tr:last-of-type th {\n",
       "        text-align: right;\n",
       "    }\n",
       "</style>\n",
       "<table border=\"1\" class=\"dataframe\">\n",
       "  <thead>\n",
       "    <tr>\n",
       "      <th></th>\n",
       "      <th colspan=\"2\" halign=\"left\">debt</th>\n",
       "      <th>procentage</th>\n",
       "    </tr>\n",
       "    <tr>\n",
       "      <th></th>\n",
       "      <th>credit_total</th>\n",
       "      <th>in_debt</th>\n",
       "      <th></th>\n",
       "    </tr>\n",
       "    <tr>\n",
       "      <th>purpose_category</th>\n",
       "      <th></th>\n",
       "      <th></th>\n",
       "      <th></th>\n",
       "    </tr>\n",
       "  </thead>\n",
       "  <tbody>\n",
       "    <tr>\n",
       "      <th>операции с автомобилем</th>\n",
       "      <td>4281</td>\n",
       "      <td>400</td>\n",
       "      <td>9.343611</td>\n",
       "    </tr>\n",
       "    <tr>\n",
       "      <th>получение образования</th>\n",
       "      <td>3989</td>\n",
       "      <td>369</td>\n",
       "      <td>9.250439</td>\n",
       "    </tr>\n",
       "    <tr>\n",
       "      <th>проведение свадьбы</th>\n",
       "      <td>2324</td>\n",
       "      <td>183</td>\n",
       "      <td>7.874355</td>\n",
       "    </tr>\n",
       "    <tr>\n",
       "      <th>операции с недвижимостью</th>\n",
       "      <td>10754</td>\n",
       "      <td>780</td>\n",
       "      <td>7.253115</td>\n",
       "    </tr>\n",
       "  </tbody>\n",
       "</table>\n",
       "</div>"
      ],
      "text/plain": [
       "                                 debt         procentage\n",
       "                         credit_total in_debt           \n",
       "purpose_category                                        \n",
       "операции с автомобилем           4281     400   9.343611\n",
       "получение образования            3989     369   9.250439\n",
       "проведение свадьбы               2324     183   7.874355\n",
       "операции с недвижимостью        10754     780   7.253115"
      ]
     },
     "execution_count": 29,
     "metadata": {},
     "output_type": "execute_result"
    }
   ],
   "source": [
    "# Ваш код будет здесь. Вы можете создавать новые ячейки.\n",
    "debt_purpose = data.groupby('purpose_category').agg({'debt': ['count', 'sum']})\n",
    "debt_purpose['procentage'] = debt_purpose['debt']['sum'] / debt_purpose['debt']['count'] * 100\n",
    "debt_purpose = debt_purpose.rename(columns={'count': 'credit_total', 'sum': 'in_debt'})\n",
    "debt_purpose.sort_values('procentage', ascending = False)"
   ]
  },
  {
   "cell_type": "code",
   "execution_count": 30,
   "id": "3df14383",
   "metadata": {},
   "outputs": [
    {
     "data": {
      "text/html": [
       "<div>\n",
       "<style scoped>\n",
       "    .dataframe tbody tr th:only-of-type {\n",
       "        vertical-align: middle;\n",
       "    }\n",
       "\n",
       "    .dataframe tbody tr th {\n",
       "        vertical-align: top;\n",
       "    }\n",
       "\n",
       "    .dataframe thead tr th {\n",
       "        text-align: left;\n",
       "    }\n",
       "\n",
       "    .dataframe thead tr:last-of-type th {\n",
       "        text-align: right;\n",
       "    }\n",
       "</style>\n",
       "<table border=\"1\" class=\"dataframe\">\n",
       "  <thead>\n",
       "    <tr>\n",
       "      <th></th>\n",
       "      <th colspan=\"3\" halign=\"left\">debt</th>\n",
       "    </tr>\n",
       "    <tr>\n",
       "      <th></th>\n",
       "      <th>count</th>\n",
       "      <th>mean</th>\n",
       "      <th>sum</th>\n",
       "    </tr>\n",
       "    <tr>\n",
       "      <th>purpose_category</th>\n",
       "      <th></th>\n",
       "      <th></th>\n",
       "      <th></th>\n",
       "    </tr>\n",
       "  </thead>\n",
       "  <tbody>\n",
       "    <tr>\n",
       "      <th>операции с автомобилем</th>\n",
       "      <td>4281.0</td>\n",
       "      <td>0.093436</td>\n",
       "      <td>400.0</td>\n",
       "    </tr>\n",
       "    <tr>\n",
       "      <th>операции с недвижимостью</th>\n",
       "      <td>10754.0</td>\n",
       "      <td>0.072531</td>\n",
       "      <td>780.0</td>\n",
       "    </tr>\n",
       "    <tr>\n",
       "      <th>получение образования</th>\n",
       "      <td>3989.0</td>\n",
       "      <td>0.092504</td>\n",
       "      <td>369.0</td>\n",
       "    </tr>\n",
       "    <tr>\n",
       "      <th>проведение свадьбы</th>\n",
       "      <td>2324.0</td>\n",
       "      <td>0.078744</td>\n",
       "      <td>183.0</td>\n",
       "    </tr>\n",
       "  </tbody>\n",
       "</table>\n",
       "</div>"
      ],
      "text/plain": [
       "                             debt                 \n",
       "                            count      mean    sum\n",
       "purpose_category                                  \n",
       "операции с автомобилем     4281.0  0.093436  400.0\n",
       "операции с недвижимостью  10754.0  0.072531  780.0\n",
       "получение образования      3989.0  0.092504  369.0\n",
       "проведение свадьбы         2324.0  0.078744  183.0"
      ]
     },
     "execution_count": 30,
     "metadata": {},
     "output_type": "execute_result"
    }
   ],
   "source": [
    "pd.pivot_table(data,index=[\"purpose_category\"],values=['debt'],aggfunc={\"debt\":['sum','count','mean']})"
   ]
  },
  {
   "cell_type": "markdown",
   "id": "b4bb2ce6",
   "metadata": {
    "deletable": false,
    "id": "b4bb2ce6"
   },
   "source": [
    "**Вывод:** Исходя из данных таблицы, можем сразу определить, что люди, взявшие кредитование категорий \"операции с автомобилем\" и \"получение образования\" имеют больше задолженностей, при этом почти одинаковое значение, чем люди кредитовавшиеся на \"проведение свадьбы\" и \"операции с недвижимостью\", которые так же, примерно в одном процентном диапозоне."
   ]
  },
  {
   "cell_type": "markdown",
   "id": "fab72b8d",
   "metadata": {},
   "source": [
    "<div class=\"alert alert-success\">\n",
    "<b>Комментарий ревьюера ✔️:</b> Правильно, автолюбители и ипотечники самые надежные"
   ]
  },
  {
   "cell_type": "markdown",
   "id": "09c3ac4c",
   "metadata": {
    "deletable": false,
    "editable": false,
    "id": "09c3ac4c"
   },
   "source": [
    "**Задание 23. Приведите возможные причины появления пропусков в исходных данных.**"
   ]
  },
  {
   "cell_type": "markdown",
   "id": "9da2ceda",
   "metadata": {
    "deletable": false,
    "id": "9da2ceda"
   },
   "source": [
    "*Ответ:* данные отсутствовали в days_employed и total_income, возможно люди просто не оставили о себе таких данных, либо данные были удалены кем то."
   ]
  },
  {
   "cell_type": "markdown",
   "id": "9749025d",
   "metadata": {},
   "source": [
    "<div class=\"alert alert-success\">\n",
    "<b>Комментарий ревьюера ✔️:</b> Хорошие предположения о причинах"
   ]
  },
  {
   "cell_type": "markdown",
   "id": "7b0487d6",
   "metadata": {
    "deletable": false,
    "editable": false,
    "id": "7b0487d6"
   },
   "source": [
    "**Задание 24. Объясните, почему заполнить пропуски медианным значением — лучшее решение для количественных переменных.**"
   ]
  },
  {
   "cell_type": "markdown",
   "id": "7ecf2b8e",
   "metadata": {
    "deletable": false,
    "id": "7ecf2b8e"
   },
   "source": [
    "*Ответ:* при выборки значений может оказаться так, что некоторые значения могут оказаться \"пиковыми\" и значительно \"перевесить\" среднее арифметическое в свою сторону, использование среднего арифментического в таких случая может привести к нереальным показателям в статистике."
   ]
  },
  {
   "cell_type": "markdown",
   "id": "625c09b7",
   "metadata": {},
   "source": [
    "<div class=\"alert alert-success\">\n",
    "<b>Комментарий ревьюера ✔️:</b> Совершенно верно! Причина определена точно"
   ]
  },
  {
   "cell_type": "markdown",
   "id": "6db5255a",
   "metadata": {
    "deletable": false,
    "editable": false,
    "id": "6db5255a"
   },
   "source": [
    "## Общий вывод."
   ]
  },
  {
   "cell_type": "markdown",
   "id": "bad65432",
   "metadata": {
    "id": "bad65432"
   },
   "source": [
    "Вывод: на вероятность платежей по кредиту в срок влияют несколько факторов:\n",
    "- количеством детей:\n",
    "Бездетные реже пропускают срок оплаты по кредиту. Чем больше детей, тем больше кредитных долгов.\n",
    "- семейный статус:\n",
    "\"Не женат / не замужем\" и \"гражданский брак\" имеют больше долгов, а разведенные \"вдовец / вдова\" оплачивают долги в срок чаще.\n",
    "- разные цели кредита:\n",
    "Те, кто берут кредитование в категориях \"операции с автомобилем\" и \"получение образования\" имеют больше долгов. Взявшие кредит на \"проведение свадьбы\" и \"операции с недвижимостью\" выплачивают долги более охотно."
   ]
  },
  {
   "cell_type": "markdown",
   "id": "524c43f2",
   "metadata": {},
   "source": [
    "<div class=\"alert alert-success\">\n",
    "<b>Комментарий ревьюера ✔️:</b> Супер, ты отлично понимаешь суть проведенного анализа!"
   ]
  },
  {
   "cell_type": "markdown",
   "id": "0bb1c571",
   "metadata": {},
   "source": [
    "<div class=\"alert alert-success\">\n",
    "<b>Комментарий ревьюера ✔️:</b> Павел, проект отличный! У тебя сильные аналитические навыки и владение инструментами для проведения исследования. Но всё же в проекте есть буквально одно критическое замечание и я попрошу тебя исправить его, чтобы проект стал еще лучше! </div>"
   ]
  }
 ],
 "metadata": {
  "ExecuteTimeLog": [
   {
    "duration": 45,
    "start_time": "2022-07-05T03:39:33.519Z"
   },
   {
    "duration": 6,
    "start_time": "2022-07-05T03:39:45.919Z"
   },
   {
    "duration": 428,
    "start_time": "2022-07-05T03:39:57.134Z"
   },
   {
    "duration": 21,
    "start_time": "2022-07-05T03:39:57.564Z"
   },
   {
    "duration": 12,
    "start_time": "2022-07-05T03:39:57.587Z"
   },
   {
    "duration": 26,
    "start_time": "2022-07-05T03:39:57.600Z"
   },
   {
    "duration": 36,
    "start_time": "2022-07-05T03:39:57.628Z"
   },
   {
    "duration": 4,
    "start_time": "2022-07-05T03:39:57.666Z"
   },
   {
    "duration": 21,
    "start_time": "2022-07-05T03:39:57.672Z"
   },
   {
    "duration": 25,
    "start_time": "2022-07-05T03:39:57.695Z"
   },
   {
    "duration": 19,
    "start_time": "2022-07-05T03:39:57.722Z"
   },
   {
    "duration": 8,
    "start_time": "2022-07-05T03:39:57.743Z"
   },
   {
    "duration": 47,
    "start_time": "2022-07-05T03:39:57.752Z"
   },
   {
    "duration": 16,
    "start_time": "2022-07-05T03:39:57.801Z"
   },
   {
    "duration": 4,
    "start_time": "2022-07-05T03:39:57.819Z"
   },
   {
    "duration": 20,
    "start_time": "2022-07-05T03:39:57.825Z"
   },
   {
    "duration": 15,
    "start_time": "2022-07-05T03:39:57.846Z"
   },
   {
    "duration": 10,
    "start_time": "2022-07-05T03:39:57.862Z"
   },
   {
    "duration": 15,
    "start_time": "2022-07-05T03:39:57.873Z"
   },
   {
    "duration": 27,
    "start_time": "2022-07-05T03:39:57.889Z"
   },
   {
    "duration": 6,
    "start_time": "2022-07-05T03:39:57.918Z"
   },
   {
    "duration": 3,
    "start_time": "2022-07-05T03:39:57.925Z"
   },
   {
    "duration": 10,
    "start_time": "2022-07-05T03:39:57.929Z"
   },
   {
    "duration": 9,
    "start_time": "2022-07-05T03:39:57.940Z"
   },
   {
    "duration": 17,
    "start_time": "2022-07-05T03:39:57.951Z"
   },
   {
    "duration": 13,
    "start_time": "2022-07-05T03:39:57.969Z"
   },
   {
    "duration": 14,
    "start_time": "2022-07-05T03:39:57.983Z"
   },
   {
    "duration": 30,
    "start_time": "2022-07-05T03:40:02.989Z"
   },
   {
    "duration": 7,
    "start_time": "2022-07-05T03:41:53.820Z"
   },
   {
    "duration": 6,
    "start_time": "2022-07-05T03:42:33.575Z"
   },
   {
    "duration": 22,
    "start_time": "2022-07-05T03:43:49.320Z"
   },
   {
    "duration": 7,
    "start_time": "2022-07-05T03:44:23.513Z"
   },
   {
    "duration": 7,
    "start_time": "2022-07-05T03:45:31.327Z"
   },
   {
    "duration": 9,
    "start_time": "2022-07-05T03:45:45.549Z"
   },
   {
    "duration": 34,
    "start_time": "2022-07-05T03:47:44.713Z"
   },
   {
    "duration": 17,
    "start_time": "2022-07-05T03:47:53.475Z"
   },
   {
    "duration": 12,
    "start_time": "2022-07-05T03:49:44.045Z"
   },
   {
    "duration": 9,
    "start_time": "2022-07-05T03:49:49.217Z"
   },
   {
    "duration": 8,
    "start_time": "2022-07-05T03:49:53.020Z"
   },
   {
    "duration": 19,
    "start_time": "2022-07-05T03:50:05.318Z"
   },
   {
    "duration": 14,
    "start_time": "2022-07-05T03:51:09.242Z"
   },
   {
    "duration": 14,
    "start_time": "2022-07-05T03:52:18.784Z"
   },
   {
    "duration": 48,
    "start_time": "2022-07-05T03:55:32.840Z"
   },
   {
    "duration": 14,
    "start_time": "2022-07-05T03:55:41.116Z"
   },
   {
    "duration": 16,
    "start_time": "2022-07-05T04:00:36.014Z"
   },
   {
    "duration": 16,
    "start_time": "2022-07-05T04:00:55.943Z"
   },
   {
    "duration": 17,
    "start_time": "2022-07-05T04:01:24.032Z"
   },
   {
    "duration": 17,
    "start_time": "2022-07-05T04:02:19.381Z"
   },
   {
    "duration": 23,
    "start_time": "2022-07-05T04:06:32.766Z"
   },
   {
    "duration": 31,
    "start_time": "2022-07-05T04:07:00.998Z"
   },
   {
    "duration": 17,
    "start_time": "2022-07-05T04:07:22.867Z"
   },
   {
    "duration": 17,
    "start_time": "2022-07-05T04:07:54.657Z"
   },
   {
    "duration": 19,
    "start_time": "2022-07-05T04:08:08.640Z"
   },
   {
    "duration": 18,
    "start_time": "2022-07-05T04:19:08.282Z"
   },
   {
    "duration": 19,
    "start_time": "2022-07-05T04:23:46.370Z"
   },
   {
    "duration": 18,
    "start_time": "2022-07-05T04:26:25.664Z"
   },
   {
    "duration": 11,
    "start_time": "2022-07-05T04:26:39.962Z"
   },
   {
    "duration": 14,
    "start_time": "2022-07-05T04:26:48.746Z"
   },
   {
    "duration": 16,
    "start_time": "2022-07-05T04:26:57.861Z"
   },
   {
    "duration": 13,
    "start_time": "2022-07-05T04:31:28.705Z"
   },
   {
    "duration": 18,
    "start_time": "2022-07-05T04:31:41.653Z"
   },
   {
    "duration": 26,
    "start_time": "2022-07-05T04:31:58.414Z"
   },
   {
    "duration": 21,
    "start_time": "2022-07-05T04:32:56.127Z"
   },
   {
    "duration": 24,
    "start_time": "2022-07-05T04:33:03.290Z"
   },
   {
    "duration": 29,
    "start_time": "2022-07-05T04:33:55.182Z"
   },
   {
    "duration": 22,
    "start_time": "2022-07-05T04:34:04.435Z"
   },
   {
    "duration": 827,
    "start_time": "2022-07-05T04:34:44.233Z"
   },
   {
    "duration": 34,
    "start_time": "2022-07-05T04:35:37.895Z"
   },
   {
    "duration": 18,
    "start_time": "2022-07-05T04:36:26.192Z"
   },
   {
    "duration": 23,
    "start_time": "2022-07-05T04:36:36.229Z"
   },
   {
    "duration": 24,
    "start_time": "2022-07-05T04:36:47.144Z"
   },
   {
    "duration": 24,
    "start_time": "2022-07-05T04:36:55.627Z"
   },
   {
    "duration": 29,
    "start_time": "2022-07-05T04:37:17.456Z"
   },
   {
    "duration": 21,
    "start_time": "2022-07-05T04:38:13.224Z"
   },
   {
    "duration": 24,
    "start_time": "2022-07-05T04:38:26.144Z"
   },
   {
    "duration": 49,
    "start_time": "2022-07-05T04:40:45.574Z"
   },
   {
    "duration": 198,
    "start_time": "2022-07-05T04:42:37.125Z"
   },
   {
    "duration": 201,
    "start_time": "2022-07-05T04:42:48.869Z"
   },
   {
    "duration": 40,
    "start_time": "2022-07-05T04:42:58.254Z"
   },
   {
    "duration": 45,
    "start_time": "2022-07-05T04:43:06.797Z"
   },
   {
    "duration": 51,
    "start_time": "2022-07-05T04:43:28.574Z"
   },
   {
    "duration": 38,
    "start_time": "2022-07-05T04:43:54.220Z"
   },
   {
    "duration": 19,
    "start_time": "2022-07-05T04:49:36.676Z"
   },
   {
    "duration": 33,
    "start_time": "2022-07-05T04:49:40.026Z"
   },
   {
    "duration": 56,
    "start_time": "2022-07-05T04:51:01.343Z"
   },
   {
    "duration": 19,
    "start_time": "2022-07-05T04:51:10.878Z"
   },
   {
    "duration": 53,
    "start_time": "2022-07-05T05:02:08.170Z"
   },
   {
    "duration": 21,
    "start_time": "2022-07-05T05:02:25.372Z"
   },
   {
    "duration": 32,
    "start_time": "2022-07-05T05:02:34.718Z"
   },
   {
    "duration": 23,
    "start_time": "2022-07-05T05:03:02.771Z"
   },
   {
    "duration": 479,
    "start_time": "2022-07-05T05:03:16.557Z"
   },
   {
    "duration": 33,
    "start_time": "2022-07-05T05:03:17.038Z"
   },
   {
    "duration": 14,
    "start_time": "2022-07-05T05:03:17.072Z"
   },
   {
    "duration": 24,
    "start_time": "2022-07-05T05:03:17.100Z"
   },
   {
    "duration": 46,
    "start_time": "2022-07-05T05:03:17.126Z"
   },
   {
    "duration": 4,
    "start_time": "2022-07-05T05:03:17.174Z"
   },
   {
    "duration": 20,
    "start_time": "2022-07-05T05:03:17.179Z"
   },
   {
    "duration": 29,
    "start_time": "2022-07-05T05:03:17.202Z"
   },
   {
    "duration": 16,
    "start_time": "2022-07-05T05:03:17.233Z"
   },
   {
    "duration": 6,
    "start_time": "2022-07-05T05:03:17.252Z"
   },
   {
    "duration": 37,
    "start_time": "2022-07-05T05:03:17.260Z"
   },
   {
    "duration": 26,
    "start_time": "2022-07-05T05:03:17.299Z"
   },
   {
    "duration": 20,
    "start_time": "2022-07-05T05:03:17.328Z"
   },
   {
    "duration": 20,
    "start_time": "2022-07-05T05:03:17.352Z"
   },
   {
    "duration": 17,
    "start_time": "2022-07-05T05:03:17.374Z"
   },
   {
    "duration": 14,
    "start_time": "2022-07-05T05:03:17.393Z"
   },
   {
    "duration": 19,
    "start_time": "2022-07-05T05:03:17.409Z"
   },
   {
    "duration": 33,
    "start_time": "2022-07-05T05:03:17.431Z"
   },
   {
    "duration": 12,
    "start_time": "2022-07-05T05:03:17.466Z"
   },
   {
    "duration": 10,
    "start_time": "2022-07-05T05:03:17.480Z"
   },
   {
    "duration": 47,
    "start_time": "2022-07-05T05:03:17.493Z"
   },
   {
    "duration": 26,
    "start_time": "2022-07-05T05:03:17.542Z"
   },
   {
    "duration": 18,
    "start_time": "2022-07-05T05:03:17.570Z"
   },
   {
    "duration": 28,
    "start_time": "2022-07-05T05:03:17.590Z"
   },
   {
    "duration": 37,
    "start_time": "2022-07-05T05:03:17.620Z"
   },
   {
    "duration": 24,
    "start_time": "2022-07-05T05:03:17.659Z"
   },
   {
    "duration": 523,
    "start_time": "2022-07-05T05:04:38.085Z"
   },
   {
    "duration": 39,
    "start_time": "2022-07-05T05:04:38.612Z"
   },
   {
    "duration": 19,
    "start_time": "2022-07-05T05:04:38.652Z"
   },
   {
    "duration": 10,
    "start_time": "2022-07-05T05:04:38.673Z"
   },
   {
    "duration": 60,
    "start_time": "2022-07-05T05:04:38.685Z"
   },
   {
    "duration": 4,
    "start_time": "2022-07-05T05:04:38.747Z"
   },
   {
    "duration": 25,
    "start_time": "2022-07-05T05:04:38.753Z"
   },
   {
    "duration": 11,
    "start_time": "2022-07-05T05:04:38.780Z"
   },
   {
    "duration": 36,
    "start_time": "2022-07-05T05:04:38.793Z"
   },
   {
    "duration": 24,
    "start_time": "2022-07-05T05:04:38.834Z"
   },
   {
    "duration": 34,
    "start_time": "2022-07-05T05:04:38.860Z"
   },
   {
    "duration": 14,
    "start_time": "2022-07-05T05:04:38.897Z"
   },
   {
    "duration": 49,
    "start_time": "2022-07-05T05:04:38.913Z"
   },
   {
    "duration": 55,
    "start_time": "2022-07-05T05:04:38.964Z"
   },
   {
    "duration": 24,
    "start_time": "2022-07-05T05:04:39.022Z"
   },
   {
    "duration": 10,
    "start_time": "2022-07-05T05:04:39.048Z"
   },
   {
    "duration": 13,
    "start_time": "2022-07-05T05:04:39.060Z"
   },
   {
    "duration": 17,
    "start_time": "2022-07-05T05:04:39.075Z"
   },
   {
    "duration": 30,
    "start_time": "2022-07-05T05:04:39.094Z"
   },
   {
    "duration": 5,
    "start_time": "2022-07-05T05:04:39.127Z"
   },
   {
    "duration": 16,
    "start_time": "2022-07-05T05:04:39.135Z"
   },
   {
    "duration": 31,
    "start_time": "2022-07-05T05:04:39.152Z"
   },
   {
    "duration": 24,
    "start_time": "2022-07-05T05:04:39.185Z"
   },
   {
    "duration": 25,
    "start_time": "2022-07-05T05:04:39.211Z"
   },
   {
    "duration": 42,
    "start_time": "2022-07-05T05:04:39.238Z"
   },
   {
    "duration": 39,
    "start_time": "2022-07-05T05:04:39.281Z"
   },
   {
    "duration": 505,
    "start_time": "2022-07-05T05:05:01.928Z"
   },
   {
    "duration": 29,
    "start_time": "2022-07-05T05:05:02.436Z"
   },
   {
    "duration": 14,
    "start_time": "2022-07-05T05:05:02.466Z"
   },
   {
    "duration": 35,
    "start_time": "2022-07-05T05:05:02.482Z"
   },
   {
    "duration": 48,
    "start_time": "2022-07-05T05:05:02.521Z"
   },
   {
    "duration": 3,
    "start_time": "2022-07-05T05:05:02.570Z"
   },
   {
    "duration": 20,
    "start_time": "2022-07-05T05:05:02.575Z"
   },
   {
    "duration": 26,
    "start_time": "2022-07-05T05:05:02.597Z"
   },
   {
    "duration": 15,
    "start_time": "2022-07-05T05:05:02.625Z"
   },
   {
    "duration": 8,
    "start_time": "2022-07-05T05:05:02.641Z"
   },
   {
    "duration": 48,
    "start_time": "2022-07-05T05:05:02.650Z"
   },
   {
    "duration": 20,
    "start_time": "2022-07-05T05:05:02.699Z"
   },
   {
    "duration": 21,
    "start_time": "2022-07-05T05:05:02.724Z"
   },
   {
    "duration": 30,
    "start_time": "2022-07-05T05:05:02.748Z"
   },
   {
    "duration": 15,
    "start_time": "2022-07-05T05:05:02.780Z"
   },
   {
    "duration": 19,
    "start_time": "2022-07-05T05:05:02.797Z"
   },
   {
    "duration": 13,
    "start_time": "2022-07-05T05:05:02.818Z"
   },
   {
    "duration": 27,
    "start_time": "2022-07-05T05:05:02.833Z"
   },
   {
    "duration": 9,
    "start_time": "2022-07-05T05:05:02.863Z"
   },
   {
    "duration": 6,
    "start_time": "2022-07-05T05:05:02.873Z"
   },
   {
    "duration": 11,
    "start_time": "2022-07-05T05:05:02.881Z"
   },
   {
    "duration": 28,
    "start_time": "2022-07-05T05:05:02.893Z"
   },
   {
    "duration": 28,
    "start_time": "2022-07-05T05:05:02.923Z"
   },
   {
    "duration": 23,
    "start_time": "2022-07-05T05:05:02.953Z"
   },
   {
    "duration": 54,
    "start_time": "2022-07-05T05:05:02.977Z"
   },
   {
    "duration": 27,
    "start_time": "2022-07-05T05:05:03.033Z"
   },
   {
    "duration": 556,
    "start_time": "2022-07-05T05:05:29.497Z"
   },
   {
    "duration": 26,
    "start_time": "2022-07-05T05:05:30.055Z"
   },
   {
    "duration": 36,
    "start_time": "2022-07-05T05:05:30.084Z"
   },
   {
    "duration": 15,
    "start_time": "2022-07-05T05:05:30.123Z"
   },
   {
    "duration": 80,
    "start_time": "2022-07-05T05:05:30.142Z"
   },
   {
    "duration": 31,
    "start_time": "2022-07-05T05:05:30.225Z"
   },
   {
    "duration": 35,
    "start_time": "2022-07-05T05:05:30.258Z"
   },
   {
    "duration": 18,
    "start_time": "2022-07-05T05:05:30.295Z"
   },
   {
    "duration": 55,
    "start_time": "2022-07-05T05:05:30.316Z"
   },
   {
    "duration": 67,
    "start_time": "2022-07-05T05:05:30.372Z"
   },
   {
    "duration": 99,
    "start_time": "2022-07-05T05:05:30.441Z"
   },
   {
    "duration": 28,
    "start_time": "2022-07-05T05:05:30.541Z"
   },
   {
    "duration": 37,
    "start_time": "2022-07-05T05:05:30.571Z"
   },
   {
    "duration": 99,
    "start_time": "2022-07-05T05:05:30.613Z"
   },
   {
    "duration": 26,
    "start_time": "2022-07-05T05:05:30.715Z"
   },
   {
    "duration": 34,
    "start_time": "2022-07-05T05:05:30.743Z"
   },
   {
    "duration": 39,
    "start_time": "2022-07-05T05:05:30.779Z"
   },
   {
    "duration": 33,
    "start_time": "2022-07-05T05:05:30.820Z"
   },
   {
    "duration": 37,
    "start_time": "2022-07-05T05:05:30.855Z"
   },
   {
    "duration": 38,
    "start_time": "2022-07-05T05:05:30.894Z"
   },
   {
    "duration": 32,
    "start_time": "2022-07-05T05:05:30.934Z"
   },
   {
    "duration": 45,
    "start_time": "2022-07-05T05:05:30.968Z"
   },
   {
    "duration": 53,
    "start_time": "2022-07-05T05:05:31.016Z"
   },
   {
    "duration": 51,
    "start_time": "2022-07-05T05:05:31.072Z"
   },
   {
    "duration": 67,
    "start_time": "2022-07-05T05:05:31.125Z"
   },
   {
    "duration": 91,
    "start_time": "2022-07-05T05:05:31.194Z"
   },
   {
    "duration": 482,
    "start_time": "2022-07-05T05:06:40.968Z"
   },
   {
    "duration": 29,
    "start_time": "2022-07-05T05:06:41.452Z"
   },
   {
    "duration": 37,
    "start_time": "2022-07-05T05:06:41.484Z"
   },
   {
    "duration": 34,
    "start_time": "2022-07-05T05:06:41.524Z"
   },
   {
    "duration": 32,
    "start_time": "2022-07-05T05:06:41.560Z"
   },
   {
    "duration": 4,
    "start_time": "2022-07-05T05:06:41.594Z"
   },
   {
    "duration": 19,
    "start_time": "2022-07-05T05:06:41.599Z"
   },
   {
    "duration": 19,
    "start_time": "2022-07-05T05:06:41.620Z"
   },
   {
    "duration": 25,
    "start_time": "2022-07-05T05:06:41.641Z"
   },
   {
    "duration": 5,
    "start_time": "2022-07-05T05:06:41.671Z"
   },
   {
    "duration": 48,
    "start_time": "2022-07-05T05:06:41.678Z"
   },
   {
    "duration": 16,
    "start_time": "2022-07-05T05:06:41.728Z"
   },
   {
    "duration": 7,
    "start_time": "2022-07-05T05:06:41.746Z"
   },
   {
    "duration": 24,
    "start_time": "2022-07-05T05:06:41.755Z"
   },
   {
    "duration": 21,
    "start_time": "2022-07-05T05:06:41.780Z"
   },
   {
    "duration": 16,
    "start_time": "2022-07-05T05:06:41.804Z"
   },
   {
    "duration": 16,
    "start_time": "2022-07-05T05:06:41.822Z"
   },
   {
    "duration": 12,
    "start_time": "2022-07-05T05:06:41.839Z"
   },
   {
    "duration": 10,
    "start_time": "2022-07-05T05:06:41.853Z"
   },
   {
    "duration": 10,
    "start_time": "2022-07-05T05:06:41.864Z"
   },
   {
    "duration": 17,
    "start_time": "2022-07-05T05:06:41.876Z"
   },
   {
    "duration": 29,
    "start_time": "2022-07-05T05:06:41.895Z"
   },
   {
    "duration": 26,
    "start_time": "2022-07-05T05:06:41.926Z"
   },
   {
    "duration": 19,
    "start_time": "2022-07-05T05:06:41.954Z"
   },
   {
    "duration": 62,
    "start_time": "2022-07-05T05:06:41.975Z"
   },
   {
    "duration": 21,
    "start_time": "2022-07-05T05:06:42.038Z"
   },
   {
    "duration": 553,
    "start_time": "2022-07-05T12:56:38.442Z"
   },
   {
    "duration": 26,
    "start_time": "2022-07-05T12:56:38.997Z"
   },
   {
    "duration": 25,
    "start_time": "2022-07-05T12:56:39.025Z"
   },
   {
    "duration": 15,
    "start_time": "2022-07-05T12:56:39.053Z"
   },
   {
    "duration": 42,
    "start_time": "2022-07-05T12:56:39.070Z"
   },
   {
    "duration": 4,
    "start_time": "2022-07-05T12:56:39.114Z"
   },
   {
    "duration": 27,
    "start_time": "2022-07-05T12:56:39.119Z"
   },
   {
    "duration": 4,
    "start_time": "2022-07-05T12:56:39.148Z"
   },
   {
    "duration": 11,
    "start_time": "2022-07-05T12:56:39.154Z"
   },
   {
    "duration": 4,
    "start_time": "2022-07-05T12:56:39.168Z"
   },
   {
    "duration": 40,
    "start_time": "2022-07-05T12:56:39.173Z"
   },
   {
    "duration": 32,
    "start_time": "2022-07-05T12:56:39.215Z"
   },
   {
    "duration": 3,
    "start_time": "2022-07-05T12:56:39.249Z"
   },
   {
    "duration": 23,
    "start_time": "2022-07-05T12:56:39.254Z"
   },
   {
    "duration": 17,
    "start_time": "2022-07-05T12:56:39.279Z"
   },
   {
    "duration": 11,
    "start_time": "2022-07-05T12:56:39.297Z"
   },
   {
    "duration": 6,
    "start_time": "2022-07-05T12:56:39.311Z"
   },
   {
    "duration": 35,
    "start_time": "2022-07-05T12:56:39.319Z"
   },
   {
    "duration": 11,
    "start_time": "2022-07-05T12:56:39.356Z"
   },
   {
    "duration": 4,
    "start_time": "2022-07-05T12:56:39.368Z"
   },
   {
    "duration": 14,
    "start_time": "2022-07-05T12:56:39.373Z"
   },
   {
    "duration": 24,
    "start_time": "2022-07-05T12:56:39.389Z"
   },
   {
    "duration": 36,
    "start_time": "2022-07-05T12:56:39.415Z"
   },
   {
    "duration": 18,
    "start_time": "2022-07-05T12:56:39.453Z"
   },
   {
    "duration": 31,
    "start_time": "2022-07-05T12:56:39.473Z"
   },
   {
    "duration": 41,
    "start_time": "2022-07-05T12:56:39.506Z"
   },
   {
    "duration": 77,
    "start_time": "2022-07-05T13:05:46.088Z"
   },
   {
    "duration": 21,
    "start_time": "2022-07-05T13:07:02.471Z"
   },
   {
    "duration": 24,
    "start_time": "2022-07-05T13:07:08.404Z"
   },
   {
    "duration": 499,
    "start_time": "2022-07-05T13:07:23.550Z"
   },
   {
    "duration": 22,
    "start_time": "2022-07-05T13:07:24.051Z"
   },
   {
    "duration": 14,
    "start_time": "2022-07-05T13:07:24.075Z"
   },
   {
    "duration": 10,
    "start_time": "2022-07-05T13:07:24.091Z"
   },
   {
    "duration": 54,
    "start_time": "2022-07-05T13:07:24.103Z"
   },
   {
    "duration": 3,
    "start_time": "2022-07-05T13:07:24.159Z"
   },
   {
    "duration": 13,
    "start_time": "2022-07-05T13:07:24.164Z"
   },
   {
    "duration": 5,
    "start_time": "2022-07-05T13:07:24.179Z"
   },
   {
    "duration": 10,
    "start_time": "2022-07-05T13:07:24.185Z"
   },
   {
    "duration": 10,
    "start_time": "2022-07-05T13:07:24.198Z"
   },
   {
    "duration": 48,
    "start_time": "2022-07-05T13:07:24.209Z"
   },
   {
    "duration": 10,
    "start_time": "2022-07-05T13:07:24.259Z"
   },
   {
    "duration": 10,
    "start_time": "2022-07-05T13:07:24.271Z"
   },
   {
    "duration": 23,
    "start_time": "2022-07-05T13:07:24.282Z"
   },
   {
    "duration": 19,
    "start_time": "2022-07-05T13:07:24.306Z"
   },
   {
    "duration": 12,
    "start_time": "2022-07-05T13:07:24.346Z"
   },
   {
    "duration": 7,
    "start_time": "2022-07-05T13:07:24.360Z"
   },
   {
    "duration": 14,
    "start_time": "2022-07-05T13:07:24.369Z"
   },
   {
    "duration": 11,
    "start_time": "2022-07-05T13:07:24.384Z"
   },
   {
    "duration": 5,
    "start_time": "2022-07-05T13:07:24.397Z"
   },
   {
    "duration": 13,
    "start_time": "2022-07-05T13:07:24.404Z"
   },
   {
    "duration": 32,
    "start_time": "2022-07-05T13:07:24.419Z"
   },
   {
    "duration": 76,
    "start_time": "2022-07-05T13:07:24.452Z"
   },
   {
    "duration": 0,
    "start_time": "2022-07-05T13:07:24.529Z"
   },
   {
    "duration": 0,
    "start_time": "2022-07-05T13:07:24.530Z"
   },
   {
    "duration": 0,
    "start_time": "2022-07-05T13:07:24.546Z"
   },
   {
    "duration": 0,
    "start_time": "2022-07-05T13:07:24.548Z"
   },
   {
    "duration": 10,
    "start_time": "2022-07-05T13:11:24.994Z"
   },
   {
    "duration": 9,
    "start_time": "2022-07-05T13:11:42.397Z"
   },
   {
    "duration": 8,
    "start_time": "2022-07-05T13:14:07.664Z"
   },
   {
    "duration": 10,
    "start_time": "2022-07-05T13:14:15.585Z"
   },
   {
    "duration": 20,
    "start_time": "2022-07-05T13:14:49.447Z"
   },
   {
    "duration": 59,
    "start_time": "2022-07-05T13:15:10.825Z"
   },
   {
    "duration": 75,
    "start_time": "2022-07-05T13:15:33.354Z"
   },
   {
    "duration": 15,
    "start_time": "2022-07-05T13:15:57.129Z"
   },
   {
    "duration": 13,
    "start_time": "2022-07-05T13:16:09.844Z"
   },
   {
    "duration": 10,
    "start_time": "2022-07-05T13:19:45.543Z"
   },
   {
    "duration": 7,
    "start_time": "2022-07-05T13:19:58.780Z"
   },
   {
    "duration": 7,
    "start_time": "2022-07-05T13:20:24.624Z"
   },
   {
    "duration": 425,
    "start_time": "2022-07-05T13:23:38.082Z"
   },
   {
    "duration": 21,
    "start_time": "2022-07-05T13:23:38.509Z"
   },
   {
    "duration": 24,
    "start_time": "2022-07-05T13:23:38.532Z"
   },
   {
    "duration": 10,
    "start_time": "2022-07-05T13:23:38.558Z"
   },
   {
    "duration": 43,
    "start_time": "2022-07-05T13:23:38.570Z"
   },
   {
    "duration": 4,
    "start_time": "2022-07-05T13:23:38.614Z"
   },
   {
    "duration": 11,
    "start_time": "2022-07-05T13:23:38.619Z"
   },
   {
    "duration": 19,
    "start_time": "2022-07-05T13:23:38.631Z"
   },
   {
    "duration": 9,
    "start_time": "2022-07-05T13:23:38.652Z"
   },
   {
    "duration": 5,
    "start_time": "2022-07-05T13:23:38.665Z"
   },
   {
    "duration": 41,
    "start_time": "2022-07-05T13:23:38.672Z"
   },
   {
    "duration": 36,
    "start_time": "2022-07-05T13:23:38.715Z"
   },
   {
    "duration": 5,
    "start_time": "2022-07-05T13:23:38.753Z"
   },
   {
    "duration": 27,
    "start_time": "2022-07-05T13:23:38.760Z"
   },
   {
    "duration": 24,
    "start_time": "2022-07-05T13:23:38.790Z"
   },
   {
    "duration": 37,
    "start_time": "2022-07-05T13:23:38.816Z"
   },
   {
    "duration": 8,
    "start_time": "2022-07-05T13:23:38.855Z"
   },
   {
    "duration": 17,
    "start_time": "2022-07-05T13:23:38.865Z"
   },
   {
    "duration": 12,
    "start_time": "2022-07-05T13:23:38.884Z"
   },
   {
    "duration": 5,
    "start_time": "2022-07-05T13:23:38.898Z"
   },
   {
    "duration": 15,
    "start_time": "2022-07-05T13:23:38.905Z"
   },
   {
    "duration": 44,
    "start_time": "2022-07-05T13:23:38.922Z"
   },
   {
    "duration": 95,
    "start_time": "2022-07-05T13:23:38.968Z"
   },
   {
    "duration": 0,
    "start_time": "2022-07-05T13:23:39.065Z"
   },
   {
    "duration": 0,
    "start_time": "2022-07-05T13:23:39.067Z"
   },
   {
    "duration": 0,
    "start_time": "2022-07-05T13:23:39.068Z"
   },
   {
    "duration": 0,
    "start_time": "2022-07-05T13:23:39.070Z"
   },
   {
    "duration": 11,
    "start_time": "2022-07-05T13:23:45.539Z"
   },
   {
    "duration": 30,
    "start_time": "2022-07-05T13:24:30.242Z"
   },
   {
    "duration": 14,
    "start_time": "2022-07-05T13:25:35.563Z"
   },
   {
    "duration": 12,
    "start_time": "2022-07-05T13:26:14.119Z"
   },
   {
    "duration": 57,
    "start_time": "2022-07-05T13:26:29.482Z"
   },
   {
    "duration": 51,
    "start_time": "2022-07-05T13:26:40.673Z"
   },
   {
    "duration": 8,
    "start_time": "2022-07-05T13:27:06.730Z"
   },
   {
    "duration": 8,
    "start_time": "2022-07-05T13:27:34.308Z"
   },
   {
    "duration": 9,
    "start_time": "2022-07-05T13:27:42.326Z"
   },
   {
    "duration": 8,
    "start_time": "2022-07-05T13:29:15.392Z"
   },
   {
    "duration": 22,
    "start_time": "2022-07-05T13:29:48.853Z"
   },
   {
    "duration": 23,
    "start_time": "2022-07-05T13:31:18.690Z"
   },
   {
    "duration": 22,
    "start_time": "2022-07-05T13:31:44.329Z"
   },
   {
    "duration": 21,
    "start_time": "2022-07-05T13:31:56.149Z"
   },
   {
    "duration": 19,
    "start_time": "2022-07-05T13:35:33.314Z"
   },
   {
    "duration": 22,
    "start_time": "2022-07-05T13:35:37.680Z"
   },
   {
    "duration": 50,
    "start_time": "2022-07-05T13:36:14.346Z"
   },
   {
    "duration": 55,
    "start_time": "2022-07-05T13:36:36.931Z"
   },
   {
    "duration": 21,
    "start_time": "2022-07-05T13:37:13.161Z"
   },
   {
    "duration": 492,
    "start_time": "2022-07-05T13:38:34.526Z"
   },
   {
    "duration": 23,
    "start_time": "2022-07-05T13:38:35.020Z"
   },
   {
    "duration": 18,
    "start_time": "2022-07-05T13:38:35.044Z"
   },
   {
    "duration": 14,
    "start_time": "2022-07-05T13:38:35.064Z"
   },
   {
    "duration": 66,
    "start_time": "2022-07-05T13:38:35.080Z"
   },
   {
    "duration": 4,
    "start_time": "2022-07-05T13:38:35.148Z"
   },
   {
    "duration": 13,
    "start_time": "2022-07-05T13:38:35.154Z"
   },
   {
    "duration": 4,
    "start_time": "2022-07-05T13:38:35.169Z"
   },
   {
    "duration": 11,
    "start_time": "2022-07-05T13:38:35.175Z"
   },
   {
    "duration": 5,
    "start_time": "2022-07-05T13:38:35.189Z"
   },
   {
    "duration": 69,
    "start_time": "2022-07-05T13:38:35.196Z"
   },
   {
    "duration": 12,
    "start_time": "2022-07-05T13:38:35.267Z"
   },
   {
    "duration": 14,
    "start_time": "2022-07-05T13:38:35.281Z"
   },
   {
    "duration": 22,
    "start_time": "2022-07-05T13:38:35.297Z"
   },
   {
    "duration": 33,
    "start_time": "2022-07-05T13:38:35.321Z"
   },
   {
    "duration": 11,
    "start_time": "2022-07-05T13:38:35.356Z"
   },
   {
    "duration": 6,
    "start_time": "2022-07-05T13:38:35.369Z"
   },
   {
    "duration": 13,
    "start_time": "2022-07-05T13:38:35.376Z"
   },
   {
    "duration": 9,
    "start_time": "2022-07-05T13:38:35.391Z"
   },
   {
    "duration": 4,
    "start_time": "2022-07-05T13:38:35.402Z"
   },
   {
    "duration": 15,
    "start_time": "2022-07-05T13:38:35.407Z"
   },
   {
    "duration": 20,
    "start_time": "2022-07-05T13:38:35.445Z"
   },
   {
    "duration": 26,
    "start_time": "2022-07-05T13:38:35.467Z"
   },
   {
    "duration": 22,
    "start_time": "2022-07-05T13:38:35.495Z"
   },
   {
    "duration": 20,
    "start_time": "2022-07-05T13:38:35.545Z"
   },
   {
    "duration": 27,
    "start_time": "2022-07-05T13:38:35.567Z"
   },
   {
    "duration": 20,
    "start_time": "2022-07-05T13:38:35.596Z"
   },
   {
    "duration": 25,
    "start_time": "2022-07-05T13:39:02.740Z"
   },
   {
    "duration": 24,
    "start_time": "2022-07-05T13:39:27.345Z"
   },
   {
    "duration": 23,
    "start_time": "2022-07-05T13:40:35.549Z"
   },
   {
    "duration": 455,
    "start_time": "2022-07-05T13:48:06.456Z"
   },
   {
    "duration": 23,
    "start_time": "2022-07-05T13:48:06.913Z"
   },
   {
    "duration": 16,
    "start_time": "2022-07-05T13:48:06.938Z"
   },
   {
    "duration": 10,
    "start_time": "2022-07-05T13:48:06.956Z"
   },
   {
    "duration": 46,
    "start_time": "2022-07-05T13:48:06.968Z"
   },
   {
    "duration": 4,
    "start_time": "2022-07-05T13:48:07.015Z"
   },
   {
    "duration": 33,
    "start_time": "2022-07-05T13:48:07.021Z"
   },
   {
    "duration": 5,
    "start_time": "2022-07-05T13:48:07.056Z"
   },
   {
    "duration": 14,
    "start_time": "2022-07-05T13:48:07.062Z"
   },
   {
    "duration": 5,
    "start_time": "2022-07-05T13:48:07.079Z"
   },
   {
    "duration": 39,
    "start_time": "2022-07-05T13:48:07.085Z"
   },
   {
    "duration": 30,
    "start_time": "2022-07-05T13:48:07.126Z"
   },
   {
    "duration": 12,
    "start_time": "2022-07-05T13:48:07.158Z"
   },
   {
    "duration": 25,
    "start_time": "2022-07-05T13:48:07.171Z"
   },
   {
    "duration": 16,
    "start_time": "2022-07-05T13:48:07.198Z"
   },
   {
    "duration": 29,
    "start_time": "2022-07-05T13:48:07.216Z"
   },
   {
    "duration": 4,
    "start_time": "2022-07-05T13:48:07.248Z"
   },
   {
    "duration": 18,
    "start_time": "2022-07-05T13:48:07.254Z"
   },
   {
    "duration": 14,
    "start_time": "2022-07-05T13:48:07.273Z"
   },
   {
    "duration": 5,
    "start_time": "2022-07-05T13:48:07.289Z"
   },
   {
    "duration": 21,
    "start_time": "2022-07-05T13:48:07.296Z"
   },
   {
    "duration": 31,
    "start_time": "2022-07-05T13:48:07.319Z"
   },
   {
    "duration": 24,
    "start_time": "2022-07-05T13:48:07.352Z"
   },
   {
    "duration": 20,
    "start_time": "2022-07-05T13:48:07.378Z"
   },
   {
    "duration": 23,
    "start_time": "2022-07-05T13:48:07.400Z"
   },
   {
    "duration": 20,
    "start_time": "2022-07-05T13:48:07.446Z"
   },
   {
    "duration": 22,
    "start_time": "2022-07-05T13:48:07.469Z"
   },
   {
    "duration": 53,
    "start_time": "2022-07-05T13:48:07.494Z"
   },
   {
    "duration": 20,
    "start_time": "2022-07-05T13:48:07.549Z"
   },
   {
    "duration": 25,
    "start_time": "2022-07-05T13:48:07.570Z"
   }
  ],
  "colab": {
   "name": "dpp_template_part2.ipynb",
   "provenance": []
  },
  "kernelspec": {
   "display_name": "Python 3 (ipykernel)",
   "language": "python",
   "name": "python3"
  },
  "language_info": {
   "codemirror_mode": {
    "name": "ipython",
    "version": 3
   },
   "file_extension": ".py",
   "mimetype": "text/x-python",
   "name": "python",
   "nbconvert_exporter": "python",
   "pygments_lexer": "ipython3",
   "version": "3.9.5"
  },
  "toc": {
   "base_numbering": 1,
   "nav_menu": {},
   "number_sections": true,
   "sideBar": true,
   "skip_h1_title": true,
   "title_cell": "Table of Contents",
   "title_sidebar": "Contents",
   "toc_cell": false,
   "toc_position": {},
   "toc_section_display": true,
   "toc_window_display": false
  }
 },
 "nbformat": 4,
 "nbformat_minor": 5
}
