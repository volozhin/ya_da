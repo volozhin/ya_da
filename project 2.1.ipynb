{
 "cells": [
  {
   "cell_type": "markdown",
   "id": "d3f36647",
   "metadata": {
    "deletable": false,
    "editable": false,
    "id": "c81daeeb"
   },
   "source": [
    "# Исследование надежности заемщиков"
   ]
  },
  {
   "cell_type": "markdown",
   "id": "8f69fad2",
   "metadata": {
    "deletable": false,
    "editable": false,
    "id": "-G3EJWzf62s6"
   },
   "source": [
    "Это первая часть проекта, она будет проверена автоматически. Вторую часть проверит ревьюер. "
   ]
  },
  {
   "cell_type": "markdown",
   "id": "78537888",
   "metadata": {
    "deletable": false,
    "editable": false,
    "id": "744d7639"
   },
   "source": [
    "## Откройте таблицу и изучите общую информацию о данных"
   ]
  },
  {
   "cell_type": "markdown",
   "id": "5cf17a80",
   "metadata": {
    "deletable": false,
    "editable": false,
    "id": "e7a14c31",
    "tags": [
     "start_task"
    ]
   },
   "source": [
    "**Задание 1. Импортируйте библиотеку pandas. Считайте данные из csv-файла в датафрейм и сохраните в переменную `data`. Путь к файлу:**\n",
    "\n",
    "`/datasets/data.csv`"
   ]
  },
  {
   "cell_type": "code",
   "execution_count": 1,
   "id": "6ad0d30c",
   "metadata": {
    "id": "7bcf75c9"
   },
   "outputs": [],
   "source": [
    "# импортируйте библиотеку pandas\n",
    "import pandas as pd"
   ]
  },
  {
   "cell_type": "code",
   "execution_count": 2,
   "id": "53ec9e24",
   "metadata": {
    "id": "4d240ee2"
   },
   "outputs": [],
   "source": [
    "# прочитайте csv-файл\n",
    "data = pd.read_csv('/datasets/data.csv')"
   ]
  },
  {
   "cell_type": "markdown",
   "id": "1bfd1024",
   "metadata": {
    "deletable": false,
    "editable": false,
    "id": "b8038fe3",
    "tags": [
     "start_task"
    ]
   },
   "source": [
    "**Задание 2. Выведите первые 20 строчек датафрейма `data` на экран.**"
   ]
  },
  {
   "cell_type": "code",
   "execution_count": 3,
   "id": "d1453c41",
   "metadata": {
    "id": "2a7cab99"
   },
   "outputs": [
    {
     "data": {
      "text/html": [
       "<div>\n",
       "<style scoped>\n",
       "    .dataframe tbody tr th:only-of-type {\n",
       "        vertical-align: middle;\n",
       "    }\n",
       "\n",
       "    .dataframe tbody tr th {\n",
       "        vertical-align: top;\n",
       "    }\n",
       "\n",
       "    .dataframe thead th {\n",
       "        text-align: right;\n",
       "    }\n",
       "</style>\n",
       "<table border=\"1\" class=\"dataframe\">\n",
       "  <thead>\n",
       "    <tr style=\"text-align: right;\">\n",
       "      <th></th>\n",
       "      <th>children</th>\n",
       "      <th>days_employed</th>\n",
       "      <th>dob_years</th>\n",
       "      <th>education</th>\n",
       "      <th>education_id</th>\n",
       "      <th>family_status</th>\n",
       "      <th>family_status_id</th>\n",
       "      <th>gender</th>\n",
       "      <th>income_type</th>\n",
       "      <th>debt</th>\n",
       "      <th>total_income</th>\n",
       "      <th>purpose</th>\n",
       "    </tr>\n",
       "  </thead>\n",
       "  <tbody>\n",
       "    <tr>\n",
       "      <th>0</th>\n",
       "      <td>1</td>\n",
       "      <td>-8437.673028</td>\n",
       "      <td>42</td>\n",
       "      <td>высшее</td>\n",
       "      <td>0</td>\n",
       "      <td>женат / замужем</td>\n",
       "      <td>0</td>\n",
       "      <td>F</td>\n",
       "      <td>сотрудник</td>\n",
       "      <td>0</td>\n",
       "      <td>253875.639453</td>\n",
       "      <td>покупка жилья</td>\n",
       "    </tr>\n",
       "    <tr>\n",
       "      <th>1</th>\n",
       "      <td>1</td>\n",
       "      <td>-4024.803754</td>\n",
       "      <td>36</td>\n",
       "      <td>среднее</td>\n",
       "      <td>1</td>\n",
       "      <td>женат / замужем</td>\n",
       "      <td>0</td>\n",
       "      <td>F</td>\n",
       "      <td>сотрудник</td>\n",
       "      <td>0</td>\n",
       "      <td>112080.014102</td>\n",
       "      <td>приобретение автомобиля</td>\n",
       "    </tr>\n",
       "    <tr>\n",
       "      <th>2</th>\n",
       "      <td>0</td>\n",
       "      <td>-5623.422610</td>\n",
       "      <td>33</td>\n",
       "      <td>Среднее</td>\n",
       "      <td>1</td>\n",
       "      <td>женат / замужем</td>\n",
       "      <td>0</td>\n",
       "      <td>M</td>\n",
       "      <td>сотрудник</td>\n",
       "      <td>0</td>\n",
       "      <td>145885.952297</td>\n",
       "      <td>покупка жилья</td>\n",
       "    </tr>\n",
       "    <tr>\n",
       "      <th>3</th>\n",
       "      <td>3</td>\n",
       "      <td>-4124.747207</td>\n",
       "      <td>32</td>\n",
       "      <td>среднее</td>\n",
       "      <td>1</td>\n",
       "      <td>женат / замужем</td>\n",
       "      <td>0</td>\n",
       "      <td>M</td>\n",
       "      <td>сотрудник</td>\n",
       "      <td>0</td>\n",
       "      <td>267628.550329</td>\n",
       "      <td>дополнительное образование</td>\n",
       "    </tr>\n",
       "    <tr>\n",
       "      <th>4</th>\n",
       "      <td>0</td>\n",
       "      <td>340266.072047</td>\n",
       "      <td>53</td>\n",
       "      <td>среднее</td>\n",
       "      <td>1</td>\n",
       "      <td>гражданский брак</td>\n",
       "      <td>1</td>\n",
       "      <td>F</td>\n",
       "      <td>пенсионер</td>\n",
       "      <td>0</td>\n",
       "      <td>158616.077870</td>\n",
       "      <td>сыграть свадьбу</td>\n",
       "    </tr>\n",
       "    <tr>\n",
       "      <th>5</th>\n",
       "      <td>0</td>\n",
       "      <td>-926.185831</td>\n",
       "      <td>27</td>\n",
       "      <td>высшее</td>\n",
       "      <td>0</td>\n",
       "      <td>гражданский брак</td>\n",
       "      <td>1</td>\n",
       "      <td>M</td>\n",
       "      <td>компаньон</td>\n",
       "      <td>0</td>\n",
       "      <td>255763.565419</td>\n",
       "      <td>покупка жилья</td>\n",
       "    </tr>\n",
       "    <tr>\n",
       "      <th>6</th>\n",
       "      <td>0</td>\n",
       "      <td>-2879.202052</td>\n",
       "      <td>43</td>\n",
       "      <td>высшее</td>\n",
       "      <td>0</td>\n",
       "      <td>женат / замужем</td>\n",
       "      <td>0</td>\n",
       "      <td>F</td>\n",
       "      <td>компаньон</td>\n",
       "      <td>0</td>\n",
       "      <td>240525.971920</td>\n",
       "      <td>операции с жильем</td>\n",
       "    </tr>\n",
       "    <tr>\n",
       "      <th>7</th>\n",
       "      <td>0</td>\n",
       "      <td>-152.779569</td>\n",
       "      <td>50</td>\n",
       "      <td>СРЕДНЕЕ</td>\n",
       "      <td>1</td>\n",
       "      <td>женат / замужем</td>\n",
       "      <td>0</td>\n",
       "      <td>M</td>\n",
       "      <td>сотрудник</td>\n",
       "      <td>0</td>\n",
       "      <td>135823.934197</td>\n",
       "      <td>образование</td>\n",
       "    </tr>\n",
       "    <tr>\n",
       "      <th>8</th>\n",
       "      <td>2</td>\n",
       "      <td>-6929.865299</td>\n",
       "      <td>35</td>\n",
       "      <td>ВЫСШЕЕ</td>\n",
       "      <td>0</td>\n",
       "      <td>гражданский брак</td>\n",
       "      <td>1</td>\n",
       "      <td>F</td>\n",
       "      <td>сотрудник</td>\n",
       "      <td>0</td>\n",
       "      <td>95856.832424</td>\n",
       "      <td>на проведение свадьбы</td>\n",
       "    </tr>\n",
       "    <tr>\n",
       "      <th>9</th>\n",
       "      <td>0</td>\n",
       "      <td>-2188.756445</td>\n",
       "      <td>41</td>\n",
       "      <td>среднее</td>\n",
       "      <td>1</td>\n",
       "      <td>женат / замужем</td>\n",
       "      <td>0</td>\n",
       "      <td>M</td>\n",
       "      <td>сотрудник</td>\n",
       "      <td>0</td>\n",
       "      <td>144425.938277</td>\n",
       "      <td>покупка жилья для семьи</td>\n",
       "    </tr>\n",
       "    <tr>\n",
       "      <th>10</th>\n",
       "      <td>2</td>\n",
       "      <td>-4171.483647</td>\n",
       "      <td>36</td>\n",
       "      <td>высшее</td>\n",
       "      <td>0</td>\n",
       "      <td>женат / замужем</td>\n",
       "      <td>0</td>\n",
       "      <td>M</td>\n",
       "      <td>компаньон</td>\n",
       "      <td>0</td>\n",
       "      <td>113943.491460</td>\n",
       "      <td>покупка недвижимости</td>\n",
       "    </tr>\n",
       "    <tr>\n",
       "      <th>11</th>\n",
       "      <td>0</td>\n",
       "      <td>-792.701887</td>\n",
       "      <td>40</td>\n",
       "      <td>среднее</td>\n",
       "      <td>1</td>\n",
       "      <td>женат / замужем</td>\n",
       "      <td>0</td>\n",
       "      <td>F</td>\n",
       "      <td>сотрудник</td>\n",
       "      <td>0</td>\n",
       "      <td>77069.234271</td>\n",
       "      <td>покупка коммерческой недвижимости</td>\n",
       "    </tr>\n",
       "    <tr>\n",
       "      <th>12</th>\n",
       "      <td>0</td>\n",
       "      <td>NaN</td>\n",
       "      <td>65</td>\n",
       "      <td>среднее</td>\n",
       "      <td>1</td>\n",
       "      <td>гражданский брак</td>\n",
       "      <td>1</td>\n",
       "      <td>M</td>\n",
       "      <td>пенсионер</td>\n",
       "      <td>0</td>\n",
       "      <td>NaN</td>\n",
       "      <td>сыграть свадьбу</td>\n",
       "    </tr>\n",
       "    <tr>\n",
       "      <th>13</th>\n",
       "      <td>0</td>\n",
       "      <td>-1846.641941</td>\n",
       "      <td>54</td>\n",
       "      <td>неоконченное высшее</td>\n",
       "      <td>2</td>\n",
       "      <td>женат / замужем</td>\n",
       "      <td>0</td>\n",
       "      <td>F</td>\n",
       "      <td>сотрудник</td>\n",
       "      <td>0</td>\n",
       "      <td>130458.228857</td>\n",
       "      <td>приобретение автомобиля</td>\n",
       "    </tr>\n",
       "    <tr>\n",
       "      <th>14</th>\n",
       "      <td>0</td>\n",
       "      <td>-1844.956182</td>\n",
       "      <td>56</td>\n",
       "      <td>высшее</td>\n",
       "      <td>0</td>\n",
       "      <td>гражданский брак</td>\n",
       "      <td>1</td>\n",
       "      <td>F</td>\n",
       "      <td>компаньон</td>\n",
       "      <td>1</td>\n",
       "      <td>165127.911772</td>\n",
       "      <td>покупка жилой недвижимости</td>\n",
       "    </tr>\n",
       "    <tr>\n",
       "      <th>15</th>\n",
       "      <td>1</td>\n",
       "      <td>-972.364419</td>\n",
       "      <td>26</td>\n",
       "      <td>среднее</td>\n",
       "      <td>1</td>\n",
       "      <td>женат / замужем</td>\n",
       "      <td>0</td>\n",
       "      <td>F</td>\n",
       "      <td>сотрудник</td>\n",
       "      <td>0</td>\n",
       "      <td>116820.904450</td>\n",
       "      <td>строительство собственной недвижимости</td>\n",
       "    </tr>\n",
       "    <tr>\n",
       "      <th>16</th>\n",
       "      <td>0</td>\n",
       "      <td>-1719.934226</td>\n",
       "      <td>35</td>\n",
       "      <td>среднее</td>\n",
       "      <td>1</td>\n",
       "      <td>женат / замужем</td>\n",
       "      <td>0</td>\n",
       "      <td>F</td>\n",
       "      <td>сотрудник</td>\n",
       "      <td>0</td>\n",
       "      <td>289202.704229</td>\n",
       "      <td>недвижимость</td>\n",
       "    </tr>\n",
       "    <tr>\n",
       "      <th>17</th>\n",
       "      <td>0</td>\n",
       "      <td>-2369.999720</td>\n",
       "      <td>33</td>\n",
       "      <td>высшее</td>\n",
       "      <td>0</td>\n",
       "      <td>гражданский брак</td>\n",
       "      <td>1</td>\n",
       "      <td>M</td>\n",
       "      <td>сотрудник</td>\n",
       "      <td>0</td>\n",
       "      <td>90410.586745</td>\n",
       "      <td>строительство недвижимости</td>\n",
       "    </tr>\n",
       "    <tr>\n",
       "      <th>18</th>\n",
       "      <td>0</td>\n",
       "      <td>400281.136913</td>\n",
       "      <td>53</td>\n",
       "      <td>среднее</td>\n",
       "      <td>1</td>\n",
       "      <td>вдовец / вдова</td>\n",
       "      <td>2</td>\n",
       "      <td>F</td>\n",
       "      <td>пенсионер</td>\n",
       "      <td>0</td>\n",
       "      <td>56823.777243</td>\n",
       "      <td>на покупку подержанного автомобиля</td>\n",
       "    </tr>\n",
       "    <tr>\n",
       "      <th>19</th>\n",
       "      <td>0</td>\n",
       "      <td>-10038.818549</td>\n",
       "      <td>48</td>\n",
       "      <td>СРЕДНЕЕ</td>\n",
       "      <td>1</td>\n",
       "      <td>в разводе</td>\n",
       "      <td>3</td>\n",
       "      <td>F</td>\n",
       "      <td>сотрудник</td>\n",
       "      <td>0</td>\n",
       "      <td>242831.107982</td>\n",
       "      <td>на покупку своего автомобиля</td>\n",
       "    </tr>\n",
       "  </tbody>\n",
       "</table>\n",
       "</div>"
      ],
      "text/plain": [
       "    children  days_employed  dob_years            education  education_id  \\\n",
       "0          1   -8437.673028         42               высшее             0   \n",
       "1          1   -4024.803754         36              среднее             1   \n",
       "2          0   -5623.422610         33              Среднее             1   \n",
       "3          3   -4124.747207         32              среднее             1   \n",
       "4          0  340266.072047         53              среднее             1   \n",
       "5          0    -926.185831         27               высшее             0   \n",
       "6          0   -2879.202052         43               высшее             0   \n",
       "7          0    -152.779569         50              СРЕДНЕЕ             1   \n",
       "8          2   -6929.865299         35               ВЫСШЕЕ             0   \n",
       "9          0   -2188.756445         41              среднее             1   \n",
       "10         2   -4171.483647         36               высшее             0   \n",
       "11         0    -792.701887         40              среднее             1   \n",
       "12         0            NaN         65              среднее             1   \n",
       "13         0   -1846.641941         54  неоконченное высшее             2   \n",
       "14         0   -1844.956182         56               высшее             0   \n",
       "15         1    -972.364419         26              среднее             1   \n",
       "16         0   -1719.934226         35              среднее             1   \n",
       "17         0   -2369.999720         33               высшее             0   \n",
       "18         0  400281.136913         53              среднее             1   \n",
       "19         0  -10038.818549         48              СРЕДНЕЕ             1   \n",
       "\n",
       "       family_status  family_status_id gender income_type  debt  \\\n",
       "0    женат / замужем                 0      F   сотрудник     0   \n",
       "1    женат / замужем                 0      F   сотрудник     0   \n",
       "2    женат / замужем                 0      M   сотрудник     0   \n",
       "3    женат / замужем                 0      M   сотрудник     0   \n",
       "4   гражданский брак                 1      F   пенсионер     0   \n",
       "5   гражданский брак                 1      M   компаньон     0   \n",
       "6    женат / замужем                 0      F   компаньон     0   \n",
       "7    женат / замужем                 0      M   сотрудник     0   \n",
       "8   гражданский брак                 1      F   сотрудник     0   \n",
       "9    женат / замужем                 0      M   сотрудник     0   \n",
       "10   женат / замужем                 0      M   компаньон     0   \n",
       "11   женат / замужем                 0      F   сотрудник     0   \n",
       "12  гражданский брак                 1      M   пенсионер     0   \n",
       "13   женат / замужем                 0      F   сотрудник     0   \n",
       "14  гражданский брак                 1      F   компаньон     1   \n",
       "15   женат / замужем                 0      F   сотрудник     0   \n",
       "16   женат / замужем                 0      F   сотрудник     0   \n",
       "17  гражданский брак                 1      M   сотрудник     0   \n",
       "18    вдовец / вдова                 2      F   пенсионер     0   \n",
       "19         в разводе                 3      F   сотрудник     0   \n",
       "\n",
       "     total_income                                 purpose  \n",
       "0   253875.639453                           покупка жилья  \n",
       "1   112080.014102                 приобретение автомобиля  \n",
       "2   145885.952297                           покупка жилья  \n",
       "3   267628.550329              дополнительное образование  \n",
       "4   158616.077870                         сыграть свадьбу  \n",
       "5   255763.565419                           покупка жилья  \n",
       "6   240525.971920                       операции с жильем  \n",
       "7   135823.934197                             образование  \n",
       "8    95856.832424                   на проведение свадьбы  \n",
       "9   144425.938277                 покупка жилья для семьи  \n",
       "10  113943.491460                    покупка недвижимости  \n",
       "11   77069.234271       покупка коммерческой недвижимости  \n",
       "12            NaN                         сыграть свадьбу  \n",
       "13  130458.228857                 приобретение автомобиля  \n",
       "14  165127.911772              покупка жилой недвижимости  \n",
       "15  116820.904450  строительство собственной недвижимости  \n",
       "16  289202.704229                            недвижимость  \n",
       "17   90410.586745              строительство недвижимости  \n",
       "18   56823.777243      на покупку подержанного автомобиля  \n",
       "19  242831.107982            на покупку своего автомобиля  "
      ]
     },
     "execution_count": 3,
     "metadata": {},
     "output_type": "execute_result"
    }
   ],
   "source": [
    "# ваш код здесь\n",
    "data.head(20)"
   ]
  },
  {
   "cell_type": "markdown",
   "id": "85504c4d",
   "metadata": {
    "deletable": false,
    "editable": false,
    "id": "1c12e233",
    "tags": [
     "start_task"
    ]
   },
   "source": [
    "**Задание 3. Выведите основную информацию о датафрейме с помощью метода `info()`.**"
   ]
  },
  {
   "cell_type": "code",
   "execution_count": 4,
   "id": "68293dd9",
   "metadata": {
    "id": "2b757bca"
   },
   "outputs": [
    {
     "name": "stdout",
     "output_type": "stream",
     "text": [
      "<class 'pandas.core.frame.DataFrame'>\n",
      "RangeIndex: 21525 entries, 0 to 21524\n",
      "Data columns (total 12 columns):\n",
      " #   Column            Non-Null Count  Dtype  \n",
      "---  ------            --------------  -----  \n",
      " 0   children          21525 non-null  int64  \n",
      " 1   days_employed     19351 non-null  float64\n",
      " 2   dob_years         21525 non-null  int64  \n",
      " 3   education         21525 non-null  object \n",
      " 4   education_id      21525 non-null  int64  \n",
      " 5   family_status     21525 non-null  object \n",
      " 6   family_status_id  21525 non-null  int64  \n",
      " 7   gender            21525 non-null  object \n",
      " 8   income_type       21525 non-null  object \n",
      " 9   debt              21525 non-null  int64  \n",
      " 10  total_income      19351 non-null  float64\n",
      " 11  purpose           21525 non-null  object \n",
      "dtypes: float64(2), int64(5), object(5)\n",
      "memory usage: 2.0+ MB\n"
     ]
    }
   ],
   "source": [
    "# ваш код здесь\n",
    "data.info()"
   ]
  },
  {
   "cell_type": "markdown",
   "id": "883bab44",
   "metadata": {
    "deletable": false,
    "editable": false,
    "id": "333ec665"
   },
   "source": [
    "## Предобработка данных"
   ]
  },
  {
   "cell_type": "markdown",
   "id": "b14dfc18",
   "metadata": {
    "deletable": false,
    "editable": false,
    "id": "02d92d53"
   },
   "source": [
    "### Удаление пропусков"
   ]
  },
  {
   "cell_type": "markdown",
   "id": "f8619c6a",
   "metadata": {
    "deletable": false,
    "editable": false,
    "id": "cd84967c",
    "tags": [
     "start_task"
    ]
   },
   "source": [
    "**Задание 4. Выведите количество пропущенных значений для каждого столбца. Используйте комбинацию двух методов.**"
   ]
  },
  {
   "cell_type": "code",
   "execution_count": 5,
   "id": "d4e565fb",
   "metadata": {
    "id": "7f9b2309"
   },
   "outputs": [
    {
     "data": {
      "text/plain": [
       "children               0\n",
       "days_employed       2174\n",
       "dob_years              0\n",
       "education              0\n",
       "education_id           0\n",
       "family_status          0\n",
       "family_status_id       0\n",
       "gender                 0\n",
       "income_type            0\n",
       "debt                   0\n",
       "total_income        2174\n",
       "purpose                0\n",
       "dtype: int64"
      ]
     },
     "execution_count": 5,
     "metadata": {},
     "output_type": "execute_result"
    }
   ],
   "source": [
    "# ваш код здесь\n",
    "data.isna().sum()"
   ]
  },
  {
   "cell_type": "markdown",
   "id": "2c1a945c",
   "metadata": {
    "deletable": false,
    "editable": false,
    "id": "db86e27b",
    "tags": [
     "start_task"
    ]
   },
   "source": [
    "**Задание 5. В двух столбцах есть пропущенные значения. Один из них — `days_employed`. Пропуски в этом столбце вы обработаете на следующем этапе. Другой столбец с пропущенными значениями — `total_income` — хранит данные о доходах. На сумму дохода сильнее всего влияет тип занятости, поэтому заполнить пропуски в этом столбце нужно медианным значением по каждому типу из столбца `income_type`. Например, у человека с типом занятости `сотрудник` пропуск в столбце `total_income` должен быть заполнен медианным доходом среди всех записей с тем же типом.**"
   ]
  },
  {
   "cell_type": "code",
   "execution_count": 6,
   "id": "7b6b80e3",
   "metadata": {
    "id": "42006a93"
   },
   "outputs": [],
   "source": [
    "#median = data.groupby('income_type')['total_income'].median()\n",
    "data.loc[data[\"total_income\"].isna(), \"total_income\"] = \\\n",
    "    data.loc[data[\"total_income\"].isna(), \"income_type\"].map(data.groupby(\"income_type\")[\"total_income\"].median())"
   ]
  },
  {
   "cell_type": "markdown",
   "id": "1dc95def",
   "metadata": {
    "deletable": false,
    "editable": false,
    "id": "89da5ece"
   },
   "source": [
    "### Обработка аномальных значений"
   ]
  },
  {
   "cell_type": "markdown",
   "id": "9165d28f",
   "metadata": {
    "deletable": false,
    "editable": false,
    "id": "57964554",
    "tags": [
     "start_task"
    ]
   },
   "source": [
    "**Задание 6. В данных могут встречаться артефакты (аномалии) — значения, которые не отражают действительность и появились по какой-то ошибке. Таким артефактом будет отрицательное количество дней трудового стажа в столбце `days_employed`. Для реальных данных это нормально. Обработайте значения в этом столбце: замените все отрицательные значения положительными с помощью метода `abs()`.**"
   ]
  },
  {
   "cell_type": "code",
   "execution_count": 7,
   "id": "94f086d7",
   "metadata": {
    "id": "f6f055bf"
   },
   "outputs": [],
   "source": [
    "# ваш код здесь\n",
    "data['days_employed'] = abs(data['days_employed'])"
   ]
  },
  {
   "cell_type": "markdown",
   "id": "ec0f342c",
   "metadata": {
    "deletable": false,
    "editable": false,
    "id": "6107dd2f",
    "tags": [
     "start_task"
    ]
   },
   "source": [
    "**Задание 7. Для каждого типа занятости выведите медианное значение трудового стажа `days_employed` в днях.**"
   ]
  },
  {
   "cell_type": "code",
   "execution_count": 8,
   "id": "1292a9fb",
   "metadata": {
    "id": "85a5faf6"
   },
   "outputs": [
    {
     "data": {
      "text/plain": [
       "income_type\n",
       "безработный        366413.652744\n",
       "в декрете            3296.759962\n",
       "госслужащий          2689.368353\n",
       "компаньон            1547.382223\n",
       "пенсионер          365213.306266\n",
       "предприниматель       520.848083\n",
       "сотрудник            1574.202821\n",
       "студент               578.751554\n",
       "Name: days_employed, dtype: float64"
      ]
     },
     "execution_count": 8,
     "metadata": {},
     "output_type": "execute_result"
    }
   ],
   "source": [
    "# ваш код здесь\n",
    "data.groupby('income_type')['days_employed'].median()"
   ]
  },
  {
   "cell_type": "markdown",
   "id": "1095de09",
   "metadata": {
    "deletable": false,
    "editable": false,
    "id": "38d1a030"
   },
   "source": [
    "У двух типов (безработные и пенсионеры) получатся аномально большие значения. Исправить такие значения сложно, поэтому оставьте их как есть. Тем более этот столбец не понадобится вам для исследования."
   ]
  },
  {
   "cell_type": "markdown",
   "id": "80da701e",
   "metadata": {
    "deletable": false,
    "editable": false,
    "id": "d8a9f147",
    "tags": [
     "start_task"
    ]
   },
   "source": [
    "**Задание 8. Выведите перечень уникальных значений столбца `children`.**"
   ]
  },
  {
   "cell_type": "code",
   "execution_count": 9,
   "id": "9eecfdd7",
   "metadata": {
    "id": "ef5056eb"
   },
   "outputs": [
    {
     "data": {
      "text/plain": [
       "array([ 1,  0,  3,  2, -1,  4, 20,  5])"
      ]
     },
     "execution_count": 9,
     "metadata": {},
     "output_type": "execute_result"
    }
   ],
   "source": [
    "# ваш код здесь\n",
    "data['children'].unique()"
   ]
  },
  {
   "cell_type": "markdown",
   "id": "01d275ca",
   "metadata": {
    "deletable": false,
    "editable": false,
    "id": "40b9ebf2",
    "tags": [
     "start_task"
    ]
   },
   "source": [
    "**Задание 9. В столбце `children` есть два аномальных значения. Удалите строки, в которых встречаются такие аномальные значения из датафрейма `data`.**"
   ]
  },
  {
   "cell_type": "code",
   "execution_count": 10,
   "id": "b8c3e34a",
   "metadata": {
    "id": "3ff9801d"
   },
   "outputs": [],
   "source": [
    "# ваш код здесь\n",
    "data = data.loc[data['children'] != -1]\n",
    "data = data.loc[data['children'] != 20]"
   ]
  },
  {
   "cell_type": "markdown",
   "id": "4b30dcae",
   "metadata": {
    "deletable": false,
    "editable": false,
    "id": "bbc4d0ce",
    "tags": [
     "start_task"
    ]
   },
   "source": [
    "**Задание 10. Ещё раз выведите перечень уникальных значений столбца `children`, чтобы убедиться, что артефакты удалены.**"
   ]
  },
  {
   "cell_type": "code",
   "execution_count": 11,
   "id": "db304586",
   "metadata": {
    "id": "ad4fa8b7"
   },
   "outputs": [
    {
     "data": {
      "text/plain": [
       "array([1, 0, 3, 2, 4, 5])"
      ]
     },
     "execution_count": 11,
     "metadata": {},
     "output_type": "execute_result"
    }
   ],
   "source": [
    "# ваш код здесь\n",
    "data['children'].unique()"
   ]
  },
  {
   "cell_type": "markdown",
   "id": "e6f08361",
   "metadata": {
    "deletable": false,
    "editable": false,
    "id": "75440b63"
   },
   "source": [
    "### Удаление пропусков (продолжение)"
   ]
  },
  {
   "cell_type": "markdown",
   "id": "619b5077",
   "metadata": {
    "deletable": false,
    "editable": false,
    "id": "f4ea573f",
    "tags": [
     "start_task"
    ]
   },
   "source": [
    "**Задание 11. Заполните пропуски в столбце `days_employed` медианными значениями по каждому типу занятости `income_type`.**"
   ]
  },
  {
   "cell_type": "code",
   "execution_count": 12,
   "id": "f91e6cbb",
   "metadata": {
    "id": "af6b1a7e"
   },
   "outputs": [],
   "source": [
    "# ваш код здесь\n",
    "data.loc[data[\"days_employed\"].isna(), \"days_employed\"] = \\\n",
    "    data.loc[data[\"days_employed\"].isna(), \"income_type\"].map(data.groupby(\"income_type\")[\"days_employed\"].median())"
   ]
  },
  {
   "cell_type": "markdown",
   "id": "a43c5c86",
   "metadata": {
    "deletable": false,
    "editable": false,
    "id": "2753f40d",
    "tags": [
     "start_task"
    ]
   },
   "source": [
    "**Задание 12. Убедитесь, что все пропуски заполнены. Проверьте себя и ещё раз выведите количество пропущенных значений для каждого столбца с помощью двух методов.**"
   ]
  },
  {
   "cell_type": "code",
   "execution_count": 13,
   "id": "8158ae35",
   "metadata": {
    "id": "55f78bc2"
   },
   "outputs": [
    {
     "data": {
      "text/plain": [
       "children            0\n",
       "days_employed       0\n",
       "dob_years           0\n",
       "education           0\n",
       "education_id        0\n",
       "family_status       0\n",
       "family_status_id    0\n",
       "gender              0\n",
       "income_type         0\n",
       "debt                0\n",
       "total_income        0\n",
       "purpose             0\n",
       "dtype: int64"
      ]
     },
     "execution_count": 13,
     "metadata": {},
     "output_type": "execute_result"
    }
   ],
   "source": [
    "# ваш код здесь\n",
    "data.isna().sum()"
   ]
  },
  {
   "cell_type": "markdown",
   "id": "b620fdc6",
   "metadata": {
    "deletable": false,
    "editable": false,
    "id": "ddc81e43"
   },
   "source": [
    "### Изменение типов данных"
   ]
  },
  {
   "cell_type": "markdown",
   "id": "6f621b24",
   "metadata": {
    "deletable": false,
    "editable": false,
    "id": "42d19d24",
    "tags": [
     "start_task"
    ]
   },
   "source": [
    "**Задание 13. Замените вещественный тип данных в столбце `total_income` на целочисленный с помощью метода `astype()`.**"
   ]
  },
  {
   "cell_type": "code",
   "execution_count": 14,
   "id": "e766c574",
   "metadata": {
    "id": "920b65ad"
   },
   "outputs": [],
   "source": [
    "# ваш код здесь\n",
    "data['total_income'] = data['total_income'].astype(int)"
   ]
  },
  {
   "cell_type": "markdown",
   "id": "dcfe628b",
   "metadata": {
    "deletable": false,
    "editable": false,
    "id": "80c420ba"
   },
   "source": [
    "### Обработка дубликатов"
   ]
  },
  {
   "cell_type": "markdown",
   "id": "11f4246e",
   "metadata": {
    "deletable": false,
    "editable": false,
    "id": "dc587695",
    "tags": [
     "start_task"
    ]
   },
   "source": [
    "**Задание 14. Выведите на экран количество строк-дубликатов в данных. Если такие строки присутствуют, удалите их.**"
   ]
  },
  {
   "cell_type": "code",
   "execution_count": 15,
   "id": "7f581249",
   "metadata": {
    "id": "3ee445e4"
   },
   "outputs": [
    {
     "data": {
      "text/plain": [
       "54"
      ]
     },
     "execution_count": 15,
     "metadata": {},
     "output_type": "execute_result"
    }
   ],
   "source": [
    "# посчитайте дубликаты\n",
    "data.duplicated().sum()"
   ]
  },
  {
   "cell_type": "code",
   "execution_count": 16,
   "id": "c6885f7e",
   "metadata": {
    "id": "8575fe05"
   },
   "outputs": [],
   "source": [
    "# удалите дубликаты\n",
    "data = data.drop_duplicates().reset_index(drop=True)"
   ]
  },
  {
   "cell_type": "markdown",
   "id": "d922840a",
   "metadata": {
    "deletable": false,
    "editable": false,
    "id": "9771a76c",
    "tags": [
     "start_task"
    ]
   },
   "source": [
    "**Задание 15. Обработайте неявные дубликаты в столбце `education`. В этом столбце есть одни и те же значения, но записанные по-разному: с использованием заглавных и строчных букв. Приведите их к нижнему регистру. Проверьте остальные столбцы.**"
   ]
  },
  {
   "cell_type": "code",
   "execution_count": 23,
   "id": "a774bdbe",
   "metadata": {
    "id": "a9f8e2bf"
   },
   "outputs": [],
   "source": [
    "# ваш код здесь\n",
    "data['education'] = data['education'].str.lower()"
   ]
  },
  {
   "cell_type": "markdown",
   "id": "6e0e2605",
   "metadata": {
    "deletable": false,
    "editable": false,
    "id": "9904cf55"
   },
   "source": [
    "### Категоризация данных"
   ]
  },
  {
   "cell_type": "markdown",
   "id": "bb7d591f",
   "metadata": {
    "deletable": false,
    "editable": false,
    "id": "72fcc8a2",
    "tags": [
     "start_task"
    ]
   },
   "source": [
    "**Задание 16. На основании диапазонов, указанных ниже, создайте в датафрейме `data` столбец `total_income_category` с категориями:**\n",
    "\n",
    "- 0–30000 — `'E'`;\n",
    "- 30001–50000 — `'D'`;\n",
    "- 50001–200000 — `'C'`;\n",
    "- 200001–1000000 — `'B'`;\n",
    "- 1000001 и выше — `'A'`.\n",
    "\n",
    "\n",
    "**Например, кредитополучателю с доходом 25000 нужно назначить категорию `'E'`, а клиенту, получающему 235000, — `'B'`. Используйте собственную функцию с именем `categorize_income()` и метод `apply()`.**"
   ]
  },
  {
   "cell_type": "code",
   "execution_count": 24,
   "id": "612a601b",
   "metadata": {
    "id": "e1771346"
   },
   "outputs": [],
   "source": [
    "def categorize_income(income):\n",
    "    if income <= 30000:\n",
    "        return 'E'\n",
    "    if income <= 50000:\n",
    "        return 'D'\n",
    "    if income <= 200000:\n",
    "        return 'C'\n",
    "    if income <= 1000000:\n",
    "        return 'B'\n",
    "    return 'A'"
   ]
  },
  {
   "cell_type": "code",
   "execution_count": 27,
   "id": "83edcc7a",
   "metadata": {
    "id": "d5f3586d"
   },
   "outputs": [],
   "source": [
    "# примените функцию методом apply()\n",
    "data['total_income_category'] = data['total_income'].apply(categorize_income)"
   ]
  },
  {
   "cell_type": "markdown",
   "id": "d3450cc8",
   "metadata": {
    "deletable": false,
    "editable": false,
    "id": "dde49b5c",
    "tags": [
     "start_task"
    ]
   },
   "source": [
    "**Задание 17. Выведите на экран перечень уникальных целей взятия кредита из столбца `purpose`.**"
   ]
  },
  {
   "cell_type": "code",
   "execution_count": 28,
   "id": "467bf2f0",
   "metadata": {
    "id": "f67ce9b3"
   },
   "outputs": [
    {
     "data": {
      "text/plain": [
       "array(['покупка жилья', 'приобретение автомобиля',\n",
       "       'дополнительное образование', 'сыграть свадьбу',\n",
       "       'операции с жильем', 'образование', 'на проведение свадьбы',\n",
       "       'покупка жилья для семьи', 'покупка недвижимости',\n",
       "       'покупка коммерческой недвижимости', 'покупка жилой недвижимости',\n",
       "       'строительство собственной недвижимости', 'недвижимость',\n",
       "       'строительство недвижимости', 'на покупку подержанного автомобиля',\n",
       "       'на покупку своего автомобиля',\n",
       "       'операции с коммерческой недвижимостью',\n",
       "       'строительство жилой недвижимости', 'жилье',\n",
       "       'операции со своей недвижимостью', 'автомобили',\n",
       "       'заняться образованием', 'сделка с подержанным автомобилем',\n",
       "       'получение образования', 'автомобиль', 'свадьба',\n",
       "       'получение дополнительного образования', 'покупка своего жилья',\n",
       "       'операции с недвижимостью', 'получение высшего образования',\n",
       "       'свой автомобиль', 'сделка с автомобилем',\n",
       "       'профильное образование', 'высшее образование',\n",
       "       'покупка жилья для сдачи', 'на покупку автомобиля', 'ремонт жилью',\n",
       "       'заняться высшим образованием'], dtype=object)"
      ]
     },
     "execution_count": 28,
     "metadata": {},
     "output_type": "execute_result"
    }
   ],
   "source": [
    "# ваш код здесь\n",
    "data['purpose'].unique()"
   ]
  },
  {
   "cell_type": "markdown",
   "id": "b99e9c52",
   "metadata": {
    "deletable": false,
    "editable": false,
    "id": "85d0aef0",
    "tags": [
     "start_task"
    ]
   },
   "source": [
    "**Задание 18. Создайте функцию, которая на основании данных из столбца `purpose` сформирует новый столбец `purpose_category`, в который войдут следующие категории:**\n",
    "\n",
    "- `'операции с автомобилем'`,\n",
    "- `'операции с недвижимостью'`,\n",
    "- `'проведение свадьбы'`,\n",
    "- `'получение образования'`.\n",
    "\n",
    "**Например, если в столбце `purpose` находится подстрока `'на покупку автомобиля'`, то в столбце `purpose_category` должна появиться строка `'операции с автомобилем'`.**\n",
    "\n",
    "**Используйте собственную функцию с именем `categorize_purpose()` и метод `apply()`. Изучите данные в столбце `purpose` и определите, какие подстроки помогут вам правильно определить категорию.**"
   ]
  },
  {
   "cell_type": "code",
   "execution_count": 33,
   "id": "062c3caf",
   "metadata": {
    "id": "e149fab4"
   },
   "outputs": [],
   "source": [
    "def categorize_purpose(category):\n",
    "    if 'авто' in category:\n",
    "        return 'операции с автомобилем'\n",
    "    if 'свадьб' in category:\n",
    "        return 'проведение свадьбы'\n",
    "    if 'образов' in category:\n",
    "        return 'получение образования'\n",
    "    return 'операции с недвижимостью'"
   ]
  },
  {
   "cell_type": "code",
   "execution_count": 35,
   "id": "61a18266",
   "metadata": {
    "id": "bf36e69b"
   },
   "outputs": [
    {
     "data": {
      "text/html": [
       "<div>\n",
       "<style scoped>\n",
       "    .dataframe tbody tr th:only-of-type {\n",
       "        vertical-align: middle;\n",
       "    }\n",
       "\n",
       "    .dataframe tbody tr th {\n",
       "        vertical-align: top;\n",
       "    }\n",
       "\n",
       "    .dataframe thead th {\n",
       "        text-align: right;\n",
       "    }\n",
       "</style>\n",
       "<table border=\"1\" class=\"dataframe\">\n",
       "  <thead>\n",
       "    <tr style=\"text-align: right;\">\n",
       "      <th></th>\n",
       "      <th>children</th>\n",
       "      <th>days_employed</th>\n",
       "      <th>dob_years</th>\n",
       "      <th>education</th>\n",
       "      <th>education_id</th>\n",
       "      <th>family_status</th>\n",
       "      <th>family_status_id</th>\n",
       "      <th>gender</th>\n",
       "      <th>income_type</th>\n",
       "      <th>debt</th>\n",
       "      <th>total_income</th>\n",
       "      <th>purpose</th>\n",
       "      <th>total_income_category</th>\n",
       "      <th>purpose_category</th>\n",
       "    </tr>\n",
       "  </thead>\n",
       "  <tbody>\n",
       "    <tr>\n",
       "      <th>0</th>\n",
       "      <td>1</td>\n",
       "      <td>8437.673028</td>\n",
       "      <td>42</td>\n",
       "      <td>высшее</td>\n",
       "      <td>0</td>\n",
       "      <td>женат / замужем</td>\n",
       "      <td>0</td>\n",
       "      <td>F</td>\n",
       "      <td>сотрудник</td>\n",
       "      <td>0</td>\n",
       "      <td>253875</td>\n",
       "      <td>покупка жилья</td>\n",
       "      <td>B</td>\n",
       "      <td>операции с недвижимостью</td>\n",
       "    </tr>\n",
       "    <tr>\n",
       "      <th>1</th>\n",
       "      <td>1</td>\n",
       "      <td>4024.803754</td>\n",
       "      <td>36</td>\n",
       "      <td>среднее</td>\n",
       "      <td>1</td>\n",
       "      <td>женат / замужем</td>\n",
       "      <td>0</td>\n",
       "      <td>F</td>\n",
       "      <td>сотрудник</td>\n",
       "      <td>0</td>\n",
       "      <td>112080</td>\n",
       "      <td>приобретение автомобиля</td>\n",
       "      <td>C</td>\n",
       "      <td>операции с автомобилем</td>\n",
       "    </tr>\n",
       "    <tr>\n",
       "      <th>2</th>\n",
       "      <td>0</td>\n",
       "      <td>5623.422610</td>\n",
       "      <td>33</td>\n",
       "      <td>среднее</td>\n",
       "      <td>1</td>\n",
       "      <td>женат / замужем</td>\n",
       "      <td>0</td>\n",
       "      <td>M</td>\n",
       "      <td>сотрудник</td>\n",
       "      <td>0</td>\n",
       "      <td>145885</td>\n",
       "      <td>покупка жилья</td>\n",
       "      <td>C</td>\n",
       "      <td>операции с недвижимостью</td>\n",
       "    </tr>\n",
       "    <tr>\n",
       "      <th>3</th>\n",
       "      <td>3</td>\n",
       "      <td>4124.747207</td>\n",
       "      <td>32</td>\n",
       "      <td>среднее</td>\n",
       "      <td>1</td>\n",
       "      <td>женат / замужем</td>\n",
       "      <td>0</td>\n",
       "      <td>M</td>\n",
       "      <td>сотрудник</td>\n",
       "      <td>0</td>\n",
       "      <td>267628</td>\n",
       "      <td>дополнительное образование</td>\n",
       "      <td>B</td>\n",
       "      <td>получение образования</td>\n",
       "    </tr>\n",
       "    <tr>\n",
       "      <th>4</th>\n",
       "      <td>0</td>\n",
       "      <td>340266.072047</td>\n",
       "      <td>53</td>\n",
       "      <td>среднее</td>\n",
       "      <td>1</td>\n",
       "      <td>гражданский брак</td>\n",
       "      <td>1</td>\n",
       "      <td>F</td>\n",
       "      <td>пенсионер</td>\n",
       "      <td>0</td>\n",
       "      <td>158616</td>\n",
       "      <td>сыграть свадьбу</td>\n",
       "      <td>C</td>\n",
       "      <td>проведение свадьбы</td>\n",
       "    </tr>\n",
       "    <tr>\n",
       "      <th>5</th>\n",
       "      <td>0</td>\n",
       "      <td>926.185831</td>\n",
       "      <td>27</td>\n",
       "      <td>высшее</td>\n",
       "      <td>0</td>\n",
       "      <td>гражданский брак</td>\n",
       "      <td>1</td>\n",
       "      <td>M</td>\n",
       "      <td>компаньон</td>\n",
       "      <td>0</td>\n",
       "      <td>255763</td>\n",
       "      <td>покупка жилья</td>\n",
       "      <td>B</td>\n",
       "      <td>операции с недвижимостью</td>\n",
       "    </tr>\n",
       "    <tr>\n",
       "      <th>6</th>\n",
       "      <td>0</td>\n",
       "      <td>2879.202052</td>\n",
       "      <td>43</td>\n",
       "      <td>высшее</td>\n",
       "      <td>0</td>\n",
       "      <td>женат / замужем</td>\n",
       "      <td>0</td>\n",
       "      <td>F</td>\n",
       "      <td>компаньон</td>\n",
       "      <td>0</td>\n",
       "      <td>240525</td>\n",
       "      <td>операции с жильем</td>\n",
       "      <td>B</td>\n",
       "      <td>операции с недвижимостью</td>\n",
       "    </tr>\n",
       "    <tr>\n",
       "      <th>7</th>\n",
       "      <td>0</td>\n",
       "      <td>152.779569</td>\n",
       "      <td>50</td>\n",
       "      <td>среднее</td>\n",
       "      <td>1</td>\n",
       "      <td>женат / замужем</td>\n",
       "      <td>0</td>\n",
       "      <td>M</td>\n",
       "      <td>сотрудник</td>\n",
       "      <td>0</td>\n",
       "      <td>135823</td>\n",
       "      <td>образование</td>\n",
       "      <td>C</td>\n",
       "      <td>получение образования</td>\n",
       "    </tr>\n",
       "    <tr>\n",
       "      <th>8</th>\n",
       "      <td>2</td>\n",
       "      <td>6929.865299</td>\n",
       "      <td>35</td>\n",
       "      <td>высшее</td>\n",
       "      <td>0</td>\n",
       "      <td>гражданский брак</td>\n",
       "      <td>1</td>\n",
       "      <td>F</td>\n",
       "      <td>сотрудник</td>\n",
       "      <td>0</td>\n",
       "      <td>95856</td>\n",
       "      <td>на проведение свадьбы</td>\n",
       "      <td>C</td>\n",
       "      <td>проведение свадьбы</td>\n",
       "    </tr>\n",
       "    <tr>\n",
       "      <th>9</th>\n",
       "      <td>0</td>\n",
       "      <td>2188.756445</td>\n",
       "      <td>41</td>\n",
       "      <td>среднее</td>\n",
       "      <td>1</td>\n",
       "      <td>женат / замужем</td>\n",
       "      <td>0</td>\n",
       "      <td>M</td>\n",
       "      <td>сотрудник</td>\n",
       "      <td>0</td>\n",
       "      <td>144425</td>\n",
       "      <td>покупка жилья для семьи</td>\n",
       "      <td>C</td>\n",
       "      <td>операции с недвижимостью</td>\n",
       "    </tr>\n",
       "  </tbody>\n",
       "</table>\n",
       "</div>"
      ],
      "text/plain": [
       "   children  days_employed  dob_years education  education_id  \\\n",
       "0         1    8437.673028         42    высшее             0   \n",
       "1         1    4024.803754         36   среднее             1   \n",
       "2         0    5623.422610         33   среднее             1   \n",
       "3         3    4124.747207         32   среднее             1   \n",
       "4         0  340266.072047         53   среднее             1   \n",
       "5         0     926.185831         27    высшее             0   \n",
       "6         0    2879.202052         43    высшее             0   \n",
       "7         0     152.779569         50   среднее             1   \n",
       "8         2    6929.865299         35    высшее             0   \n",
       "9         0    2188.756445         41   среднее             1   \n",
       "\n",
       "      family_status  family_status_id gender income_type  debt  total_income  \\\n",
       "0   женат / замужем                 0      F   сотрудник     0        253875   \n",
       "1   женат / замужем                 0      F   сотрудник     0        112080   \n",
       "2   женат / замужем                 0      M   сотрудник     0        145885   \n",
       "3   женат / замужем                 0      M   сотрудник     0        267628   \n",
       "4  гражданский брак                 1      F   пенсионер     0        158616   \n",
       "5  гражданский брак                 1      M   компаньон     0        255763   \n",
       "6   женат / замужем                 0      F   компаньон     0        240525   \n",
       "7   женат / замужем                 0      M   сотрудник     0        135823   \n",
       "8  гражданский брак                 1      F   сотрудник     0         95856   \n",
       "9   женат / замужем                 0      M   сотрудник     0        144425   \n",
       "\n",
       "                      purpose total_income_category          purpose_category  \n",
       "0               покупка жилья                     B  операции с недвижимостью  \n",
       "1     приобретение автомобиля                     C    операции с автомобилем  \n",
       "2               покупка жилья                     C  операции с недвижимостью  \n",
       "3  дополнительное образование                     B     получение образования  \n",
       "4             сыграть свадьбу                     C        проведение свадьбы  \n",
       "5               покупка жилья                     B  операции с недвижимостью  \n",
       "6           операции с жильем                     B  операции с недвижимостью  \n",
       "7                 образование                     C     получение образования  \n",
       "8       на проведение свадьбы                     C        проведение свадьбы  \n",
       "9     покупка жилья для семьи                     C  операции с недвижимостью  "
      ]
     },
     "execution_count": 35,
     "metadata": {},
     "output_type": "execute_result"
    }
   ],
   "source": [
    "# примените функцию методом apply()\n",
    "data['purpose_category'] = data['purpose'].apply(categorize_purpose)\n",
    "data.head(10)"
   ]
  },
  {
   "cell_type": "code",
   "execution_count": null,
   "id": "6c8e8a80",
   "metadata": {},
   "outputs": [],
   "source": []
  }
 ],
 "metadata": {
  "ExecuteTimeLog": [
   {
    "duration": 391,
    "start_time": "2022-07-05T00:21:15.478Z"
   },
   {
    "duration": 139,
    "start_time": "2022-07-05T00:21:31.068Z"
   },
   {
    "duration": 56,
    "start_time": "2022-07-05T00:21:45.529Z"
   },
   {
    "duration": 73,
    "start_time": "2022-07-05T00:21:49.053Z"
   },
   {
    "duration": 15,
    "start_time": "2022-07-05T00:22:06.366Z"
   },
   {
    "duration": 15,
    "start_time": "2022-07-05T00:23:26.413Z"
   },
   {
    "duration": 4,
    "start_time": "2022-07-05T00:28:04.382Z"
   },
   {
    "duration": 911,
    "start_time": "2022-07-05T00:28:14.654Z"
   },
   {
    "duration": 17,
    "start_time": "2022-07-05T00:29:26.539Z"
   },
   {
    "duration": 7,
    "start_time": "2022-07-05T00:29:56.125Z"
   },
   {
    "duration": 15,
    "start_time": "2022-07-05T00:29:59.865Z"
   },
   {
    "duration": 11,
    "start_time": "2022-07-05T00:30:07.911Z"
   },
   {
    "duration": 4,
    "start_time": "2022-07-05T00:30:22.761Z"
   },
   {
    "duration": 16,
    "start_time": "2022-07-05T00:30:37.811Z"
   },
   {
    "duration": 9,
    "start_time": "2022-07-05T00:33:39.548Z"
   },
   {
    "duration": 7,
    "start_time": "2022-07-05T00:41:06.874Z"
   },
   {
    "duration": 7,
    "start_time": "2022-07-05T00:41:20.115Z"
   },
   {
    "duration": 13,
    "start_time": "2022-07-05T00:41:38.129Z"
   },
   {
    "duration": 905,
    "start_time": "2022-07-05T00:46:45.849Z"
   },
   {
    "duration": 821,
    "start_time": "2022-07-05T00:47:11.897Z"
   },
   {
    "duration": 6,
    "start_time": "2022-07-05T00:47:22.788Z"
   },
   {
    "duration": 15,
    "start_time": "2022-07-05T00:47:45.536Z"
   },
   {
    "duration": 13,
    "start_time": "2022-07-05T00:47:58.086Z"
   },
   {
    "duration": 12,
    "start_time": "2022-07-05T00:48:32.856Z"
   },
   {
    "duration": 954,
    "start_time": "2022-07-05T00:49:02.080Z"
   },
   {
    "duration": 19,
    "start_time": "2022-07-05T00:49:16.100Z"
   },
   {
    "duration": 12,
    "start_time": "2022-07-05T00:49:31.525Z"
   },
   {
    "duration": 957,
    "start_time": "2022-07-05T00:49:40.486Z"
   },
   {
    "duration": 11,
    "start_time": "2022-07-05T00:49:53.235Z"
   },
   {
    "duration": 17,
    "start_time": "2022-07-05T01:00:43.518Z"
   },
   {
    "duration": 9,
    "start_time": "2022-07-05T01:04:05.925Z"
   },
   {
    "duration": 6,
    "start_time": "2022-07-05T01:04:20.851Z"
   },
   {
    "duration": 5,
    "start_time": "2022-07-05T01:06:06.683Z"
   },
   {
    "duration": 9,
    "start_time": "2022-07-05T01:06:10.009Z"
   },
   {
    "duration": 9,
    "start_time": "2022-07-05T01:06:16.544Z"
   },
   {
    "duration": 10,
    "start_time": "2022-07-05T01:06:34.567Z"
   },
   {
    "duration": 9,
    "start_time": "2022-07-05T01:06:39.265Z"
   },
   {
    "duration": 7,
    "start_time": "2022-07-05T01:07:20.089Z"
   },
   {
    "duration": 7,
    "start_time": "2022-07-05T01:07:49.817Z"
   },
   {
    "duration": 7,
    "start_time": "2022-07-05T01:08:01.754Z"
   },
   {
    "duration": 6,
    "start_time": "2022-07-05T01:08:10.546Z"
   },
   {
    "duration": 14,
    "start_time": "2022-07-05T01:08:13.712Z"
   },
   {
    "duration": 15,
    "start_time": "2022-07-05T01:15:40.991Z"
   },
   {
    "duration": 8,
    "start_time": "2022-07-05T01:19:17.781Z"
   },
   {
    "duration": 925,
    "start_time": "2022-07-05T01:19:59.782Z"
   },
   {
    "duration": 11,
    "start_time": "2022-07-05T01:20:10.178Z"
   },
   {
    "duration": 8,
    "start_time": "2022-07-05T01:20:17.486Z"
   },
   {
    "duration": 9,
    "start_time": "2022-07-05T01:22:43.865Z"
   },
   {
    "duration": 8,
    "start_time": "2022-07-05T01:22:48.284Z"
   },
   {
    "duration": 15,
    "start_time": "2022-07-05T01:30:00.340Z"
   },
   {
    "duration": 28,
    "start_time": "2022-07-05T01:30:35.316Z"
   },
   {
    "duration": 30,
    "start_time": "2022-07-05T01:30:50.886Z"
   },
   {
    "duration": 14,
    "start_time": "2022-07-05T01:30:58.294Z"
   },
   {
    "duration": 14,
    "start_time": "2022-07-05T01:31:12.613Z"
   },
   {
    "duration": 23,
    "start_time": "2022-07-05T01:36:01.528Z"
   },
   {
    "duration": 9,
    "start_time": "2022-07-05T01:36:10.557Z"
   },
   {
    "duration": 48,
    "start_time": "2022-07-05T01:36:23.521Z"
   },
   {
    "duration": 67,
    "start_time": "2022-07-05T01:36:28.475Z"
   },
   {
    "duration": 7,
    "start_time": "2022-07-05T01:36:33.177Z"
   },
   {
    "duration": 10,
    "start_time": "2022-07-05T01:36:39.528Z"
   },
   {
    "duration": 9,
    "start_time": "2022-07-05T01:36:54.759Z"
   },
   {
    "duration": 9,
    "start_time": "2022-07-05T01:37:16.486Z"
   },
   {
    "duration": 14,
    "start_time": "2022-07-05T01:37:35.541Z"
   },
   {
    "duration": 50,
    "start_time": "2022-07-05T01:37:52.424Z"
   },
   {
    "duration": 12,
    "start_time": "2022-07-05T01:38:30.899Z"
   },
   {
    "duration": 9,
    "start_time": "2022-07-05T01:38:41.654Z"
   },
   {
    "duration": 10,
    "start_time": "2022-07-05T01:38:52.274Z"
   },
   {
    "duration": 16,
    "start_time": "2022-07-05T01:39:30.734Z"
   },
   {
    "duration": 13,
    "start_time": "2022-07-05T01:39:39.621Z"
   },
   {
    "duration": 3,
    "start_time": "2022-07-05T01:40:37.943Z"
   },
   {
    "duration": 63,
    "start_time": "2022-07-05T01:40:38.639Z"
   },
   {
    "duration": 23,
    "start_time": "2022-07-05T01:40:42.316Z"
   },
   {
    "duration": 17,
    "start_time": "2022-07-05T01:40:44.892Z"
   },
   {
    "duration": 17,
    "start_time": "2022-07-05T01:40:47.317Z"
   },
   {
    "duration": 12,
    "start_time": "2022-07-05T01:40:49.667Z"
   },
   {
    "duration": 13,
    "start_time": "2022-07-05T01:41:04.365Z"
   },
   {
    "duration": 12,
    "start_time": "2022-07-05T01:41:14.840Z"
   },
   {
    "duration": 8,
    "start_time": "2022-07-05T01:41:24.270Z"
   },
   {
    "duration": 24,
    "start_time": "2022-07-05T01:42:26.905Z"
   },
   {
    "duration": 8,
    "start_time": "2022-07-05T01:42:40.850Z"
   },
   {
    "duration": 877,
    "start_time": "2022-07-05T01:43:03.336Z"
   },
   {
    "duration": 8,
    "start_time": "2022-07-05T01:43:10.753Z"
   },
   {
    "duration": 13,
    "start_time": "2022-07-05T01:49:23.719Z"
   },
   {
    "duration": 19,
    "start_time": "2022-07-05T01:49:37.544Z"
   },
   {
    "duration": 24,
    "start_time": "2022-07-05T01:50:01.476Z"
   },
   {
    "duration": 11,
    "start_time": "2022-07-05T01:50:41.080Z"
   },
   {
    "duration": 11,
    "start_time": "2022-07-05T01:51:18.609Z"
   },
   {
    "duration": 29,
    "start_time": "2022-07-05T01:51:21.869Z"
   },
   {
    "duration": 19,
    "start_time": "2022-07-05T01:51:36.951Z"
   },
   {
    "duration": 14,
    "start_time": "2022-07-05T01:51:49.210Z"
   },
   {
    "duration": 9,
    "start_time": "2022-07-05T01:52:07.761Z"
   },
   {
    "duration": 8,
    "start_time": "2022-07-05T01:52:16.550Z"
   },
   {
    "duration": 9,
    "start_time": "2022-07-05T01:52:26.157Z"
   },
   {
    "duration": 13,
    "start_time": "2022-07-05T01:52:48.213Z"
   },
   {
    "duration": 9,
    "start_time": "2022-07-05T01:52:54.764Z"
   },
   {
    "duration": 13,
    "start_time": "2022-07-05T01:53:07.423Z"
   },
   {
    "duration": 12,
    "start_time": "2022-07-05T01:53:15.344Z"
   },
   {
    "duration": 13,
    "start_time": "2022-07-05T01:53:26.539Z"
   },
   {
    "duration": 61,
    "start_time": "2022-07-05T01:53:39.889Z"
   },
   {
    "duration": 429,
    "start_time": "2022-07-05T01:53:43.776Z"
   },
   {
    "duration": 86,
    "start_time": "2022-07-05T01:53:44.375Z"
   },
   {
    "duration": 35,
    "start_time": "2022-07-05T01:53:46.485Z"
   },
   {
    "duration": 21,
    "start_time": "2022-07-05T01:53:49.430Z"
   },
   {
    "duration": 12,
    "start_time": "2022-07-05T01:53:51.537Z"
   },
   {
    "duration": 15,
    "start_time": "2022-07-05T01:53:53.421Z"
   },
   {
    "duration": 6,
    "start_time": "2022-07-05T02:00:54.574Z"
   },
   {
    "duration": 8,
    "start_time": "2022-07-05T02:01:04.155Z"
   },
   {
    "duration": 7,
    "start_time": "2022-07-05T02:02:04.530Z"
   },
   {
    "duration": 8,
    "start_time": "2022-07-05T02:03:45.129Z"
   },
   {
    "duration": 30,
    "start_time": "2022-07-05T02:05:47.448Z"
   },
   {
    "duration": 7,
    "start_time": "2022-07-05T02:06:02.851Z"
   },
   {
    "duration": 3,
    "start_time": "2022-07-05T02:08:09.032Z"
   },
   {
    "duration": 241,
    "start_time": "2022-07-05T02:12:23.993Z"
   },
   {
    "duration": 6,
    "start_time": "2022-07-05T02:13:28.929Z"
   },
   {
    "duration": 6,
    "start_time": "2022-07-05T02:13:34.689Z"
   },
   {
    "duration": 9,
    "start_time": "2022-07-05T02:13:39.532Z"
   },
   {
    "duration": 11,
    "start_time": "2022-07-05T02:16:38.860Z"
   },
   {
    "duration": 30,
    "start_time": "2022-07-05T02:16:44.835Z"
   },
   {
    "duration": 7,
    "start_time": "2022-07-05T02:17:09.928Z"
   },
   {
    "duration": 8,
    "start_time": "2022-07-05T02:19:13.814Z"
   },
   {
    "duration": 14,
    "start_time": "2022-07-05T02:19:51.984Z"
   },
   {
    "duration": 12,
    "start_time": "2022-07-05T02:20:02.556Z"
   },
   {
    "duration": 11,
    "start_time": "2022-07-05T02:20:06.317Z"
   },
   {
    "duration": 9,
    "start_time": "2022-07-05T02:20:24.244Z"
   },
   {
    "duration": 8,
    "start_time": "2022-07-05T02:20:27.581Z"
   },
   {
    "duration": 13,
    "start_time": "2022-07-05T02:20:36.097Z"
   },
   {
    "duration": 357,
    "start_time": "2022-07-05T02:20:49.842Z"
   },
   {
    "duration": 56,
    "start_time": "2022-07-05T02:20:50.235Z"
   },
   {
    "duration": 21,
    "start_time": "2022-07-05T02:20:53.225Z"
   },
   {
    "duration": 13,
    "start_time": "2022-07-05T02:20:57.335Z"
   },
   {
    "duration": 10,
    "start_time": "2022-07-05T02:20:59.224Z"
   },
   {
    "duration": 7,
    "start_time": "2022-07-05T02:21:01.244Z"
   },
   {
    "duration": 23,
    "start_time": "2022-07-05T02:21:10.398Z"
   },
   {
    "duration": 20,
    "start_time": "2022-07-05T02:21:25.876Z"
   },
   {
    "duration": 23,
    "start_time": "2022-07-05T02:21:51.692Z"
   },
   {
    "duration": 25,
    "start_time": "2022-07-05T02:21:59.503Z"
   },
   {
    "duration": 19,
    "start_time": "2022-07-05T02:22:21.743Z"
   },
   {
    "duration": 443,
    "start_time": "2022-07-05T02:22:56.434Z"
   },
   {
    "duration": 22,
    "start_time": "2022-07-05T02:23:07.314Z"
   },
   {
    "duration": 10,
    "start_time": "2022-07-05T02:23:22.414Z"
   },
   {
    "duration": 10,
    "start_time": "2022-07-05T02:23:33.649Z"
   },
   {
    "duration": 22,
    "start_time": "2022-07-05T02:23:43.393Z"
   },
   {
    "duration": 10,
    "start_time": "2022-07-05T02:23:51.434Z"
   },
   {
    "duration": 23,
    "start_time": "2022-07-05T02:24:04.711Z"
   },
   {
    "duration": 351,
    "start_time": "2022-07-05T02:24:19.247Z"
   },
   {
    "duration": 76,
    "start_time": "2022-07-05T02:24:19.600Z"
   },
   {
    "duration": 20,
    "start_time": "2022-07-05T02:24:19.678Z"
   },
   {
    "duration": 25,
    "start_time": "2022-07-05T02:24:19.707Z"
   },
   {
    "duration": 11,
    "start_time": "2022-07-05T02:24:19.735Z"
   },
   {
    "duration": 3,
    "start_time": "2022-07-05T02:24:19.747Z"
   },
   {
    "duration": 6,
    "start_time": "2022-07-05T02:24:19.751Z"
   },
   {
    "duration": 13,
    "start_time": "2022-07-05T02:24:19.758Z"
   },
   {
    "duration": 5,
    "start_time": "2022-07-05T02:24:19.773Z"
   },
   {
    "duration": 5,
    "start_time": "2022-07-05T02:24:19.780Z"
   },
   {
    "duration": 19,
    "start_time": "2022-07-05T02:24:19.786Z"
   },
   {
    "duration": 25,
    "start_time": "2022-07-05T02:24:19.808Z"
   },
   {
    "duration": 5,
    "start_time": "2022-07-05T02:24:19.834Z"
   },
   {
    "duration": 5,
    "start_time": "2022-07-05T02:24:19.842Z"
   },
   {
    "duration": 5,
    "start_time": "2022-07-05T02:24:19.848Z"
   },
   {
    "duration": 7,
    "start_time": "2022-07-05T02:24:19.854Z"
   },
   {
    "duration": 9,
    "start_time": "2022-07-05T02:24:19.862Z"
   },
   {
    "duration": 4,
    "start_time": "2022-07-05T02:24:19.873Z"
   },
   {
    "duration": 5,
    "start_time": "2022-07-05T02:24:19.879Z"
   },
   {
    "duration": 4,
    "start_time": "2022-07-05T02:24:19.886Z"
   },
   {
    "duration": 5,
    "start_time": "2022-07-05T02:24:19.891Z"
   },
   {
    "duration": 14,
    "start_time": "2022-07-05T02:24:25.993Z"
   },
   {
    "duration": 71,
    "start_time": "2022-07-05T02:24:48.284Z"
   },
   {
    "duration": 9,
    "start_time": "2022-07-05T02:24:55.960Z"
   },
   {
    "duration": 361,
    "start_time": "2022-07-05T02:25:05.874Z"
   },
   {
    "duration": 58,
    "start_time": "2022-07-05T02:25:06.237Z"
   },
   {
    "duration": 30,
    "start_time": "2022-07-05T02:25:06.297Z"
   },
   {
    "duration": 21,
    "start_time": "2022-07-05T02:25:06.328Z"
   },
   {
    "duration": 8,
    "start_time": "2022-07-05T02:25:06.351Z"
   },
   {
    "duration": 16,
    "start_time": "2022-07-05T02:25:06.360Z"
   },
   {
    "duration": 9,
    "start_time": "2022-07-05T02:25:06.377Z"
   },
   {
    "duration": 7,
    "start_time": "2022-07-05T02:25:06.388Z"
   },
   {
    "duration": 34,
    "start_time": "2022-07-05T02:25:06.397Z"
   },
   {
    "duration": 9,
    "start_time": "2022-07-05T02:25:06.432Z"
   },
   {
    "duration": 9,
    "start_time": "2022-07-05T02:25:06.443Z"
   },
   {
    "duration": 5,
    "start_time": "2022-07-05T02:25:06.453Z"
   },
   {
    "duration": 6,
    "start_time": "2022-07-05T02:25:06.459Z"
   },
   {
    "duration": 10,
    "start_time": "2022-07-05T02:25:06.467Z"
   },
   {
    "duration": 17,
    "start_time": "2022-07-05T02:25:06.478Z"
   },
   {
    "duration": 22,
    "start_time": "2022-07-05T02:25:06.497Z"
   },
   {
    "duration": 24,
    "start_time": "2022-07-05T02:25:06.521Z"
   },
   {
    "duration": 9,
    "start_time": "2022-07-05T02:25:06.547Z"
   },
   {
    "duration": 17,
    "start_time": "2022-07-05T02:25:06.558Z"
   },
   {
    "duration": 15,
    "start_time": "2022-07-05T02:25:06.576Z"
   },
   {
    "duration": 35,
    "start_time": "2022-07-05T02:25:06.592Z"
   },
   {
    "duration": 15,
    "start_time": "2022-07-05T02:25:06.629Z"
   },
   {
    "duration": 63,
    "start_time": "2022-07-05T02:33:45.913Z"
   },
   {
    "duration": 8,
    "start_time": "2022-07-05T02:33:52.139Z"
   },
   {
    "duration": 18,
    "start_time": "2022-07-05T02:34:07.818Z"
   },
   {
    "duration": 8,
    "start_time": "2022-07-05T02:35:09.113Z"
   },
   {
    "duration": 4,
    "start_time": "2022-07-05T02:39:36.761Z"
   },
   {
    "duration": 8,
    "start_time": "2022-07-05T02:39:38.485Z"
   },
   {
    "duration": 6,
    "start_time": "2022-07-05T02:39:46.175Z"
   },
   {
    "duration": 4,
    "start_time": "2022-07-05T02:39:54.074Z"
   },
   {
    "duration": 29,
    "start_time": "2022-07-05T02:43:15.617Z"
   },
   {
    "duration": 13,
    "start_time": "2022-07-05T02:43:38.151Z"
   },
   {
    "duration": 17,
    "start_time": "2022-07-05T02:43:49.467Z"
   },
   {
    "duration": 2,
    "start_time": "2022-07-05T02:45:03.132Z"
   },
   {
    "duration": 4,
    "start_time": "2022-07-05T02:45:26.186Z"
   },
   {
    "duration": 8,
    "start_time": "2022-07-05T02:47:17.733Z"
   },
   {
    "duration": 391,
    "start_time": "2022-07-05T02:48:49.575Z"
   },
   {
    "duration": 5,
    "start_time": "2022-07-05T02:49:46.795Z"
   },
   {
    "duration": 13,
    "start_time": "2022-07-05T02:49:55.421Z"
   },
   {
    "duration": 381,
    "start_time": "2022-07-05T02:53:53.977Z"
   },
   {
    "duration": 6,
    "start_time": "2022-07-05T02:56:30.596Z"
   },
   {
    "duration": 4,
    "start_time": "2022-07-05T02:57:11.018Z"
   },
   {
    "duration": 6,
    "start_time": "2022-07-05T02:58:42.819Z"
   },
   {
    "duration": 7,
    "start_time": "2022-07-05T02:59:14.256Z"
   },
   {
    "duration": 5,
    "start_time": "2022-07-05T03:00:01.822Z"
   },
   {
    "duration": 11,
    "start_time": "2022-07-05T03:01:19.413Z"
   },
   {
    "duration": 30,
    "start_time": "2022-07-05T03:01:33.281Z"
   },
   {
    "duration": 26,
    "start_time": "2022-07-05T03:02:10.458Z"
   },
   {
    "duration": 10,
    "start_time": "2022-07-05T03:03:13.980Z"
   },
   {
    "duration": 9,
    "start_time": "2022-07-05T03:04:19.013Z"
   },
   {
    "duration": 8,
    "start_time": "2022-07-05T03:04:21.712Z"
   },
   {
    "duration": 8,
    "start_time": "2022-07-05T03:05:42.883Z"
   },
   {
    "duration": 3,
    "start_time": "2022-07-05T03:06:31.190Z"
   },
   {
    "duration": 7,
    "start_time": "2022-07-05T03:08:03.772Z"
   },
   {
    "duration": 7,
    "start_time": "2022-07-05T03:08:10.646Z"
   },
   {
    "duration": 6,
    "start_time": "2022-07-05T03:08:30.241Z"
   },
   {
    "duration": 7,
    "start_time": "2022-07-05T03:10:18.688Z"
   },
   {
    "duration": 367,
    "start_time": "2022-07-05T03:10:32.023Z"
   },
   {
    "duration": 67,
    "start_time": "2022-07-05T03:10:32.391Z"
   },
   {
    "duration": 22,
    "start_time": "2022-07-05T03:10:32.460Z"
   },
   {
    "duration": 25,
    "start_time": "2022-07-05T03:10:32.484Z"
   },
   {
    "duration": 18,
    "start_time": "2022-07-05T03:10:32.512Z"
   },
   {
    "duration": 12,
    "start_time": "2022-07-05T03:10:32.532Z"
   },
   {
    "duration": 3,
    "start_time": "2022-07-05T03:10:32.545Z"
   },
   {
    "duration": 8,
    "start_time": "2022-07-05T03:10:32.550Z"
   },
   {
    "duration": 6,
    "start_time": "2022-07-05T03:10:32.559Z"
   },
   {
    "duration": 15,
    "start_time": "2022-07-05T03:10:32.567Z"
   },
   {
    "duration": 4,
    "start_time": "2022-07-05T03:10:32.583Z"
   },
   {
    "duration": 24,
    "start_time": "2022-07-05T03:10:32.589Z"
   },
   {
    "duration": 18,
    "start_time": "2022-07-05T03:10:32.615Z"
   },
   {
    "duration": 9,
    "start_time": "2022-07-05T03:10:32.635Z"
   },
   {
    "duration": 22,
    "start_time": "2022-07-05T03:10:32.645Z"
   },
   {
    "duration": 17,
    "start_time": "2022-07-05T03:10:32.668Z"
   },
   {
    "duration": 21,
    "start_time": "2022-07-05T03:10:32.686Z"
   },
   {
    "duration": 10,
    "start_time": "2022-07-05T03:10:32.708Z"
   },
   {
    "duration": 7,
    "start_time": "2022-07-05T03:10:32.719Z"
   },
   {
    "duration": 10,
    "start_time": "2022-07-05T03:10:32.728Z"
   },
   {
    "duration": 6,
    "start_time": "2022-07-05T03:10:32.739Z"
   },
   {
    "duration": 8,
    "start_time": "2022-07-05T03:10:32.746Z"
   },
   {
    "duration": 10,
    "start_time": "2022-07-05T03:10:39.187Z"
   },
   {
    "duration": 3,
    "start_time": "2022-07-05T03:16:03.994Z"
   },
   {
    "duration": 12,
    "start_time": "2022-07-05T03:16:06.260Z"
   },
   {
    "duration": 18,
    "start_time": "2022-07-05T03:19:29.614Z"
   },
   {
    "duration": 7,
    "start_time": "2022-07-05T03:20:40.962Z"
   },
   {
    "duration": 6,
    "start_time": "2022-07-05T03:21:07.719Z"
   },
   {
    "duration": 3,
    "start_time": "2022-07-05T03:27:39.120Z"
   },
   {
    "duration": 276,
    "start_time": "2022-07-05T03:27:41.376Z"
   },
   {
    "duration": 234,
    "start_time": "2022-07-05T03:28:04.229Z"
   },
   {
    "duration": 222,
    "start_time": "2022-07-05T03:28:32.215Z"
   },
   {
    "duration": 3,
    "start_time": "2022-07-05T03:28:39.184Z"
   },
   {
    "duration": 8,
    "start_time": "2022-07-05T03:28:41.283Z"
   },
   {
    "duration": 18,
    "start_time": "2022-07-05T03:28:50.065Z"
   }
  ],
  "colab": {
   "name": "dpp_template_part1.ipynb",
   "provenance": []
  },
  "kernelspec": {
   "display_name": "Python 3 (ipykernel)",
   "language": "python",
   "name": "python3"
  },
  "language_info": {
   "codemirror_mode": {
    "name": "ipython",
    "version": 3
   },
   "file_extension": ".py",
   "mimetype": "text/x-python",
   "name": "python",
   "nbconvert_exporter": "python",
   "pygments_lexer": "ipython3",
   "version": "3.9.5"
  },
  "toc": {
   "base_numbering": 1,
   "nav_menu": {},
   "number_sections": true,
   "sideBar": true,
   "skip_h1_title": true,
   "title_cell": "Table of Contents",
   "title_sidebar": "Contents",
   "toc_cell": false,
   "toc_position": {},
   "toc_section_display": true,
   "toc_window_display": false
  }
 },
 "nbformat": 4,
 "nbformat_minor": 5
}
