{
 "cells": [
  {
   "cell_type": "markdown",
   "metadata": {},
   "source": [
    "<b>Анализ для крупного интернет-магазина. </b>\n",
    "\n",
    "Задачи:\n",
    "\n",
    "1. Обработать и подготовить данные.\n",
    "2. Структурирование, коррекция и, если возможно, дополнения в данные.\n",
    "3. Визуализация необходимых данных для выполнения задачи.\n",
    "4. Приоритизация гипотиз.\n",
    "5. Анализ A/B-теста.\n",
    "6. Сделать выводы, удовлетворяющие условию задач.\n",
    "7. Четкое следование поставленных в ТЗ задач."
   ]
  },
  {
   "cell_type": "code",
   "execution_count": 1,
   "metadata": {},
   "outputs": [],
   "source": [
    "# Импорт библиотек\n",
    "import pandas as pd\n",
    "import matplotlib.pyplot as plt\n",
    "import numpy as np\n",
    "import seaborn as sns\n",
    "import math\n",
    "from scipy import stats as st\n",
    "from datetime import datetime, timedelta\n",
    "\n",
    "pd.set_option(\"display.float_format\", \"{:.2f}\".format)\n",
    "pd.set_option('display.max_colwidth', 0)"
   ]
  },
  {
   "cell_type": "code",
   "execution_count": 2,
   "metadata": {},
   "outputs": [],
   "source": [
    "# Читаем .csv\n",
    "hypothesis = pd.read_csv('/datasets/hypothesis.csv')\n",
    "orders = pd.read_csv('/datasets/orders.csv')\n",
    "visitors = pd.read_csv('/datasets/visitors.csv')"
   ]
  },
  {
   "cell_type": "code",
   "execution_count": 3,
   "metadata": {},
   "outputs": [
    {
     "data": {
      "text/html": [
       "<div>\n",
       "<style scoped>\n",
       "    .dataframe tbody tr th:only-of-type {\n",
       "        vertical-align: middle;\n",
       "    }\n",
       "\n",
       "    .dataframe tbody tr th {\n",
       "        vertical-align: top;\n",
       "    }\n",
       "\n",
       "    .dataframe thead th {\n",
       "        text-align: right;\n",
       "    }\n",
       "</style>\n",
       "<table border=\"1\" class=\"dataframe\">\n",
       "  <thead>\n",
       "    <tr style=\"text-align: right;\">\n",
       "      <th></th>\n",
       "      <th>Hypothesis</th>\n",
       "      <th>Reach</th>\n",
       "      <th>Impact</th>\n",
       "      <th>Confidence</th>\n",
       "      <th>Efforts</th>\n",
       "    </tr>\n",
       "  </thead>\n",
       "  <tbody>\n",
       "    <tr>\n",
       "      <th>0</th>\n",
       "      <td>Добавить два новых канала привлечения трафика, что позволит привлекать на 30% больше пользователей</td>\n",
       "      <td>3</td>\n",
       "      <td>10</td>\n",
       "      <td>8</td>\n",
       "      <td>6</td>\n",
       "    </tr>\n",
       "    <tr>\n",
       "      <th>1</th>\n",
       "      <td>Запустить собственную службу доставки, что сократит срок доставки заказов</td>\n",
       "      <td>2</td>\n",
       "      <td>5</td>\n",
       "      <td>4</td>\n",
       "      <td>10</td>\n",
       "    </tr>\n",
       "    <tr>\n",
       "      <th>2</th>\n",
       "      <td>Добавить блоки рекомендаций товаров на сайт интернет магазина, чтобы повысить конверсию и средний чек заказа</td>\n",
       "      <td>8</td>\n",
       "      <td>3</td>\n",
       "      <td>7</td>\n",
       "      <td>3</td>\n",
       "    </tr>\n",
       "    <tr>\n",
       "      <th>3</th>\n",
       "      <td>Изменить структура категорий, что увеличит конверсию, т.к. пользователи быстрее найдут нужный товар</td>\n",
       "      <td>8</td>\n",
       "      <td>3</td>\n",
       "      <td>3</td>\n",
       "      <td>8</td>\n",
       "    </tr>\n",
       "    <tr>\n",
       "      <th>4</th>\n",
       "      <td>Изменить цвет фона главной страницы, чтобы увеличить вовлеченность пользователей</td>\n",
       "      <td>3</td>\n",
       "      <td>1</td>\n",
       "      <td>1</td>\n",
       "      <td>1</td>\n",
       "    </tr>\n",
       "  </tbody>\n",
       "</table>\n",
       "</div>"
      ],
      "text/plain": [
       "                                                                                                     Hypothesis  \\\n",
       "0  Добавить два новых канала привлечения трафика, что позволит привлекать на 30% больше пользователей             \n",
       "1  Запустить собственную службу доставки, что сократит срок доставки заказов                                      \n",
       "2  Добавить блоки рекомендаций товаров на сайт интернет магазина, чтобы повысить конверсию и средний чек заказа   \n",
       "3  Изменить структура категорий, что увеличит конверсию, т.к. пользователи быстрее найдут нужный товар            \n",
       "4  Изменить цвет фона главной страницы, чтобы увеличить вовлеченность пользователей                               \n",
       "\n",
       "   Reach  Impact  Confidence  Efforts  \n",
       "0  3      10      8           6        \n",
       "1  2      5       4           10       \n",
       "2  8      3       7           3        \n",
       "3  8      3       3           8        \n",
       "4  3      1       1           1        "
      ]
     },
     "metadata": {},
     "output_type": "display_data"
    },
    {
     "name": "stdout",
     "output_type": "stream",
     "text": [
      "<class 'pandas.core.frame.DataFrame'>\n",
      "RangeIndex: 9 entries, 0 to 8\n",
      "Data columns (total 5 columns):\n",
      " #   Column      Non-Null Count  Dtype \n",
      "---  ------      --------------  ----- \n",
      " 0   Hypothesis  9 non-null      object\n",
      " 1   Reach       9 non-null      int64 \n",
      " 2   Impact      9 non-null      int64 \n",
      " 3   Confidence  9 non-null      int64 \n",
      " 4   Efforts     9 non-null      int64 \n",
      "dtypes: int64(4), object(1)\n",
      "memory usage: 488.0+ bytes\n"
     ]
    },
    {
     "data": {
      "text/plain": [
       "None"
      ]
     },
     "metadata": {},
     "output_type": "display_data"
    },
    {
     "data": {
      "text/plain": [
       "Hypothesis    0\n",
       "Reach         0\n",
       "Impact        0\n",
       "Confidence    0\n",
       "Efforts       0\n",
       "dtype: int64"
      ]
     },
     "metadata": {},
     "output_type": "display_data"
    },
    {
     "data": {
      "text/plain": [
       "0"
      ]
     },
     "metadata": {},
     "output_type": "display_data"
    }
   ],
   "source": [
    "# Произведем общий анализ полученных данных на пропуски, дубликаты, типы данных и посмотрим как выглядят данные для \n",
    "# общего представления с чем имеем дело\n",
    "\n",
    "# Изучим файл hypothesis.csv\n",
    "display(hypothesis.head())\n",
    "display(hypothesis.info())\n",
    "display(hypothesis.isna().sum())\n",
    "display(hypothesis.duplicated().sum())"
   ]
  },
  {
   "cell_type": "markdown",
   "metadata": {},
   "source": [
    "Изменим названия столбцов в нижний регистр для удобства.\n",
    "\n",
    "Опишем столбцы:\n",
    "\n",
    "- Hypothesis — краткое описание гипотезы.\n",
    "\n",
    "- Reach — охват пользователей по 10-балльной шкале.\n",
    "\n",
    "- Impact — влияние на пользователей по 10-балльной шкале.\n",
    "\n",
    "- Confidence — уверенность в гипотезе по 10-балльной шкале.\n",
    "\n",
    "- Efforts — затраты ресурсов на проверку гипотезы по 10-балльной шкале."
   ]
  },
  {
   "cell_type": "code",
   "execution_count": 4,
   "metadata": {},
   "outputs": [],
   "source": [
    "# Приводим названия столбцов в нижний регистр\n",
    "hypothesis.columns = hypothesis.columns.str.lower()"
   ]
  },
  {
   "cell_type": "code",
   "execution_count": 5,
   "metadata": {},
   "outputs": [
    {
     "data": {
      "text/html": [
       "<div>\n",
       "<style scoped>\n",
       "    .dataframe tbody tr th:only-of-type {\n",
       "        vertical-align: middle;\n",
       "    }\n",
       "\n",
       "    .dataframe tbody tr th {\n",
       "        vertical-align: top;\n",
       "    }\n",
       "\n",
       "    .dataframe thead th {\n",
       "        text-align: right;\n",
       "    }\n",
       "</style>\n",
       "<table border=\"1\" class=\"dataframe\">\n",
       "  <thead>\n",
       "    <tr style=\"text-align: right;\">\n",
       "      <th></th>\n",
       "      <th>transactionId</th>\n",
       "      <th>visitorId</th>\n",
       "      <th>date</th>\n",
       "      <th>revenue</th>\n",
       "      <th>group</th>\n",
       "    </tr>\n",
       "  </thead>\n",
       "  <tbody>\n",
       "    <tr>\n",
       "      <th>0</th>\n",
       "      <td>3667963787</td>\n",
       "      <td>3312258926</td>\n",
       "      <td>2019-08-15</td>\n",
       "      <td>1650</td>\n",
       "      <td>B</td>\n",
       "    </tr>\n",
       "    <tr>\n",
       "      <th>1</th>\n",
       "      <td>2804400009</td>\n",
       "      <td>3642806036</td>\n",
       "      <td>2019-08-15</td>\n",
       "      <td>730</td>\n",
       "      <td>B</td>\n",
       "    </tr>\n",
       "    <tr>\n",
       "      <th>2</th>\n",
       "      <td>2961555356</td>\n",
       "      <td>4069496402</td>\n",
       "      <td>2019-08-15</td>\n",
       "      <td>400</td>\n",
       "      <td>A</td>\n",
       "    </tr>\n",
       "    <tr>\n",
       "      <th>3</th>\n",
       "      <td>3797467345</td>\n",
       "      <td>1196621759</td>\n",
       "      <td>2019-08-15</td>\n",
       "      <td>9759</td>\n",
       "      <td>B</td>\n",
       "    </tr>\n",
       "    <tr>\n",
       "      <th>4</th>\n",
       "      <td>2282983706</td>\n",
       "      <td>2322279887</td>\n",
       "      <td>2019-08-15</td>\n",
       "      <td>2308</td>\n",
       "      <td>B</td>\n",
       "    </tr>\n",
       "  </tbody>\n",
       "</table>\n",
       "</div>"
      ],
      "text/plain": [
       "   transactionId   visitorId        date  revenue group\n",
       "0  3667963787     3312258926  2019-08-15  1650     B   \n",
       "1  2804400009     3642806036  2019-08-15  730      B   \n",
       "2  2961555356     4069496402  2019-08-15  400      A   \n",
       "3  3797467345     1196621759  2019-08-15  9759     B   \n",
       "4  2282983706     2322279887  2019-08-15  2308     B   "
      ]
     },
     "metadata": {},
     "output_type": "display_data"
    },
    {
     "name": "stdout",
     "output_type": "stream",
     "text": [
      "<class 'pandas.core.frame.DataFrame'>\n",
      "RangeIndex: 1197 entries, 0 to 1196\n",
      "Data columns (total 5 columns):\n",
      " #   Column         Non-Null Count  Dtype \n",
      "---  ------         --------------  ----- \n",
      " 0   transactionId  1197 non-null   int64 \n",
      " 1   visitorId      1197 non-null   int64 \n",
      " 2   date           1197 non-null   object\n",
      " 3   revenue        1197 non-null   int64 \n",
      " 4   group          1197 non-null   object\n",
      "dtypes: int64(3), object(2)\n",
      "memory usage: 46.9+ KB\n"
     ]
    },
    {
     "data": {
      "text/plain": [
       "None"
      ]
     },
     "metadata": {},
     "output_type": "display_data"
    },
    {
     "data": {
      "text/plain": [
       "transactionId    0\n",
       "visitorId        0\n",
       "date             0\n",
       "revenue          0\n",
       "group            0\n",
       "dtype: int64"
      ]
     },
     "metadata": {},
     "output_type": "display_data"
    },
    {
     "data": {
      "text/plain": [
       "0"
      ]
     },
     "metadata": {},
     "output_type": "display_data"
    }
   ],
   "source": [
    "# Изучим файл orders.csv\n",
    "display(orders.head())\n",
    "display(orders.info())\n",
    "display(orders.isna().sum())\n",
    "display(orders.duplicated().sum())"
   ]
  },
  {
   "cell_type": "markdown",
   "metadata": {},
   "source": [
    "Столбец date не соответствует типу datetime.\n",
    "\n",
    "Столбцы transactionId и visiorId не соответствуют snake_case.\n",
    "\n",
    "Опишем столбцы:\n",
    "\n",
    "- transactionId — идентификатор заказа.\n",
    "\n",
    "- visitorId — идентификатор пользователя, совершившего заказ.\n",
    "\n",
    "- date — дата, когда был совершён заказ.\n",
    "\n",
    "- revenue — выручка заказа.\n",
    "\n",
    "- group — группа A/B-теста, в которую попал заказ."
   ]
  },
  {
   "cell_type": "code",
   "execution_count": 6,
   "metadata": {},
   "outputs": [],
   "source": [
    "# Преобразуем тип данных date в datetime\n",
    "orders['date'] = pd.to_datetime(orders['date'])\n",
    "\n",
    "# Преобразуем столбцы в snake_case\n",
    "orders = orders.rename(columns={'transactionId': 'transaction_id', 'visitorId': 'visitor_id'})"
   ]
  },
  {
   "cell_type": "code",
   "execution_count": 7,
   "metadata": {},
   "outputs": [
    {
     "data": {
      "text/html": [
       "<div>\n",
       "<style scoped>\n",
       "    .dataframe tbody tr th:only-of-type {\n",
       "        vertical-align: middle;\n",
       "    }\n",
       "\n",
       "    .dataframe tbody tr th {\n",
       "        vertical-align: top;\n",
       "    }\n",
       "\n",
       "    .dataframe thead th {\n",
       "        text-align: right;\n",
       "    }\n",
       "</style>\n",
       "<table border=\"1\" class=\"dataframe\">\n",
       "  <thead>\n",
       "    <tr style=\"text-align: right;\">\n",
       "      <th></th>\n",
       "      <th>date</th>\n",
       "      <th>group</th>\n",
       "      <th>visitors</th>\n",
       "    </tr>\n",
       "  </thead>\n",
       "  <tbody>\n",
       "    <tr>\n",
       "      <th>0</th>\n",
       "      <td>2019-08-01</td>\n",
       "      <td>A</td>\n",
       "      <td>719</td>\n",
       "    </tr>\n",
       "    <tr>\n",
       "      <th>1</th>\n",
       "      <td>2019-08-02</td>\n",
       "      <td>A</td>\n",
       "      <td>619</td>\n",
       "    </tr>\n",
       "    <tr>\n",
       "      <th>2</th>\n",
       "      <td>2019-08-03</td>\n",
       "      <td>A</td>\n",
       "      <td>507</td>\n",
       "    </tr>\n",
       "    <tr>\n",
       "      <th>3</th>\n",
       "      <td>2019-08-04</td>\n",
       "      <td>A</td>\n",
       "      <td>717</td>\n",
       "    </tr>\n",
       "    <tr>\n",
       "      <th>4</th>\n",
       "      <td>2019-08-05</td>\n",
       "      <td>A</td>\n",
       "      <td>756</td>\n",
       "    </tr>\n",
       "  </tbody>\n",
       "</table>\n",
       "</div>"
      ],
      "text/plain": [
       "         date group  visitors\n",
       "0  2019-08-01  A     719     \n",
       "1  2019-08-02  A     619     \n",
       "2  2019-08-03  A     507     \n",
       "3  2019-08-04  A     717     \n",
       "4  2019-08-05  A     756     "
      ]
     },
     "metadata": {},
     "output_type": "display_data"
    },
    {
     "name": "stdout",
     "output_type": "stream",
     "text": [
      "<class 'pandas.core.frame.DataFrame'>\n",
      "RangeIndex: 62 entries, 0 to 61\n",
      "Data columns (total 3 columns):\n",
      " #   Column    Non-Null Count  Dtype \n",
      "---  ------    --------------  ----- \n",
      " 0   date      62 non-null     object\n",
      " 1   group     62 non-null     object\n",
      " 2   visitors  62 non-null     int64 \n",
      "dtypes: int64(1), object(2)\n",
      "memory usage: 1.6+ KB\n"
     ]
    },
    {
     "data": {
      "text/plain": [
       "None"
      ]
     },
     "metadata": {},
     "output_type": "display_data"
    },
    {
     "data": {
      "text/plain": [
       "date        0\n",
       "group       0\n",
       "visitors    0\n",
       "dtype: int64"
      ]
     },
     "metadata": {},
     "output_type": "display_data"
    },
    {
     "data": {
      "text/plain": [
       "0"
      ]
     },
     "metadata": {},
     "output_type": "display_data"
    }
   ],
   "source": [
    "# Изучим файл visitors.csv\n",
    "display(visitors.head())\n",
    "display(visitors.info())\n",
    "display(visitors.isna().sum())\n",
    "display(visitors.duplicated().sum())"
   ]
  },
  {
   "cell_type": "markdown",
   "metadata": {},
   "source": [
    "Столбец date не соответствует типу datetime.\n",
    "\n",
    "Опишем столбцы:\n",
    "\n",
    "- date — дата.\n",
    "\n",
    "- group — группа A/B-теста.\n",
    "\n",
    "- visitors — количество пользователей в указанную дату в указанной группе A/B-теста."
   ]
  },
  {
   "cell_type": "code",
   "execution_count": 8,
   "metadata": {},
   "outputs": [],
   "source": [
    "# Преобразуем тип данных date в datetime\n",
    "visitors['date'] = pd.to_datetime(visitors['date'])"
   ]
  },
  {
   "cell_type": "markdown",
   "metadata": {},
   "source": [
    "Вывод:\n",
    "\n",
    "- Мы получили 3 .csv файла hypothesis.csv, orders.csv и visitors.csv \n",
    "\n",
    "- Сделали описание столбцов для удобности и информативности.\n",
    "\n",
    "- Произвели поиск пропусков и явных дубликатов. Пропуски и явные дубликаты в данных отсутствуют.\n",
    "\n",
    "- Привели названия некоторых столбцов в надлежащий для дальнейшей работы вид.\n",
    "\n",
    "- Произвели форматирование типа данных столбцов date в datetime. \n",
    "\n",
    "- Произвели форматирование стиля написания столбцов в snake_case."
   ]
  },
  {
   "cell_type": "code",
   "execution_count": 9,
   "metadata": {},
   "outputs": [
    {
     "name": "stdout",
     "output_type": "stream",
     "text": [
      "37652\n",
      "Посещения группы A 18736\n",
      "Посещения группы B - 18916\n",
      "В группе B посещений больше на 180\n"
     ]
    }
   ],
   "source": [
    "# Проверим посещения\n",
    "print(visitors['visitors'].sum())\n",
    "print('Посещения группы A', visitors.query('group == \"A\"')['visitors'].sum())\n",
    "print('Посещения группы B -', visitors.query('group == \"B\"')['visitors'].sum())\n",
    "print('В группе B посещений больше на', visitors.query('group == \"B\"')['visitors'].sum() - visitors.query('group == \"A\"')['visitors'].sum())"
   ]
  },
  {
   "cell_type": "code",
   "execution_count": 10,
   "metadata": {},
   "outputs": [
    {
     "name": "stdout",
     "output_type": "stream",
     "text": [
      "1197\n",
      "Заказы группы A 557\n",
      "Заказы группы B 640\n",
      "В группе B заказов больше на 83\n"
     ]
    }
   ],
   "source": [
    "# Проверим заказы\n",
    "print(orders['transaction_id'].count())\n",
    "print('Заказы группы A', orders.query('group == \"A\"')['transaction_id'].count())\n",
    "print('Заказы группы B', orders.query('group == \"B\"')['transaction_id'].count())\n",
    "print('В группе B заказов больше на', orders.query('group == \"B\"')['transaction_id'].count() - orders.query('group == \"A\"')['transaction_id'].count())"
   ]
  },
  {
   "cell_type": "code",
   "execution_count": 11,
   "metadata": {},
   "outputs": [
    {
     "name": "stdout",
     "output_type": "stream",
     "text": [
      "Есть пользователи, которые входят в обе группы и их колличество 58\n"
     ]
    }
   ],
   "source": [
    "# Посмотрим не входили одни и те же пользователи в обе группы\n",
    "\n",
    "visitors_a = orders[orders['group']=='A']['visitor_id']\n",
    "visitors_b = orders[orders['group']=='B']['visitor_id']\n",
    "\n",
    "visitors_ab = orders.loc[orders['visitor_id'].isin(visitors_a)& orders['visitor_id'].isin(visitors_b),'visitor_id'].unique()\n",
    "print('Есть пользователи, которые входят в обе группы и их колличество', len(visitors_ab))"
   ]
  },
  {
   "cell_type": "markdown",
   "metadata": {},
   "source": [
    "В ходе проверки были обнаружены пользователи, которые вошли в обе группы. Следует их удалить.\n",
    "\n",
    "Удалить получится только из заказов, т.к. информация о пользователях только в них, посещения модифицировать, увы, мы не сможем."
   ]
  },
  {
   "cell_type": "code",
   "execution_count": 12,
   "metadata": {},
   "outputs": [],
   "source": [
    "orders = orders.loc[~orders['visitor_id'].isin(visitors_ab)]"
   ]
  },
  {
   "cell_type": "markdown",
   "metadata": {},
   "source": [
    "# Часть 1. Приоритизация гипотез.\n",
    "В файле /datasets/hypothesis.csv 9 гипотез по увеличению выручки интернет-магазина с указанными параметрами Reach, Impact, Confidence, Effort."
   ]
  },
  {
   "cell_type": "markdown",
   "metadata": {},
   "source": [
    "<b>Задача 1.\n",
    "Примените фреймворк ICE для приоритизации гипотез. Отсортируйте их по убыванию приоритета.</b>"
   ]
  },
  {
   "cell_type": "code",
   "execution_count": 13,
   "metadata": {},
   "outputs": [],
   "source": [
    "hypothesis['ICE'] = hypothesis['impact'] * hypothesis['confidence'] / hypothesis['efforts']"
   ]
  },
  {
   "cell_type": "code",
   "execution_count": 14,
   "metadata": {},
   "outputs": [
    {
     "data": {
      "text/html": [
       "<div>\n",
       "<style scoped>\n",
       "    .dataframe tbody tr th:only-of-type {\n",
       "        vertical-align: middle;\n",
       "    }\n",
       "\n",
       "    .dataframe tbody tr th {\n",
       "        vertical-align: top;\n",
       "    }\n",
       "\n",
       "    .dataframe thead th {\n",
       "        text-align: right;\n",
       "    }\n",
       "</style>\n",
       "<table border=\"1\" class=\"dataframe\">\n",
       "  <thead>\n",
       "    <tr style=\"text-align: right;\">\n",
       "      <th></th>\n",
       "      <th>hypothesis</th>\n",
       "      <th>reach</th>\n",
       "      <th>impact</th>\n",
       "      <th>confidence</th>\n",
       "      <th>efforts</th>\n",
       "      <th>ICE</th>\n",
       "    </tr>\n",
       "  </thead>\n",
       "  <tbody>\n",
       "    <tr>\n",
       "      <th>8</th>\n",
       "      <td>Запустить акцию, дающую скидку на товар в день рождения</td>\n",
       "      <td>1</td>\n",
       "      <td>9</td>\n",
       "      <td>9</td>\n",
       "      <td>5</td>\n",
       "      <td>16.20</td>\n",
       "    </tr>\n",
       "    <tr>\n",
       "      <th>0</th>\n",
       "      <td>Добавить два новых канала привлечения трафика, что позволит привлекать на 30% больше пользователей</td>\n",
       "      <td>3</td>\n",
       "      <td>10</td>\n",
       "      <td>8</td>\n",
       "      <td>6</td>\n",
       "      <td>13.33</td>\n",
       "    </tr>\n",
       "    <tr>\n",
       "      <th>7</th>\n",
       "      <td>Добавить форму подписки на все основные страницы, чтобы собрать базу клиентов для email-рассылок</td>\n",
       "      <td>10</td>\n",
       "      <td>7</td>\n",
       "      <td>8</td>\n",
       "      <td>5</td>\n",
       "      <td>11.20</td>\n",
       "    </tr>\n",
       "    <tr>\n",
       "      <th>6</th>\n",
       "      <td>Показать на главной странице баннеры с актуальными акциями и распродажами, чтобы увеличить конверсию</td>\n",
       "      <td>5</td>\n",
       "      <td>3</td>\n",
       "      <td>8</td>\n",
       "      <td>3</td>\n",
       "      <td>8.00</td>\n",
       "    </tr>\n",
       "    <tr>\n",
       "      <th>2</th>\n",
       "      <td>Добавить блоки рекомендаций товаров на сайт интернет магазина, чтобы повысить конверсию и средний чек заказа</td>\n",
       "      <td>8</td>\n",
       "      <td>3</td>\n",
       "      <td>7</td>\n",
       "      <td>3</td>\n",
       "      <td>7.00</td>\n",
       "    </tr>\n",
       "    <tr>\n",
       "      <th>1</th>\n",
       "      <td>Запустить собственную службу доставки, что сократит срок доставки заказов</td>\n",
       "      <td>2</td>\n",
       "      <td>5</td>\n",
       "      <td>4</td>\n",
       "      <td>10</td>\n",
       "      <td>2.00</td>\n",
       "    </tr>\n",
       "    <tr>\n",
       "      <th>5</th>\n",
       "      <td>Добавить страницу отзывов клиентов о магазине, что позволит увеличить количество заказов</td>\n",
       "      <td>3</td>\n",
       "      <td>2</td>\n",
       "      <td>2</td>\n",
       "      <td>3</td>\n",
       "      <td>1.33</td>\n",
       "    </tr>\n",
       "    <tr>\n",
       "      <th>3</th>\n",
       "      <td>Изменить структура категорий, что увеличит конверсию, т.к. пользователи быстрее найдут нужный товар</td>\n",
       "      <td>8</td>\n",
       "      <td>3</td>\n",
       "      <td>3</td>\n",
       "      <td>8</td>\n",
       "      <td>1.12</td>\n",
       "    </tr>\n",
       "    <tr>\n",
       "      <th>4</th>\n",
       "      <td>Изменить цвет фона главной страницы, чтобы увеличить вовлеченность пользователей</td>\n",
       "      <td>3</td>\n",
       "      <td>1</td>\n",
       "      <td>1</td>\n",
       "      <td>1</td>\n",
       "      <td>1.00</td>\n",
       "    </tr>\n",
       "  </tbody>\n",
       "</table>\n",
       "</div>"
      ],
      "text/plain": [
       "                                                                                                     hypothesis  \\\n",
       "8  Запустить акцию, дающую скидку на товар в день рождения                                                        \n",
       "0  Добавить два новых канала привлечения трафика, что позволит привлекать на 30% больше пользователей             \n",
       "7  Добавить форму подписки на все основные страницы, чтобы собрать базу клиентов для email-рассылок               \n",
       "6  Показать на главной странице баннеры с актуальными акциями и распродажами, чтобы увеличить конверсию           \n",
       "2  Добавить блоки рекомендаций товаров на сайт интернет магазина, чтобы повысить конверсию и средний чек заказа   \n",
       "1  Запустить собственную службу доставки, что сократит срок доставки заказов                                      \n",
       "5  Добавить страницу отзывов клиентов о магазине, что позволит увеличить количество заказов                       \n",
       "3  Изменить структура категорий, что увеличит конверсию, т.к. пользователи быстрее найдут нужный товар            \n",
       "4  Изменить цвет фона главной страницы, чтобы увеличить вовлеченность пользователей                               \n",
       "\n",
       "   reach  impact  confidence  efforts   ICE  \n",
       "8  1      9       9           5       16.20  \n",
       "0  3      10      8           6       13.33  \n",
       "7  10     7       8           5       11.20  \n",
       "6  5      3       8           3       8.00   \n",
       "2  8      3       7           3       7.00   \n",
       "1  2      5       4           10      2.00   \n",
       "5  3      2       2           3       1.33   \n",
       "3  8      3       3           8       1.12   \n",
       "4  3      1       1           1       1.00   "
      ]
     },
     "execution_count": 14,
     "metadata": {},
     "output_type": "execute_result"
    }
   ],
   "source": [
    "hypothesis.sort_values('ICE', ascending=False)"
   ]
  },
  {
   "cell_type": "markdown",
   "metadata": {},
   "source": [
    "Приоритетность гипотиз на основании фреймворка ICE\n",
    "8 - 0 - 7 - 6 - 2 - 1 - 5 - 3 - 4"
   ]
  },
  {
   "cell_type": "markdown",
   "metadata": {},
   "source": [
    "<b>Задача 2. Примените фреймворк RICE для приоритизации гипотез. Отсортируйте их по убыванию приоритета.</b>"
   ]
  },
  {
   "cell_type": "code",
   "execution_count": 15,
   "metadata": {},
   "outputs": [],
   "source": [
    "hypothesis['RICE'] = hypothesis['reach'] * hypothesis['impact'] * hypothesis['confidence'] / hypothesis['efforts']"
   ]
  },
  {
   "cell_type": "code",
   "execution_count": 16,
   "metadata": {},
   "outputs": [
    {
     "data": {
      "text/html": [
       "<div>\n",
       "<style scoped>\n",
       "    .dataframe tbody tr th:only-of-type {\n",
       "        vertical-align: middle;\n",
       "    }\n",
       "\n",
       "    .dataframe tbody tr th {\n",
       "        vertical-align: top;\n",
       "    }\n",
       "\n",
       "    .dataframe thead th {\n",
       "        text-align: right;\n",
       "    }\n",
       "</style>\n",
       "<table border=\"1\" class=\"dataframe\">\n",
       "  <thead>\n",
       "    <tr style=\"text-align: right;\">\n",
       "      <th></th>\n",
       "      <th>hypothesis</th>\n",
       "      <th>reach</th>\n",
       "      <th>impact</th>\n",
       "      <th>confidence</th>\n",
       "      <th>efforts</th>\n",
       "      <th>ICE</th>\n",
       "      <th>RICE</th>\n",
       "    </tr>\n",
       "  </thead>\n",
       "  <tbody>\n",
       "    <tr>\n",
       "      <th>7</th>\n",
       "      <td>Добавить форму подписки на все основные страницы, чтобы собрать базу клиентов для email-рассылок</td>\n",
       "      <td>10</td>\n",
       "      <td>7</td>\n",
       "      <td>8</td>\n",
       "      <td>5</td>\n",
       "      <td>11.20</td>\n",
       "      <td>112.00</td>\n",
       "    </tr>\n",
       "    <tr>\n",
       "      <th>2</th>\n",
       "      <td>Добавить блоки рекомендаций товаров на сайт интернет магазина, чтобы повысить конверсию и средний чек заказа</td>\n",
       "      <td>8</td>\n",
       "      <td>3</td>\n",
       "      <td>7</td>\n",
       "      <td>3</td>\n",
       "      <td>7.00</td>\n",
       "      <td>56.00</td>\n",
       "    </tr>\n",
       "    <tr>\n",
       "      <th>0</th>\n",
       "      <td>Добавить два новых канала привлечения трафика, что позволит привлекать на 30% больше пользователей</td>\n",
       "      <td>3</td>\n",
       "      <td>10</td>\n",
       "      <td>8</td>\n",
       "      <td>6</td>\n",
       "      <td>13.33</td>\n",
       "      <td>40.00</td>\n",
       "    </tr>\n",
       "    <tr>\n",
       "      <th>6</th>\n",
       "      <td>Показать на главной странице баннеры с актуальными акциями и распродажами, чтобы увеличить конверсию</td>\n",
       "      <td>5</td>\n",
       "      <td>3</td>\n",
       "      <td>8</td>\n",
       "      <td>3</td>\n",
       "      <td>8.00</td>\n",
       "      <td>40.00</td>\n",
       "    </tr>\n",
       "    <tr>\n",
       "      <th>8</th>\n",
       "      <td>Запустить акцию, дающую скидку на товар в день рождения</td>\n",
       "      <td>1</td>\n",
       "      <td>9</td>\n",
       "      <td>9</td>\n",
       "      <td>5</td>\n",
       "      <td>16.20</td>\n",
       "      <td>16.20</td>\n",
       "    </tr>\n",
       "    <tr>\n",
       "      <th>3</th>\n",
       "      <td>Изменить структура категорий, что увеличит конверсию, т.к. пользователи быстрее найдут нужный товар</td>\n",
       "      <td>8</td>\n",
       "      <td>3</td>\n",
       "      <td>3</td>\n",
       "      <td>8</td>\n",
       "      <td>1.12</td>\n",
       "      <td>9.00</td>\n",
       "    </tr>\n",
       "    <tr>\n",
       "      <th>1</th>\n",
       "      <td>Запустить собственную службу доставки, что сократит срок доставки заказов</td>\n",
       "      <td>2</td>\n",
       "      <td>5</td>\n",
       "      <td>4</td>\n",
       "      <td>10</td>\n",
       "      <td>2.00</td>\n",
       "      <td>4.00</td>\n",
       "    </tr>\n",
       "    <tr>\n",
       "      <th>5</th>\n",
       "      <td>Добавить страницу отзывов клиентов о магазине, что позволит увеличить количество заказов</td>\n",
       "      <td>3</td>\n",
       "      <td>2</td>\n",
       "      <td>2</td>\n",
       "      <td>3</td>\n",
       "      <td>1.33</td>\n",
       "      <td>4.00</td>\n",
       "    </tr>\n",
       "    <tr>\n",
       "      <th>4</th>\n",
       "      <td>Изменить цвет фона главной страницы, чтобы увеличить вовлеченность пользователей</td>\n",
       "      <td>3</td>\n",
       "      <td>1</td>\n",
       "      <td>1</td>\n",
       "      <td>1</td>\n",
       "      <td>1.00</td>\n",
       "      <td>3.00</td>\n",
       "    </tr>\n",
       "  </tbody>\n",
       "</table>\n",
       "</div>"
      ],
      "text/plain": [
       "                                                                                                     hypothesis  \\\n",
       "7  Добавить форму подписки на все основные страницы, чтобы собрать базу клиентов для email-рассылок               \n",
       "2  Добавить блоки рекомендаций товаров на сайт интернет магазина, чтобы повысить конверсию и средний чек заказа   \n",
       "0  Добавить два новых канала привлечения трафика, что позволит привлекать на 30% больше пользователей             \n",
       "6  Показать на главной странице баннеры с актуальными акциями и распродажами, чтобы увеличить конверсию           \n",
       "8  Запустить акцию, дающую скидку на товар в день рождения                                                        \n",
       "3  Изменить структура категорий, что увеличит конверсию, т.к. пользователи быстрее найдут нужный товар            \n",
       "1  Запустить собственную службу доставки, что сократит срок доставки заказов                                      \n",
       "5  Добавить страницу отзывов клиентов о магазине, что позволит увеличить количество заказов                       \n",
       "4  Изменить цвет фона главной страницы, чтобы увеличить вовлеченность пользователей                               \n",
       "\n",
       "   reach  impact  confidence  efforts   ICE   RICE  \n",
       "7  10     7       8           5       11.20 112.00  \n",
       "2  8      3       7           3       7.00  56.00   \n",
       "0  3      10      8           6       13.33 40.00   \n",
       "6  5      3       8           3       8.00  40.00   \n",
       "8  1      9       9           5       16.20 16.20   \n",
       "3  8      3       3           8       1.12  9.00    \n",
       "1  2      5       4           10      2.00  4.00    \n",
       "5  3      2       2           3       1.33  4.00    \n",
       "4  3      1       1           1       1.00  3.00    "
      ]
     },
     "execution_count": 16,
     "metadata": {},
     "output_type": "execute_result"
    }
   ],
   "source": [
    "hypothesis.sort_values('RICE', ascending=False)"
   ]
  },
  {
   "cell_type": "markdown",
   "metadata": {},
   "source": [
    "Приоритетность гипотиз на основании фреймворка RICE (от большей к меньшей):\n",
    "\n",
    "7 - 2 - 0 - 6 - 8 - 3 - 1 - 5 - 4"
   ]
  },
  {
   "cell_type": "markdown",
   "metadata": {},
   "source": [
    "<b>Задача 3. Укажите, как изменилась приоритизация гипотез при применении RICE вместо ICE. Объясните, почему так произошло.</b>"
   ]
  },
  {
   "cell_type": "markdown",
   "metadata": {},
   "source": [
    "Приоритетность гипотиз (от большей к меньшей):\n",
    "\n",
    "- RICE 7 - 2 - 0 - 6 - 8 - 3 - 1 - 5 - 4\n",
    "-  ICE 8 - 0 - 7 - 6 - 2 - 1 - 5 - 3 - 4\n",
    "\n",
    "Приоритизация гипотиз изменилась из-за того что в ICE не учитывается параметр reach (охват). Следовательно в RICE расчет ведется по иной формуле."
   ]
  },
  {
   "cell_type": "markdown",
   "metadata": {},
   "source": [
    "# Часть 2. Анализ A/B-теста\n",
    "Вы провели A/B-тест и получили результаты, которые описаны в файлах /datasets/orders.csv и /datasets/visitors.csv."
   ]
  },
  {
   "cell_type": "code",
   "execution_count": 17,
   "metadata": {},
   "outputs": [],
   "source": [
    "# Создадим датафрейм dates_groups содержащий уникальные пары значений orders['date'] to orders['group']\n",
    "dates_groups = orders[['date','group']].drop_duplicates() \n",
    "\n",
    "# Объявим переменную orders_aggregated \n",
    "orders_aggregated = dates_groups.apply(\n",
    "    lambda x: orders[np.logical_and(orders['date'] <= x['date'], orders['group'] == x['group'])].agg({\n",
    "'date' : 'max',\n",
    "'group' : 'max',\n",
    "'transaction_id' : pd.Series.nunique,\n",
    "'visitor_id' : pd.Series.nunique,\n",
    "'revenue' : 'sum'}), axis=1).sort_values(by=['date','group']) "
   ]
  },
  {
   "cell_type": "code",
   "execution_count": 18,
   "metadata": {},
   "outputs": [],
   "source": [
    "# Объявим переменную visitors_aggregated \n",
    "visitors_aggregated = dates_groups.apply(\n",
    "    lambda x: visitors[np.logical_and(visitors['date'] <= x['date'], visitors['group'] == x['group'])].agg({\n",
    "'date' : 'max', \n",
    "'group' : 'max', \n",
    "'visitors' : 'sum'}), axis=1).sort_values(by=['date','group'])"
   ]
  },
  {
   "cell_type": "code",
   "execution_count": 19,
   "metadata": {},
   "outputs": [],
   "source": [
    "# Определим переменную cumulative_data\n",
    "cumulative_data = orders_aggregated.merge(visitors_aggregated, left_on=['date', 'group'], right_on=['date', 'group'])\n",
    "# Присвоим столбцам удобные для использования названия\n",
    "cumulative_data.columns = ['date', 'group', 'orders', 'buyers', 'revenue', 'visitors']"
   ]
  },
  {
   "cell_type": "code",
   "execution_count": 20,
   "metadata": {},
   "outputs": [
    {
     "data": {
      "text/html": [
       "<div>\n",
       "<style scoped>\n",
       "    .dataframe tbody tr th:only-of-type {\n",
       "        vertical-align: middle;\n",
       "    }\n",
       "\n",
       "    .dataframe tbody tr th {\n",
       "        vertical-align: top;\n",
       "    }\n",
       "\n",
       "    .dataframe thead th {\n",
       "        text-align: right;\n",
       "    }\n",
       "</style>\n",
       "<table border=\"1\" class=\"dataframe\">\n",
       "  <thead>\n",
       "    <tr style=\"text-align: right;\">\n",
       "      <th></th>\n",
       "      <th>date</th>\n",
       "      <th>group</th>\n",
       "      <th>orders</th>\n",
       "      <th>buyers</th>\n",
       "      <th>revenue</th>\n",
       "      <th>visitors</th>\n",
       "    </tr>\n",
       "  </thead>\n",
       "  <tbody>\n",
       "    <tr>\n",
       "      <th>0</th>\n",
       "      <td>2019-08-01</td>\n",
       "      <td>A</td>\n",
       "      <td>23</td>\n",
       "      <td>19</td>\n",
       "      <td>142779</td>\n",
       "      <td>719</td>\n",
       "    </tr>\n",
       "    <tr>\n",
       "      <th>1</th>\n",
       "      <td>2019-08-01</td>\n",
       "      <td>B</td>\n",
       "      <td>17</td>\n",
       "      <td>17</td>\n",
       "      <td>59758</td>\n",
       "      <td>713</td>\n",
       "    </tr>\n",
       "    <tr>\n",
       "      <th>2</th>\n",
       "      <td>2019-08-02</td>\n",
       "      <td>A</td>\n",
       "      <td>42</td>\n",
       "      <td>36</td>\n",
       "      <td>234381</td>\n",
       "      <td>1338</td>\n",
       "    </tr>\n",
       "    <tr>\n",
       "      <th>3</th>\n",
       "      <td>2019-08-02</td>\n",
       "      <td>B</td>\n",
       "      <td>40</td>\n",
       "      <td>39</td>\n",
       "      <td>221801</td>\n",
       "      <td>1294</td>\n",
       "    </tr>\n",
       "    <tr>\n",
       "      <th>4</th>\n",
       "      <td>2019-08-03</td>\n",
       "      <td>A</td>\n",
       "      <td>66</td>\n",
       "      <td>60</td>\n",
       "      <td>346854</td>\n",
       "      <td>1845</td>\n",
       "    </tr>\n",
       "  </tbody>\n",
       "</table>\n",
       "</div>"
      ],
      "text/plain": [
       "        date group  orders  buyers  revenue  visitors\n",
       "0 2019-08-01  A     23      19      142779   719     \n",
       "1 2019-08-01  B     17      17      59758    713     \n",
       "2 2019-08-02  A     42      36      234381   1338    \n",
       "3 2019-08-02  B     40      39      221801   1294    \n",
       "4 2019-08-03  A     66      60      346854   1845    "
      ]
     },
     "execution_count": 20,
     "metadata": {},
     "output_type": "execute_result"
    }
   ],
   "source": [
    "cumulative_data.head()"
   ]
  },
  {
   "cell_type": "markdown",
   "metadata": {},
   "source": [
    "<b>Задача 1.\n",
    "Проанализируйте A/B-тест:\n",
    "Постройте график кумулятивной выручки по группам. Сделайте выводы и предположения.</b>"
   ]
  },
  {
   "cell_type": "code",
   "execution_count": 21,
   "metadata": {},
   "outputs": [],
   "source": [
    "# датафрейм с кумулятивным количеством заказов и кумулятивной выручкой по дням в группе А\n",
    "cumulative_revenue_a = cumulative_data[cumulative_data['group'] == 'A'][\n",
    "    ['date', 'revenue', 'orders']\n",
    "]\n",
    "# датафрейм с кумулятивным количеством заказов и кумулятивной выручкой по дням в группе B\n",
    "cumulative_revenue_b = cumulative_data[cumulative_data['group'] == 'B'][\n",
    "    ['date', 'revenue', 'orders']\n",
    "]"
   ]
  },
  {
   "cell_type": "code",
   "execution_count": 22,
   "metadata": {},
   "outputs": [
    {
     "data": {
      "image/png": "[encoded data removed]",
      "text/plain": [
       "<Figure size 1080x360 with 1 Axes>"
      ]
     },
     "metadata": {
      "needs_background": "light"
     },
     "output_type": "display_data"
    }
   ],
   "source": [
    "plt.figure(figsize=(15, 5))\n",
    "\n",
    "# Строим график кумулятивной выручки группы А\n",
    "plt.plot(cumulative_revenue_a['date'], cumulative_revenue_a['revenue'], label='A')\n",
    "\n",
    "# Строим график кумулятивной выручки группы B\n",
    "plt.plot(cumulative_revenue_b['date'], cumulative_revenue_b['revenue'], label='B')\n",
    "\n",
    "plt.title('График кумулятивной выручки по группам')\n",
    "plt.ylabel('Выручка')\n",
    "plt.xlabel('Дата')\n",
    "plt.grid()\n",
    "plt.xticks(rotation=45)\n",
    "plt.legend();"
   ]
  },
  {
   "cell_type": "markdown",
   "metadata": {},
   "source": [
    "В середине теста группа B прыгнула вверх (похоже на аномальные заказы) и лидировала основную часть теста. У группы A стабильный линейный рост. Причиной такого резкого роста мог стать аномально дорогой заказ."
   ]
  },
  {
   "cell_type": "code",
   "execution_count": 23,
   "metadata": {},
   "outputs": [
    {
     "data": {
      "text/plain": [
       "1294500"
      ]
     },
     "execution_count": 23,
     "metadata": {},
     "output_type": "execute_result"
    }
   ],
   "source": [
    "orders.query('group == \"B\"')['revenue'].max()"
   ]
  },
  {
   "cell_type": "markdown",
   "metadata": {},
   "source": [
    "<b>Задача 2. Постройте график кумулятивного среднего чека по группам. Сделайте выводы и предположения.</b>"
   ]
  },
  {
   "cell_type": "code",
   "execution_count": 24,
   "metadata": {},
   "outputs": [
    {
     "data": {
      "image/png": "[encoded data removed]",
      "text/plain": [
       "<Figure size 1080x360 with 1 Axes>"
      ]
     },
     "metadata": {
      "needs_background": "light"
     },
     "output_type": "display_data"
    }
   ],
   "source": [
    "plt.figure(figsize=(15, 5))\n",
    "\n",
    "# Строим график кумулятивного среднего чека группы А\n",
    "plt.plot(cumulative_revenue_a['date'], cumulative_revenue_a['revenue']/cumulative_revenue_a['orders'], label='A')\n",
    "\n",
    "# Строим график кумулятивного среднего чека группы B\n",
    "plt.plot(cumulative_revenue_b['date'], cumulative_revenue_b['revenue']/cumulative_revenue_b['orders'], label='B')\n",
    "\n",
    "plt.title('График кумулятивного среднего чека по группам')\n",
    "plt.ylabel('Выручка')\n",
    "plt.xlabel('Дата')\n",
    "plt.grid()\n",
    "plt.xticks(rotation=45)\n",
    "plt.legend();"
   ]
  },
  {
   "cell_type": "markdown",
   "metadata": {},
   "source": [
    "Картина похожая, у группы B есть резкий скачок вверх, что свидетельствует что есть аномальные значения (очень дорогой заказ)."
   ]
  },
  {
   "cell_type": "markdown",
   "metadata": {},
   "source": [
    "<b>Задача 3. Постройте график относительного изменения кумулятивного среднего чека группы B к группе A. Сделайте выводы и предположения.</b>"
   ]
  },
  {
   "cell_type": "code",
   "execution_count": 25,
   "metadata": {},
   "outputs": [
    {
     "data": {
      "image/png": "[encoded data removed]",
      "text/plain": [
       "<Figure size 1080x360 with 1 Axes>"
      ]
     },
     "metadata": {
      "needs_background": "light"
     },
     "output_type": "display_data"
    }
   ],
   "source": [
    "# собираем данные в одном датафрейме\n",
    "merged_cumulative_revenue = cumulative_revenue_a.merge(\n",
    "    cumulative_revenue_b, left_on='date', right_on='date', how='left', suffixes=['A', 'B'])\n",
    "\n",
    "# cтроим отношение средних чеков\n",
    "plt.figure(figsize=(15, 5))\n",
    "plt.plot(\n",
    "    merged_cumulative_revenue['date'],\n",
    "    (merged_cumulative_revenue['revenueB']/merged_cumulative_revenue['ordersB'])/\n",
    "    (merged_cumulative_revenue['revenueA']/merged_cumulative_revenue['ordersA'])-1)\n",
    "\n",
    "\n",
    "plt.title('График относительно различия кумулятивного среднего чека группы B к группе A')\n",
    "plt.grid()\n",
    "plt.xticks(rotation=45)\n",
    "plt.axhline(y=0, color='black', linestyle='--');"
   ]
  },
  {
   "cell_type": "markdown",
   "metadata": {},
   "source": [
    "В очередной раз убеждаемся что у B есть аномально крупные заказы. На графике виден изначальный рост B, однако вследствии была просадка и резкий перепад обратно вверх, благодаря возможному аномальному заказу."
   ]
  },
  {
   "cell_type": "markdown",
   "metadata": {},
   "source": [
    "<b>Задача 4. Постройте график кумулятивной конверсии по группам. Сделайте выводы и предположения.</b>"
   ]
  },
  {
   "cell_type": "code",
   "execution_count": 26,
   "metadata": {},
   "outputs": [],
   "source": [
    "# считаем кумулятивную конверсию\n",
    "cumulative_data['conversion'] = cumulative_data['orders']/cumulative_data['visitors']\n",
    "\n",
    "# отделяем данные по группе A\n",
    "cumulative_data_a = cumulative_data[cumulative_data['group']=='A']\n",
    "# отделяем данные по группе B\n",
    "cumulative_data_b = cumulative_data[cumulative_data['group']=='B']"
   ]
  },
  {
   "cell_type": "code",
   "execution_count": 27,
   "metadata": {},
   "outputs": [
    {
     "data": {
      "image/png": "[encoded data removed]",
      "text/plain": [
       "<Figure size 1080x360 with 1 Axes>"
      ]
     },
     "metadata": {
      "needs_background": "light"
     },
     "output_type": "display_data"
    }
   ],
   "source": [
    "# строим графики\n",
    "plt.figure(figsize=(15, 5))\n",
    "plt.plot(cumulative_data_a['date'], cumulative_data_a['conversion'], label='A')\n",
    "plt.plot(cumulative_data_b['date'], cumulative_data_b['conversion'], label='B')\n",
    "\n",
    "plt.title('График кумулятивной конверсии по группам')\n",
    "plt.ylabel(\"Выручка\")\n",
    "plt.grid()\n",
    "plt.xticks(rotation=45)\n",
    "plt.legend();"
   ]
  },
  {
   "cell_type": "markdown",
   "metadata": {},
   "source": [
    "В начале теста конверсия была лучше у группы A в пике 0.037, однако через небольшой промежуток времени конверсия группы B успешно обогнала и была больше до самого конца, в то время как конверсия A резко упала до уровня 0.030 "
   ]
  },
  {
   "cell_type": "markdown",
   "metadata": {},
   "source": [
    "<b>Задача 5. Постройте график относительного изменения кумулятивной конверсии группы B к группе A. Сделайте выводы и предположения.</b>"
   ]
  },
  {
   "cell_type": "code",
   "execution_count": 28,
   "metadata": {},
   "outputs": [
    {
     "data": {
      "image/png": "[encoded data removed]",
      "text/plain": [
       "<Figure size 1080x360 with 1 Axes>"
      ]
     },
     "metadata": {
      "needs_background": "light"
     },
     "output_type": "display_data"
    }
   ],
   "source": [
    "merged_cumulative_conversions = cumulative_data_a[['date','conversion']].merge(\n",
    "    cumulative_data_b[['date','conversion']], left_on='date', right_on='date', how='left', suffixes=['A', 'B'])\n",
    "\n",
    "plt.figure(figsize=(15, 5))\n",
    "plt.plot(merged_cumulative_conversions['date'], merged_cumulative_conversions['conversionB']/merged_cumulative_conversions['conversionA']-1, label=\"Относительный прирост конверсии группы B относительно группы A\")\n",
    "plt.legend()\n",
    "\n",
    "plt.title('График относительного изменения кумулятивной конверсии группы B к группе A')\n",
    "plt.ylabel('Конверсия')\n",
    "plt.xlabel('Дата')\n",
    "plt.grid()\n",
    "plt.xticks(rotation=45)\n",
    "plt.axhline(y=0, color='black', linestyle='--')\n",
    "plt.axhline(y=0.15, color='grey', linestyle='--');"
   ]
  },
  {
   "cell_type": "markdown",
   "metadata": {},
   "source": [
    "Группа B отставала от A только в самом начале теста, в дальнейшем через небольшой промежуток времени обогнала группу A и зафиксировалась в диапазоне 10%-20%."
   ]
  },
  {
   "cell_type": "markdown",
   "metadata": {},
   "source": [
    "<b>Задача 6. Постройте точечный график количества заказов по пользователям. Сделайте выводы и предположения.</b>"
   ]
  },
  {
   "cell_type": "code",
   "execution_count": 29,
   "metadata": {},
   "outputs": [],
   "source": [
    "orders_by_users = (\n",
    "    orders.groupby('visitor_id', as_index=False)\n",
    "    .agg({'transaction_id': 'nunique'})\n",
    ")"
   ]
  },
  {
   "cell_type": "code",
   "execution_count": 30,
   "metadata": {},
   "outputs": [
    {
     "data": {
      "image/png": "[encoded data removed]",
      "text/plain": [
       "<Figure size 1080x360 with 1 Axes>"
      ]
     },
     "metadata": {
      "needs_background": "light"
     },
     "output_type": "display_data"
    }
   ],
   "source": [
    "# серия из чисел от 0 до количества наблюдений в orders_by_users\n",
    "x_values = pd.Series(range(0, len(orders_by_users)))\n",
    "\n",
    "\n",
    "\n",
    "plt.figure(figsize=(15, 5))\n",
    "plt.scatter(x_values, orders_by_users['transaction_id'])\n",
    "plt.grid()\n",
    "plt.title('График количества заказов по пользователям')\n",
    "plt.ylabel('Количество заказов')\n",
    "plt.xlabel('Пользователи');"
   ]
  },
  {
   "cell_type": "markdown",
   "metadata": {},
   "source": [
    "В основном все оформляют один заказ, реже 2, но есть пользователи которые оформили больше 10 заказов."
   ]
  },
  {
   "cell_type": "markdown",
   "metadata": {},
   "source": [
    "<b>Задача 7. Посчитайте 95-й и 99-й перцентили количества заказов на пользователя. Выберите границу для определения аномальных пользователей.</b>"
   ]
  },
  {
   "cell_type": "code",
   "execution_count": 31,
   "metadata": {},
   "outputs": [
    {
     "data": {
      "text/plain": [
       "'95 перцентиль = 1.00'"
      ]
     },
     "metadata": {},
     "output_type": "display_data"
    },
    {
     "data": {
      "text/plain": [
       "'99 перцентиль = 2.00'"
      ]
     },
     "metadata": {},
     "output_type": "display_data"
    }
   ],
   "source": [
    "display('95 перцентиль = %.2f' % (np.percentile(orders_by_users['transaction_id'], 95)))\n",
    "display('99 перцентиль = %.2f' % (np.percentile(orders_by_users['transaction_id'], 99)))"
   ]
  },
  {
   "cell_type": "markdown",
   "metadata": {},
   "source": [
    "Определим границу 99 перцентилем, все что больше - аномалии."
   ]
  },
  {
   "cell_type": "markdown",
   "metadata": {},
   "source": [
    "<b>Задача 8. Постройте точечный график стоимостей заказов. Сделайте выводы и предположения.</b>"
   ]
  },
  {
   "cell_type": "code",
   "execution_count": 32,
   "metadata": {},
   "outputs": [
    {
     "data": {
      "image/png": "[encoded data removed]",
      "text/plain": [
       "<Figure size 1080x360 with 1 Axes>"
      ]
     },
     "metadata": {
      "needs_background": "light"
     },
     "output_type": "display_data"
    }
   ],
   "source": [
    "x_values = pd.Series(range(0,len(orders['revenue'])))\n",
    "\n",
    "plt.figure(figsize=(15, 5))\n",
    "plt.scatter(x_values, orders['revenue'])\n",
    "plt.grid()\n",
    "plt.title('График стоимостей заказов')\n",
    "plt.ylabel('Стоимость заказа')\n",
    "plt.xlabel('Заказы');"
   ]
  },
  {
   "cell_type": "markdown",
   "metadata": {},
   "source": [
    "На графике видим один нереально дорогой заказ, возможно он тянет группу B вверх."
   ]
  },
  {
   "cell_type": "markdown",
   "metadata": {},
   "source": [
    "<b>Задача 9. Посчитайте 95-й и 99-й перцентили стоимости заказов. Выберите границу для определения аномальных заказов.</b>"
   ]
  },
  {
   "cell_type": "code",
   "execution_count": 33,
   "metadata": {},
   "outputs": [
    {
     "name": "stdout",
     "output_type": "stream",
     "text": [
      "95 перцентиль = 26785.00\n",
      "99 перцентиль = 53904.00\n"
     ]
    }
   ],
   "source": [
    "print('95 перцентиль = %.2f' % (np.percentile(orders['revenue'], 95)))\n",
    "print('99 перцентиль = %.2f' % (np.percentile(orders['revenue'], 99)))"
   ]
  },
  {
   "cell_type": "markdown",
   "metadata": {},
   "source": [
    "Определим границу 99 перцентилем, все что больше - аномалии."
   ]
  },
  {
   "cell_type": "markdown",
   "metadata": {},
   "source": [
    "Уберем аномальные выбросы из таблицы:"
   ]
  },
  {
   "cell_type": "code",
   "execution_count": 34,
   "metadata": {},
   "outputs": [],
   "source": [
    "#orders_by_users_filtered = orders_by_users.query('transaction_id<= 4')\n",
    "#orders_filtered = orders.query('revenue<= 58233')\n",
    "#orders_filtered = orders_filtered.loc[orders_filtered['visitor_id'].isin(orders_by_users_filtered['visitor_id'])]"
   ]
  },
  {
   "cell_type": "code",
   "execution_count": 35,
   "metadata": {},
   "outputs": [],
   "source": [
    "orders_per99 = np.percentile(orders_by_users['transaction_id'], 99)\n",
    "revenue_per99 = np.percentile(orders['revenue'], 99)\n",
    "                 \n",
    "orders_by_users_filtered = orders_by_users.query('transaction_id<= @orders_per99')\n",
    "orders_filtered = orders.query('revenue<= @revenue_per99')\n",
    "orders_filtered = orders_filtered.loc[orders_filtered['visitor_id'].isin(orders_by_users_filtered['visitor_id'])]"
   ]
  },
  {
   "cell_type": "code",
   "execution_count": 36,
   "metadata": {},
   "outputs": [
    {
     "data": {
      "image/png": "[encoded data removed]",
      "text/plain": [
       "<Figure size 1080x360 with 1 Axes>"
      ]
     },
     "metadata": {
      "needs_background": "light"
     },
     "output_type": "display_data"
    }
   ],
   "source": [
    "x_values = pd.Series(range(0,len(orders_filtered['revenue'])))\n",
    "\n",
    "plt.figure(figsize=(15, 5))\n",
    "plt.scatter(x_values, orders_filtered['revenue'])\n",
    "plt.grid()\n",
    "plt.title('График стоимостей заказов')\n",
    "plt.ylabel('Стоимость заказа')\n",
    "plt.xlabel('Заказы');"
   ]
  },
  {
   "cell_type": "markdown",
   "metadata": {},
   "source": [
    "Без выбросов можно разглядеть стоимости основных заказов пользователей. В осонвном это заказы до 10000 у.е., но есть и более дорогие заказы, которые следует учитывать. Все таки эти суммы заказов далеки от топ заказа группы B в 1294500 у.е"
   ]
  },
  {
   "cell_type": "code",
   "execution_count": 37,
   "metadata": {},
   "outputs": [],
   "source": [
    "# Посмотрим как поведет себя график кумулятивной выручки по группам без выбросов\n",
    "orders_aggregated_clean = dates_groups.apply(\n",
    "    lambda x: orders_filtered[np.logical_and(orders_filtered['date'] <= x['date'], orders_filtered['group'] == x['group'])].agg({\n",
    "'date' : 'max',\n",
    "'group' : 'max',\n",
    "'transaction_id' : pd.Series.nunique,\n",
    "'visitor_id' : pd.Series.nunique,\n",
    "'revenue' : 'sum'}), axis=1).sort_values(by=['date','group']) \n",
    "\n",
    "visitors_aggregated = dates_groups.apply(\n",
    "    lambda x: visitors[np.logical_and(visitors['date'] <= x['date'], visitors['group'] == x['group'])].agg({\n",
    "'date' : 'max', \n",
    "'group' : 'max', \n",
    "'visitors' : 'sum'}), axis=1).sort_values(by=['date','group'])\n",
    "\n",
    "cumulative_data_clean = orders_aggregated_clean.merge(visitors_aggregated, on=['date','group'])\n",
    "\n",
    "cumulative_a_clean = cumulative_data_clean.loc[cumulative_data_clean['group'] == 'A',['date','revenue','transaction_id','visitors']]\n",
    "cumulative_b_clean = cumulative_data_clean.loc[cumulative_data_clean['group'] == 'B',['date','revenue','transaction_id','visitors']]"
   ]
  },
  {
   "cell_type": "code",
   "execution_count": 38,
   "metadata": {},
   "outputs": [
    {
     "data": {
      "image/png": "[encoded data removed]",
      "text/plain": [
       "<Figure size 1080x360 with 1 Axes>"
      ]
     },
     "metadata": {
      "needs_background": "light"
     },
     "output_type": "display_data"
    }
   ],
   "source": [
    "plt.figure(figsize=(15, 5))\n",
    "\n",
    "# Строим график кумулятивной выручки группы А\n",
    "plt.plot(cumulative_a_clean['date'], cumulative_a_clean['revenue'], label='A')\n",
    "\n",
    "# Строим график кумулятивной выручки группы B\n",
    "plt.plot(cumulative_b_clean['date'], cumulative_b_clean['revenue'], label='B')\n",
    "\n",
    "plt.title('График кумулятивной выручки по группам')\n",
    "plt.ylabel('Выручка')\n",
    "plt.xlabel('Дата')\n",
    "plt.grid()\n",
    "plt.xticks(rotation=45)\n",
    "plt.legend(); "
   ]
  },
  {
   "cell_type": "markdown",
   "metadata": {},
   "source": [
    "Убрав аномалии группа B стала более линейной на графике, без резких скачков, но это не повлияло на ее лидерство. "
   ]
  },
  {
   "cell_type": "markdown",
   "metadata": {},
   "source": [
    "Вывод:\n",
    "\n",
    "Мы определили значения нормальности из сырого датафрейма и сделали новый с учетом фильтрации выбросов аномальных значений."
   ]
  },
  {
   "cell_type": "markdown",
   "metadata": {},
   "source": [
    "# RAW DATA статистическая значимость"
   ]
  },
  {
   "cell_type": "markdown",
   "metadata": {},
   "source": [
    "В ходе исследования мы будем использовать непараметрический тест Уилкоксона-Манна-Уитни"
   ]
  },
  {
   "cell_type": "markdown",
   "metadata": {},
   "source": [
    "<b>Задача 10. Посчитайте статистическую значимость различий в конверсии между группами по «сырым» данным. Сделайте выводы и предположения.</b>"
   ]
  },
  {
   "cell_type": "code",
   "execution_count": 39,
   "metadata": {},
   "outputs": [],
   "source": [
    "orders_by_users_a = (\n",
    "    orders[orders['group'] == 'A']\n",
    "    .groupby('visitor_id', as_index=False)\n",
    "    .agg({'transaction_id': pd.Series.nunique})\n",
    ")\n",
    "orders_by_users_a.columns = ['user_id', 'orders']\n",
    "\n",
    "orders_by_users_b = (\n",
    "    orders[orders['group'] == 'B']\n",
    "    .groupby('visitor_id', as_index=False)\n",
    "    .agg({'transaction_id': pd.Series.nunique})\n",
    ")\n",
    "orders_by_users_b.columns = ['user_id', 'orders'] "
   ]
  },
  {
   "cell_type": "code",
   "execution_count": 47,
   "metadata": {},
   "outputs": [],
   "source": [
    "# Создаем выборки с сырыми данными\n",
    "sample_a = pd.concat([orders_by_users_a['orders'],pd.Series(\n",
    "    0, index=np.arange(visitors[visitors['group']=='A']['visitors'].sum() - len(orders_by_users_a['orders'])), name='orders')],axis=0)\n",
    "\n",
    "sample_b = pd.concat([orders_by_users_b['orders'],pd.Series(\n",
    "    0, index=np.arange(visitors[visitors['group']=='B']['visitors'].sum() - len(orders_by_users_b['orders'])), name='orders')],axis=0)"
   ]
  },
  {
   "cell_type": "markdown",
   "metadata": {},
   "source": [
    "H0 - конверсия группы A равна конверсии группы В\n",
    "\n",
    "H1 - конверсии групп не равны\n",
    "\n",
    "alpha = 0.05"
   ]
  },
  {
   "cell_type": "code",
   "execution_count": 48,
   "metadata": {},
   "outputs": [
    {
     "name": "stdout",
     "output_type": "stream",
     "text": [
      "p_value: 0.01102\n",
      "Средняя конверсия группы А: 2.5%\n",
      "Средняя конверсия группы B: 2.9%\n"
     ]
    }
   ],
   "source": [
    "print('p_value: {:.5f}'.format(st.mannwhitneyu(sample_a, sample_b)[1]))\n",
    "print('Средняя конверсия группы А: {:.1%}'.format(sample_a.mean()))\n",
    "print('Средняя конверсия группы B: {:.1%}'.format(sample_b.mean()))"
   ]
  },
  {
   "cell_type": "markdown",
   "metadata": {},
   "source": [
    "p_value < alpha, следовательно мы отвергаем H0. Разница конверсии ~12%. Стат значимое различие между группами есть."
   ]
  },
  {
   "cell_type": "markdown",
   "metadata": {},
   "source": [
    "<b>Задача 11. Посчитайте статистическую значимость различий в среднем чеке заказа между группами по «сырым» данным. Сделайте выводы и предположения.</b>"
   ]
  },
  {
   "cell_type": "markdown",
   "metadata": {},
   "source": [
    "H0 - средний чек группы А равен чеку группы В\n",
    "\n",
    "H1 - средний чек групп не равен\n",
    "\n",
    "alpha = 0.05"
   ]
  },
  {
   "cell_type": "code",
   "execution_count": 42,
   "metadata": {},
   "outputs": [
    {
     "name": "stdout",
     "output_type": "stream",
     "text": [
      "p_value: 0.82949\n",
      "Средний чек группы А: 7189.44\n",
      "Средний чек группы B: 9249.95\n"
     ]
    }
   ],
   "source": [
    "print('p_value: {:.5f}'.format(\n",
    "    st.mannwhitneyu(orders[orders['group']=='A']['revenue'], orders[orders['group']=='B']['revenue'])[1]\n",
    "))\n",
    "print('Средний чек группы А: {:.2f}'.format(orders[orders['group']=='A']['revenue'].mean()))\n",
    "print('Средний чек группы B: {:.2f}'.format(orders[orders['group']=='B']['revenue'].mean()))"
   ]
  },
  {
   "cell_type": "markdown",
   "metadata": {},
   "source": [
    "p_value > alpha, следовательно статистически значимых отличий в среднем чеке между группами нет."
   ]
  },
  {
   "cell_type": "markdown",
   "metadata": {},
   "source": [
    "# CLEAN DATA статистическая значимость"
   ]
  },
  {
   "cell_type": "markdown",
   "metadata": {},
   "source": [
    "<b>Задача 12. Посчитайте статистическую значимость различий в конверсии между группами по «очищенным» данным. Сделайте выводы и предположения.</b>"
   ]
  },
  {
   "cell_type": "code",
   "execution_count": 43,
   "metadata": {},
   "outputs": [],
   "source": [
    "orders_by_users_a_clean = (\n",
    "    orders_filtered[orders_filtered['group'] == 'A']\n",
    "    .groupby('visitor_id', as_index=False)\n",
    "    .agg({'transaction_id': pd.Series.nunique})\n",
    ")\n",
    "orders_by_users_a_clean.columns = ['user_id', 'orders']\n",
    "\n",
    "orders_by_users_b_clean = (\n",
    "    orders_filtered[orders_filtered['group'] == 'B']\n",
    "    .groupby('visitor_id', as_index=False)\n",
    "    .agg({'transaction_id': pd.Series.nunique})\n",
    ")\n",
    "orders_by_users_b_clean.columns = ['user_id', 'orders'] "
   ]
  },
  {
   "cell_type": "code",
   "execution_count": 44,
   "metadata": {},
   "outputs": [],
   "source": [
    "sample_a_clean = pd.concat([orders_by_users_a_clean['orders'],pd.Series(\n",
    "    0, index=np.arange(visitors[visitors['group']=='A']['visitors'].sum() - len(orders_by_users_a_clean['orders'])), name='orders')],axis=0)\n",
    "\n",
    "sample_b_clean = pd.concat([orders_by_users_b_clean['orders'],pd.Series(\n",
    "    0, index=np.arange(visitors[visitors['group']=='B']['visitors'].sum() - len(orders_by_users_b_clean['orders'])), name='orders')],axis=0)"
   ]
  },
  {
   "cell_type": "markdown",
   "metadata": {},
   "source": [
    "H0 - конверсия группы равна конверсии группы В\n",
    "\n",
    "H1 - конверсии групп не равны\n",
    "\n",
    "alpha = 0.05"
   ]
  },
  {
   "cell_type": "code",
   "execution_count": 45,
   "metadata": {},
   "outputs": [
    {
     "name": "stdout",
     "output_type": "stream",
     "text": [
      "p_value: 0.00695\n",
      "Средняя конверсия группы А после чистки: 2.4%\n",
      "Средняя конверсия группы B после чистки: 2.8%\n"
     ]
    }
   ],
   "source": [
    "print('p_value: {:.5f}'.format(st.mannwhitneyu(sample_a_clean, sample_b_clean)[1]))\n",
    "print('Средняя конверсия группы А после чистки: {:.1%}'.format(sample_a_clean.mean()))\n",
    "print('Средняя конверсия группы B после чистки: {:.1%}'.format(sample_b_clean.mean()))"
   ]
  },
  {
   "cell_type": "markdown",
   "metadata": {},
   "source": [
    "p_value < alpha, следовательно мы отвергаем H0.\n",
    "\n",
    "После чистки уменьшилась конверсия, группа B по прежнему имеет конверсию выше. "
   ]
  },
  {
   "cell_type": "markdown",
   "metadata": {},
   "source": [
    "<b>Задача 13. Посчитайте статистическую значимость различий в среднем чеке заказа между группами по «очищенным» данным. Сделайте выводы и предположения.</b>"
   ]
  },
  {
   "cell_type": "markdown",
   "metadata": {},
   "source": [
    "H0 - средний чек группы А равен чеку группы В\n",
    "\n",
    "H1 - средний чек групп не равен\n",
    "\n",
    "alpha = 0.05"
   ]
  },
  {
   "cell_type": "code",
   "execution_count": 46,
   "metadata": {},
   "outputs": [
    {
     "name": "stdout",
     "output_type": "stream",
     "text": [
      "p_value: 0.78770\n",
      "Средний чек группы А: 6487.02\n",
      "Средний чек группы B: 6277.27\n"
     ]
    }
   ],
   "source": [
    "print('p_value: {:.5f}'.format(\n",
    "    st.mannwhitneyu(orders_filtered[orders_filtered['group']=='A']['revenue'], orders_filtered[orders_filtered['group']=='B']['revenue'])[1]\n",
    "))\n",
    "print('Средний чек группы А: {:.2f}'.format(orders_filtered[orders_filtered['group']=='A']['revenue'].mean()))\n",
    "print('Средний чек группы B: {:.2f}'.format(orders_filtered[orders_filtered['group']=='B']['revenue'].mean()))"
   ]
  },
  {
   "cell_type": "markdown",
   "metadata": {},
   "source": [
    "p_value > alpha, следовательно статистически значимых отличий в среднем чеке после чистки между группами нет. После чистки средний чек уменьшился у обоих групп. p_value увеличился."
   ]
  },
  {
   "cell_type": "markdown",
   "metadata": {},
   "source": [
    "<b>Задача 14. Примите решение по результатам теста и объясните его. Варианты решений: 1. Остановить тест, зафиксировать победу одной из групп. 2. Остановить тест, зафиксировать отсутствие различий между группами. 3. Продолжить тест.</b>"
   ]
  },
  {
   "cell_type": "markdown",
   "metadata": {},
   "source": [
    "Вывод:\n",
    " \n",
    "Тест можно остановить, фиксируем победу группы B. \n",
    " \n",
    "В результате анализа была зафиксирована статистическая значимость в конверсии групп. Группа B лидировала над группой A.\n",
    " \n",
    "Однако статистической значимости в среднем чеке двух групп выявлено не было.\n",
    "\n",
    "Решение было принято исходя из того что:\n",
    "- Больший размер куммулитивной выручки группы B, по сравнению с A.\n",
    "- Конверсия группы B выше чем группы A."
   ]
  }
 ],
 "metadata": {
  "ExecuteTimeLog": [
   {
    "duration": 1246,
    "start_time": "2022-08-29T01:21:59.069Z"
   },
   {
    "duration": 210,
    "start_time": "2022-08-29T01:24:50.163Z"
   },
   {
    "duration": 24,
    "start_time": "2022-08-29T01:27:20.447Z"
   },
   {
    "duration": 22,
    "start_time": "2022-08-29T01:28:09.450Z"
   },
   {
    "duration": 22,
    "start_time": "2022-08-29T01:28:34.116Z"
   },
   {
    "duration": 93,
    "start_time": "2022-08-29T01:35:18.357Z"
   },
   {
    "duration": 4,
    "start_time": "2022-08-29T01:35:25.032Z"
   },
   {
    "duration": 8,
    "start_time": "2022-08-29T01:35:42.343Z"
   },
   {
    "duration": 4,
    "start_time": "2022-08-29T01:36:04.451Z"
   },
   {
    "duration": 25,
    "start_time": "2022-08-29T01:36:13.082Z"
   },
   {
    "duration": 3,
    "start_time": "2022-08-29T01:36:59.532Z"
   },
   {
    "duration": 22,
    "start_time": "2022-08-29T01:37:29.651Z"
   },
   {
    "duration": 5,
    "start_time": "2022-08-29T01:40:32.307Z"
   },
   {
    "duration": 22,
    "start_time": "2022-08-29T01:40:37.901Z"
   },
   {
    "duration": 5,
    "start_time": "2022-08-29T01:41:01.072Z"
   },
   {
    "duration": 4,
    "start_time": "2022-08-29T01:42:21.584Z"
   },
   {
    "duration": 21,
    "start_time": "2022-08-29T01:42:23.416Z"
   },
   {
    "duration": 20,
    "start_time": "2022-08-29T01:44:23.745Z"
   },
   {
    "duration": 767,
    "start_time": "2022-08-29T01:52:51.556Z"
   },
   {
    "duration": 6,
    "start_time": "2022-08-29T01:53:04.097Z"
   },
   {
    "duration": 9,
    "start_time": "2022-08-29T01:53:39.000Z"
   },
   {
    "duration": 158,
    "start_time": "2022-08-29T01:56:14.698Z"
   },
   {
    "duration": 4,
    "start_time": "2022-08-29T01:59:09.614Z"
   },
   {
    "duration": 12,
    "start_time": "2022-08-29T01:59:18.196Z"
   },
   {
    "duration": 7,
    "start_time": "2022-08-29T02:00:47.270Z"
   },
   {
    "duration": 9,
    "start_time": "2022-08-29T02:02:43.596Z"
   },
   {
    "duration": 15,
    "start_time": "2022-08-29T02:02:55.579Z"
   },
   {
    "duration": 4,
    "start_time": "2022-08-29T02:06:17.001Z"
   },
   {
    "duration": 4,
    "start_time": "2022-08-29T02:06:36.776Z"
   },
   {
    "duration": 10,
    "start_time": "2022-08-29T02:06:43.669Z"
   },
   {
    "duration": 6,
    "start_time": "2022-08-29T02:26:37.576Z"
   },
   {
    "duration": 21,
    "start_time": "2022-08-29T02:26:42.498Z"
   },
   {
    "duration": 12,
    "start_time": "2022-08-29T02:36:27.890Z"
   },
   {
    "duration": 24,
    "start_time": "2022-08-29T02:37:01.479Z"
   },
   {
    "duration": 24,
    "start_time": "2022-08-29T02:37:26.389Z"
   },
   {
    "duration": 171,
    "start_time": "2022-08-29T02:38:00.746Z"
   },
   {
    "duration": 119,
    "start_time": "2022-08-29T02:39:53.127Z"
   },
   {
    "duration": 7,
    "start_time": "2022-08-29T02:40:29.967Z"
   },
   {
    "duration": 8,
    "start_time": "2022-08-29T02:40:38.323Z"
   },
   {
    "duration": 6,
    "start_time": "2022-08-29T02:41:39.006Z"
   },
   {
    "duration": 8,
    "start_time": "2022-08-29T02:42:21.047Z"
   },
   {
    "duration": 171,
    "start_time": "2022-08-29T02:42:23.823Z"
   },
   {
    "duration": 110,
    "start_time": "2022-08-29T02:42:24.936Z"
   },
   {
    "duration": 7,
    "start_time": "2022-08-29T02:42:46.193Z"
   },
   {
    "duration": 8,
    "start_time": "2022-08-29T02:42:47.625Z"
   },
   {
    "duration": 5,
    "start_time": "2022-08-29T02:43:05.033Z"
   },
   {
    "duration": 13,
    "start_time": "2022-08-29T02:43:14.933Z"
   },
   {
    "duration": 10,
    "start_time": "2022-08-29T02:52:47.513Z"
   },
   {
    "duration": 6,
    "start_time": "2022-08-29T02:52:51.242Z"
   },
   {
    "duration": 8,
    "start_time": "2022-08-29T02:52:52.502Z"
   },
   {
    "duration": 6,
    "start_time": "2022-08-29T02:53:53.480Z"
   },
   {
    "duration": 216,
    "start_time": "2022-08-29T02:54:10.711Z"
   },
   {
    "duration": 6,
    "start_time": "2022-08-29T02:56:40.868Z"
   },
   {
    "duration": 167,
    "start_time": "2022-08-29T02:56:41.491Z"
   },
   {
    "duration": 167,
    "start_time": "2022-08-29T02:58:12.225Z"
   },
   {
    "duration": 8,
    "start_time": "2022-08-29T02:59:39.550Z"
   },
   {
    "duration": 6,
    "start_time": "2022-08-29T02:59:40.713Z"
   },
   {
    "duration": 179,
    "start_time": "2022-08-29T02:59:41.360Z"
   },
   {
    "duration": 161,
    "start_time": "2022-08-29T03:00:00.698Z"
   },
   {
    "duration": 252,
    "start_time": "2022-08-29T03:01:18.306Z"
   },
   {
    "duration": 4,
    "start_time": "2022-08-29T03:01:30.680Z"
   },
   {
    "duration": 171,
    "start_time": "2022-08-29T03:01:35.520Z"
   },
   {
    "duration": 49,
    "start_time": "2022-08-29T03:06:01.286Z"
   },
   {
    "duration": 170,
    "start_time": "2022-08-29T03:09:29.996Z"
   },
   {
    "duration": 342,
    "start_time": "2022-08-29T03:14:41.655Z"
   },
   {
    "duration": 945,
    "start_time": "2022-08-29T03:14:56.628Z"
   },
   {
    "duration": 235,
    "start_time": "2022-08-29T03:15:26.823Z"
   },
   {
    "duration": 251,
    "start_time": "2022-08-29T03:16:10.898Z"
   },
   {
    "duration": 253,
    "start_time": "2022-08-29T03:16:57.617Z"
   },
   {
    "duration": 6,
    "start_time": "2022-08-29T03:22:02.786Z"
   },
   {
    "duration": 9,
    "start_time": "2022-08-29T03:22:17.633Z"
   },
   {
    "duration": 189,
    "start_time": "2022-08-29T03:22:42.673Z"
   },
   {
    "duration": 182,
    "start_time": "2022-08-29T03:23:01.393Z"
   },
   {
    "duration": 299,
    "start_time": "2022-08-29T03:33:36.694Z"
   },
   {
    "duration": 293,
    "start_time": "2022-08-29T03:35:42.796Z"
   },
   {
    "duration": 258,
    "start_time": "2022-08-29T03:36:17.039Z"
   },
   {
    "duration": 371,
    "start_time": "2022-08-29T03:38:08.295Z"
   },
   {
    "duration": 281,
    "start_time": "2022-08-29T03:38:34.127Z"
   },
   {
    "duration": 270,
    "start_time": "2022-08-29T03:38:46.609Z"
   },
   {
    "duration": 311,
    "start_time": "2022-08-29T03:39:00.261Z"
   },
   {
    "duration": 204,
    "start_time": "2022-08-29T03:39:18.127Z"
   },
   {
    "duration": 220,
    "start_time": "2022-08-29T03:39:24.927Z"
   },
   {
    "duration": 324,
    "start_time": "2022-08-29T03:39:31.648Z"
   },
   {
    "duration": 46,
    "start_time": "2022-08-29T03:39:45.774Z"
   },
   {
    "duration": 287,
    "start_time": "2022-08-29T03:40:00.281Z"
   },
   {
    "duration": 62,
    "start_time": "2022-08-29T03:40:08.368Z"
   },
   {
    "duration": 98,
    "start_time": "2022-08-29T03:40:20.110Z"
   },
   {
    "duration": 51,
    "start_time": "2022-08-29T03:40:46.019Z"
   },
   {
    "duration": 66,
    "start_time": "2022-08-29T03:40:59.614Z"
   },
   {
    "duration": 272,
    "start_time": "2022-08-29T03:41:06.386Z"
   },
   {
    "duration": 67,
    "start_time": "2022-08-29T03:41:11.269Z"
   },
   {
    "duration": 269,
    "start_time": "2022-08-29T03:41:17.094Z"
   },
   {
    "duration": 51,
    "start_time": "2022-08-29T03:41:32.620Z"
   },
   {
    "duration": 289,
    "start_time": "2022-08-29T03:42:07.577Z"
   },
   {
    "duration": 256,
    "start_time": "2022-08-29T03:42:19.222Z"
   },
   {
    "duration": 268,
    "start_time": "2022-08-29T03:42:22.936Z"
   },
   {
    "duration": 51,
    "start_time": "2022-08-29T03:42:27.657Z"
   },
   {
    "duration": 287,
    "start_time": "2022-08-29T03:42:40.711Z"
   },
   {
    "duration": 328,
    "start_time": "2022-08-29T03:42:46.953Z"
   },
   {
    "duration": 288,
    "start_time": "2022-08-29T03:42:56.196Z"
   },
   {
    "duration": 205,
    "start_time": "2022-08-29T03:43:02.228Z"
   },
   {
    "duration": 192,
    "start_time": "2022-08-29T03:43:20.344Z"
   },
   {
    "duration": 318,
    "start_time": "2022-08-29T03:44:32.171Z"
   },
   {
    "duration": 9,
    "start_time": "2022-08-29T03:48:22.059Z"
   },
   {
    "duration": 8,
    "start_time": "2022-08-29T03:49:38.763Z"
   },
   {
    "duration": 6,
    "start_time": "2022-08-29T03:49:49.872Z"
   },
   {
    "duration": 8,
    "start_time": "2022-08-29T03:49:50.648Z"
   },
   {
    "duration": 9,
    "start_time": "2022-08-29T03:50:05.077Z"
   },
   {
    "duration": 795,
    "start_time": "2022-08-29T03:50:18.987Z"
   },
   {
    "duration": 104,
    "start_time": "2022-08-29T03:50:52.156Z"
   },
   {
    "duration": 124,
    "start_time": "2022-08-29T03:51:02.929Z"
   },
   {
    "duration": 221,
    "start_time": "2022-08-29T03:55:40.024Z"
   },
   {
    "duration": 226,
    "start_time": "2022-08-29T03:56:01.822Z"
   },
   {
    "duration": 118,
    "start_time": "2022-08-29T03:56:06.206Z"
   },
   {
    "duration": 191,
    "start_time": "2022-08-29T03:56:12.952Z"
   },
   {
    "duration": 221,
    "start_time": "2022-08-29T03:57:41.222Z"
   },
   {
    "duration": 225,
    "start_time": "2022-08-29T03:57:45.687Z"
   },
   {
    "duration": 218,
    "start_time": "2022-08-29T03:58:54.615Z"
   },
   {
    "duration": 187,
    "start_time": "2022-08-29T03:58:58.921Z"
   },
   {
    "duration": 9,
    "start_time": "2022-08-29T03:59:49.579Z"
   },
   {
    "duration": 12,
    "start_time": "2022-08-29T03:59:56.164Z"
   },
   {
    "duration": 213,
    "start_time": "2022-08-29T04:01:09.603Z"
   },
   {
    "duration": 215,
    "start_time": "2022-08-29T04:02:12.799Z"
   },
   {
    "duration": 208,
    "start_time": "2022-08-29T04:03:11.092Z"
   },
   {
    "duration": 118,
    "start_time": "2022-08-29T04:04:03.343Z"
   },
   {
    "duration": 111,
    "start_time": "2022-08-29T04:06:09.516Z"
   },
   {
    "duration": 126,
    "start_time": "2022-08-29T04:06:18.416Z"
   },
   {
    "duration": 248,
    "start_time": "2022-08-29T04:06:52.933Z"
   },
   {
    "duration": 8,
    "start_time": "2022-08-29T04:08:08.334Z"
   },
   {
    "duration": 780,
    "start_time": "2022-08-29T04:08:18.529Z"
   },
   {
    "duration": 4,
    "start_time": "2022-08-29T04:08:32.193Z"
   },
   {
    "duration": 8,
    "start_time": "2022-08-29T04:09:23.295Z"
   },
   {
    "duration": 5,
    "start_time": "2022-08-29T04:09:33.617Z"
   },
   {
    "duration": 3,
    "start_time": "2022-08-29T04:09:44.303Z"
   },
   {
    "duration": 7,
    "start_time": "2022-08-29T04:10:15.707Z"
   },
   {
    "duration": 6,
    "start_time": "2022-08-29T04:10:21.917Z"
   },
   {
    "duration": 5,
    "start_time": "2022-08-29T04:10:29.758Z"
   },
   {
    "duration": 11,
    "start_time": "2022-08-29T04:17:23.746Z"
   },
   {
    "duration": 11,
    "start_time": "2022-08-29T04:17:32.536Z"
   },
   {
    "duration": 140,
    "start_time": "2022-08-29T04:17:40.447Z"
   },
   {
    "duration": 814,
    "start_time": "2022-08-29T04:21:30.683Z"
   },
   {
    "duration": 6,
    "start_time": "2022-08-29T04:21:52.064Z"
   },
   {
    "duration": 4,
    "start_time": "2022-08-29T04:37:23.309Z"
   },
   {
    "duration": 5,
    "start_time": "2022-08-29T04:37:36.456Z"
   },
   {
    "duration": 5,
    "start_time": "2022-08-29T04:37:43.396Z"
   },
   {
    "duration": 4,
    "start_time": "2022-08-29T04:37:49.661Z"
   },
   {
    "duration": 36,
    "start_time": "2022-08-29T04:40:41.500Z"
   },
   {
    "duration": 26,
    "start_time": "2022-08-29T04:41:38.295Z"
   },
   {
    "duration": 3,
    "start_time": "2022-08-29T04:41:48.752Z"
   },
   {
    "duration": 9,
    "start_time": "2022-08-29T04:42:25.766Z"
   },
   {
    "duration": 804,
    "start_time": "2022-08-29T04:42:48.198Z"
   },
   {
    "duration": 8,
    "start_time": "2022-08-29T04:43:03.550Z"
   },
   {
    "duration": 8,
    "start_time": "2022-08-29T04:44:47.893Z"
   },
   {
    "duration": 140,
    "start_time": "2022-08-29T04:52:51.523Z"
   },
   {
    "duration": 129,
    "start_time": "2022-08-29T04:53:35.572Z"
   },
   {
    "duration": 136,
    "start_time": "2022-08-29T04:55:04.793Z"
   },
   {
    "duration": 10,
    "start_time": "2022-08-29T05:00:37.650Z"
   },
   {
    "duration": 207,
    "start_time": "2022-08-29T05:00:41.384Z"
   },
   {
    "duration": 14,
    "start_time": "2022-08-29T05:00:43.977Z"
   },
   {
    "duration": 6,
    "start_time": "2022-08-29T05:01:02.843Z"
   },
   {
    "duration": 11,
    "start_time": "2022-08-29T05:01:14.488Z"
   },
   {
    "duration": 9,
    "start_time": "2022-08-29T05:01:21.684Z"
   },
   {
    "duration": 6,
    "start_time": "2022-08-29T05:06:37.567Z"
   },
   {
    "duration": 7,
    "start_time": "2022-08-29T05:06:48.723Z"
   },
   {
    "duration": 21,
    "start_time": "2022-08-29T05:07:02.939Z"
   },
   {
    "duration": 23,
    "start_time": "2022-08-29T05:07:36.708Z"
   },
   {
    "duration": 21,
    "start_time": "2022-08-29T05:07:57.152Z"
   },
   {
    "duration": 9,
    "start_time": "2022-08-29T05:10:45.121Z"
   },
   {
    "duration": 32,
    "start_time": "2022-08-29T05:11:09.502Z"
   },
   {
    "duration": 120,
    "start_time": "2022-08-29T05:12:20.565Z"
   },
   {
    "duration": 7,
    "start_time": "2022-08-29T05:12:21.219Z"
   },
   {
    "duration": 21,
    "start_time": "2022-08-29T05:12:21.722Z"
   },
   {
    "duration": 12,
    "start_time": "2022-08-29T05:33:42.452Z"
   },
   {
    "duration": 11,
    "start_time": "2022-08-29T05:34:00.861Z"
   },
   {
    "duration": 14,
    "start_time": "2022-08-29T05:34:11.323Z"
   },
   {
    "duration": 7,
    "start_time": "2022-08-29T05:34:22.033Z"
   },
   {
    "duration": 14,
    "start_time": "2022-08-29T05:35:10.642Z"
   },
   {
    "duration": 14,
    "start_time": "2022-08-29T05:35:15.209Z"
   },
   {
    "duration": 14,
    "start_time": "2022-08-29T05:35:20.397Z"
   },
   {
    "duration": 15,
    "start_time": "2022-08-29T05:35:47.677Z"
   },
   {
    "duration": 14,
    "start_time": "2022-08-29T05:36:50.603Z"
   },
   {
    "duration": 15,
    "start_time": "2022-08-29T05:37:02.776Z"
   },
   {
    "duration": 16,
    "start_time": "2022-08-29T05:37:06.871Z"
   },
   {
    "duration": 14,
    "start_time": "2022-08-29T05:37:10.047Z"
   },
   {
    "duration": 14,
    "start_time": "2022-08-29T05:42:45.685Z"
   },
   {
    "duration": 131,
    "start_time": "2022-08-29T05:43:29.388Z"
   },
   {
    "duration": 11,
    "start_time": "2022-08-29T05:44:19.376Z"
   },
   {
    "duration": 9,
    "start_time": "2022-08-29T05:45:08.397Z"
   },
   {
    "duration": 19,
    "start_time": "2022-08-29T05:45:36.610Z"
   },
   {
    "duration": 70,
    "start_time": "2022-08-29T05:49:48.443Z"
   },
   {
    "duration": 5,
    "start_time": "2022-08-29T05:52:07.651Z"
   },
   {
    "duration": 4,
    "start_time": "2022-08-29T05:52:16.911Z"
   },
   {
    "duration": 4,
    "start_time": "2022-08-29T05:52:57.107Z"
   },
   {
    "duration": 4,
    "start_time": "2022-08-29T05:53:23.580Z"
   },
   {
    "duration": 5,
    "start_time": "2022-08-29T05:54:34.005Z"
   },
   {
    "duration": 9,
    "start_time": "2022-08-29T05:59:54.218Z"
   },
   {
    "duration": 43,
    "start_time": "2022-08-29T06:01:49.064Z"
   },
   {
    "duration": 55,
    "start_time": "2022-08-29T06:02:03.937Z"
   },
   {
    "duration": 11,
    "start_time": "2022-08-29T06:02:11.969Z"
   },
   {
    "duration": 13,
    "start_time": "2022-08-29T06:02:15.912Z"
   },
   {
    "duration": 13,
    "start_time": "2022-08-29T06:02:45.438Z"
   },
   {
    "duration": 11,
    "start_time": "2022-08-29T06:03:57.442Z"
   },
   {
    "duration": 5,
    "start_time": "2022-08-29T06:04:26.087Z"
   },
   {
    "duration": 9,
    "start_time": "2022-08-29T06:13:47.100Z"
   },
   {
    "duration": 119,
    "start_time": "2022-08-29T06:15:10.130Z"
   },
   {
    "duration": 7,
    "start_time": "2022-08-29T06:16:26.180Z"
   },
   {
    "duration": 20,
    "start_time": "2022-08-29T06:16:55.574Z"
   },
   {
    "duration": 19,
    "start_time": "2022-08-29T06:18:47.469Z"
   },
   {
    "duration": 10,
    "start_time": "2022-08-29T06:23:07.172Z"
   },
   {
    "duration": 9,
    "start_time": "2022-08-29T06:30:58.505Z"
   },
   {
    "duration": 119,
    "start_time": "2022-08-29T06:31:04.654Z"
   },
   {
    "duration": 7,
    "start_time": "2022-08-29T06:31:05.174Z"
   },
   {
    "duration": 25,
    "start_time": "2022-08-29T06:31:07.285Z"
   },
   {
    "duration": 11,
    "start_time": "2022-08-29T06:31:11.694Z"
   },
   {
    "duration": 8,
    "start_time": "2022-08-29T06:31:44.846Z"
   },
   {
    "duration": 141,
    "start_time": "2022-08-29T06:31:45.998Z"
   },
   {
    "duration": 7,
    "start_time": "2022-08-29T06:31:46.502Z"
   },
   {
    "duration": 20,
    "start_time": "2022-08-29T06:31:47.046Z"
   },
   {
    "duration": 10,
    "start_time": "2022-08-29T06:31:48.641Z"
   },
   {
    "duration": 24,
    "start_time": "2022-08-29T06:37:06.938Z"
   },
   {
    "duration": 20,
    "start_time": "2022-08-29T06:37:22.656Z"
   },
   {
    "duration": 169,
    "start_time": "2022-08-29T06:43:31.162Z"
   },
   {
    "duration": 282,
    "start_time": "2022-08-29T06:44:15.067Z"
   },
   {
    "duration": 272,
    "start_time": "2022-08-29T06:44:40.660Z"
   },
   {
    "duration": 303,
    "start_time": "2022-08-29T06:44:58.207Z"
   },
   {
    "duration": 282,
    "start_time": "2022-08-29T06:45:34.711Z"
   },
   {
    "duration": 198,
    "start_time": "2022-08-29T06:45:55.195Z"
   },
   {
    "duration": 206,
    "start_time": "2022-08-29T07:01:20.116Z"
   },
   {
    "duration": 277,
    "start_time": "2022-08-29T07:27:31.843Z"
   },
   {
    "duration": 218,
    "start_time": "2022-08-29T07:27:33.884Z"
   },
   {
    "duration": 204,
    "start_time": "2022-08-29T07:28:28.225Z"
   },
   {
    "duration": 221,
    "start_time": "2022-08-29T07:28:48.992Z"
   },
   {
    "duration": 237,
    "start_time": "2022-08-29T07:29:25.579Z"
   },
   {
    "duration": 226,
    "start_time": "2022-08-29T07:29:35.510Z"
   },
   {
    "duration": 349,
    "start_time": "2022-08-29T07:29:45.779Z"
   },
   {
    "duration": 229,
    "start_time": "2022-08-29T07:29:57.991Z"
   },
   {
    "duration": 344,
    "start_time": "2022-08-29T07:30:06.162Z"
   },
   {
    "duration": 276,
    "start_time": "2022-08-29T07:31:01.280Z"
   },
   {
    "duration": 238,
    "start_time": "2022-08-29T07:31:02.815Z"
   },
   {
    "duration": 275,
    "start_time": "2022-08-29T07:31:44.862Z"
   },
   {
    "duration": 212,
    "start_time": "2022-08-29T07:31:45.427Z"
   },
   {
    "duration": 287,
    "start_time": "2022-08-29T07:32:32.892Z"
   },
   {
    "duration": 211,
    "start_time": "2022-08-29T07:32:33.404Z"
   },
   {
    "duration": 1059,
    "start_time": "2022-08-29T08:14:38.793Z"
   },
   {
    "duration": 77,
    "start_time": "2022-08-29T08:14:39.854Z"
   },
   {
    "duration": 22,
    "start_time": "2022-08-29T08:14:39.933Z"
   },
   {
    "duration": 2,
    "start_time": "2022-08-29T08:14:39.957Z"
   },
   {
    "duration": 21,
    "start_time": "2022-08-29T08:14:39.961Z"
   },
   {
    "duration": 5,
    "start_time": "2022-08-29T08:14:39.984Z"
   },
   {
    "duration": 22,
    "start_time": "2022-08-29T08:14:39.990Z"
   },
   {
    "duration": 3,
    "start_time": "2022-08-29T08:14:40.013Z"
   },
   {
    "duration": 16,
    "start_time": "2022-08-29T08:14:40.018Z"
   },
   {
    "duration": 22,
    "start_time": "2022-08-29T08:14:40.036Z"
   },
   {
    "duration": 9,
    "start_time": "2022-08-29T08:14:40.060Z"
   },
   {
    "duration": 13,
    "start_time": "2022-08-29T08:14:40.070Z"
   },
   {
    "duration": 174,
    "start_time": "2022-08-29T08:14:40.084Z"
   },
   {
    "duration": 150,
    "start_time": "2022-08-29T08:14:40.261Z"
   },
   {
    "duration": 7,
    "start_time": "2022-08-29T08:14:40.412Z"
   },
   {
    "duration": 12,
    "start_time": "2022-08-29T08:14:40.420Z"
   },
   {
    "duration": 6,
    "start_time": "2022-08-29T08:14:40.434Z"
   },
   {
    "duration": 306,
    "start_time": "2022-08-29T08:14:40.442Z"
   },
   {
    "duration": 221,
    "start_time": "2022-08-29T08:14:40.750Z"
   },
   {
    "duration": 334,
    "start_time": "2022-08-29T08:14:40.973Z"
   },
   {
    "duration": 5,
    "start_time": "2022-08-29T08:14:41.309Z"
   },
   {
    "duration": 232,
    "start_time": "2022-08-29T08:14:41.315Z"
   },
   {
    "duration": 352,
    "start_time": "2022-08-29T08:14:41.549Z"
   },
   {
    "duration": 5,
    "start_time": "2022-08-29T08:14:41.903Z"
   },
   {
    "duration": 141,
    "start_time": "2022-08-29T08:14:41.910Z"
   },
   {
    "duration": 7,
    "start_time": "2022-08-29T08:14:42.052Z"
   },
   {
    "duration": 252,
    "start_time": "2022-08-29T08:14:42.061Z"
   },
   {
    "duration": 0,
    "start_time": "2022-08-29T08:14:42.315Z"
   },
   {
    "duration": 0,
    "start_time": "2022-08-29T08:14:42.316Z"
   },
   {
    "duration": 0,
    "start_time": "2022-08-29T08:14:42.317Z"
   },
   {
    "duration": 0,
    "start_time": "2022-08-29T08:14:42.319Z"
   },
   {
    "duration": 0,
    "start_time": "2022-08-29T08:14:42.320Z"
   },
   {
    "duration": 0,
    "start_time": "2022-08-29T08:14:42.321Z"
   },
   {
    "duration": 0,
    "start_time": "2022-08-29T08:14:42.322Z"
   },
   {
    "duration": 0,
    "start_time": "2022-08-29T08:14:42.324Z"
   },
   {
    "duration": 0,
    "start_time": "2022-08-29T08:14:42.324Z"
   },
   {
    "duration": 0,
    "start_time": "2022-08-29T08:14:42.325Z"
   },
   {
    "duration": 0,
    "start_time": "2022-08-29T08:14:42.326Z"
   },
   {
    "duration": 0,
    "start_time": "2022-08-29T08:14:42.328Z"
   },
   {
    "duration": 203,
    "start_time": "2022-08-29T08:16:19.870Z"
   },
   {
    "duration": 1043,
    "start_time": "2022-08-29T08:16:27.023Z"
   },
   {
    "duration": 78,
    "start_time": "2022-08-29T08:16:28.068Z"
   },
   {
    "duration": 25,
    "start_time": "2022-08-29T08:16:28.148Z"
   },
   {
    "duration": 3,
    "start_time": "2022-08-29T08:16:28.175Z"
   },
   {
    "duration": 42,
    "start_time": "2022-08-29T08:16:28.180Z"
   },
   {
    "duration": 5,
    "start_time": "2022-08-29T08:16:28.224Z"
   },
   {
    "duration": 30,
    "start_time": "2022-08-29T08:16:28.230Z"
   },
   {
    "duration": 4,
    "start_time": "2022-08-29T08:16:28.261Z"
   },
   {
    "duration": 7,
    "start_time": "2022-08-29T08:16:28.267Z"
   },
   {
    "duration": 22,
    "start_time": "2022-08-29T08:16:28.275Z"
   },
   {
    "duration": 13,
    "start_time": "2022-08-29T08:16:28.299Z"
   },
   {
    "duration": 12,
    "start_time": "2022-08-29T08:16:28.314Z"
   },
   {
    "duration": 197,
    "start_time": "2022-08-29T08:16:28.328Z"
   },
   {
    "duration": 120,
    "start_time": "2022-08-29T08:16:28.528Z"
   },
   {
    "duration": 6,
    "start_time": "2022-08-29T08:16:28.650Z"
   },
   {
    "duration": 17,
    "start_time": "2022-08-29T08:16:28.657Z"
   },
   {
    "duration": 13,
    "start_time": "2022-08-29T08:16:28.676Z"
   },
   {
    "duration": 296,
    "start_time": "2022-08-29T08:16:28.690Z"
   },
   {
    "duration": 222,
    "start_time": "2022-08-29T08:16:28.988Z"
   },
   {
    "duration": 296,
    "start_time": "2022-08-29T08:16:29.211Z"
   },
   {
    "duration": 6,
    "start_time": "2022-08-29T08:16:29.508Z"
   },
   {
    "duration": 221,
    "start_time": "2022-08-29T08:16:29.515Z"
   },
   {
    "duration": 349,
    "start_time": "2022-08-29T08:16:29.738Z"
   },
   {
    "duration": 6,
    "start_time": "2022-08-29T08:16:30.089Z"
   },
   {
    "duration": 150,
    "start_time": "2022-08-29T08:16:30.097Z"
   },
   {
    "duration": 7,
    "start_time": "2022-08-29T08:16:30.249Z"
   },
   {
    "duration": 167,
    "start_time": "2022-08-29T08:16:30.258Z"
   },
   {
    "duration": 5,
    "start_time": "2022-08-29T08:16:30.427Z"
   },
   {
    "duration": 17,
    "start_time": "2022-08-29T08:16:30.434Z"
   },
   {
    "duration": 373,
    "start_time": "2022-08-29T08:16:30.453Z"
   },
   {
    "duration": 102,
    "start_time": "2022-08-29T08:16:30.828Z"
   },
   {
    "duration": 0,
    "start_time": "2022-08-29T08:16:30.931Z"
   },
   {
    "duration": 0,
    "start_time": "2022-08-29T08:16:30.933Z"
   },
   {
    "duration": 0,
    "start_time": "2022-08-29T08:16:30.934Z"
   },
   {
    "duration": 0,
    "start_time": "2022-08-29T08:16:30.935Z"
   },
   {
    "duration": 0,
    "start_time": "2022-08-29T08:16:30.936Z"
   },
   {
    "duration": 0,
    "start_time": "2022-08-29T08:16:30.937Z"
   },
   {
    "duration": 0,
    "start_time": "2022-08-29T08:16:30.938Z"
   },
   {
    "duration": 0,
    "start_time": "2022-08-29T08:16:30.939Z"
   },
   {
    "duration": 222,
    "start_time": "2022-08-29T08:17:15.943Z"
   },
   {
    "duration": 1089,
    "start_time": "2022-08-29T08:17:25.871Z"
   },
   {
    "duration": 79,
    "start_time": "2022-08-29T08:17:26.962Z"
   },
   {
    "duration": 25,
    "start_time": "2022-08-29T08:17:27.043Z"
   },
   {
    "duration": 3,
    "start_time": "2022-08-29T08:17:27.069Z"
   },
   {
    "duration": 49,
    "start_time": "2022-08-29T08:17:27.074Z"
   },
   {
    "duration": 5,
    "start_time": "2022-08-29T08:17:27.125Z"
   },
   {
    "duration": 20,
    "start_time": "2022-08-29T08:17:27.132Z"
   },
   {
    "duration": 4,
    "start_time": "2022-08-29T08:17:27.154Z"
   },
   {
    "duration": 25,
    "start_time": "2022-08-29T08:17:27.160Z"
   },
   {
    "duration": 12,
    "start_time": "2022-08-29T08:17:27.187Z"
   },
   {
    "duration": 21,
    "start_time": "2022-08-29T08:17:27.201Z"
   },
   {
    "duration": 21,
    "start_time": "2022-08-29T08:17:27.224Z"
   },
   {
    "duration": 179,
    "start_time": "2022-08-29T08:17:27.246Z"
   },
   {
    "duration": 110,
    "start_time": "2022-08-29T08:17:27.428Z"
   },
   {
    "duration": 6,
    "start_time": "2022-08-29T08:17:27.539Z"
   },
   {
    "duration": 17,
    "start_time": "2022-08-29T08:17:27.547Z"
   },
   {
    "duration": 11,
    "start_time": "2022-08-29T08:17:27.565Z"
   },
   {
    "duration": 285,
    "start_time": "2022-08-29T08:17:27.577Z"
   },
   {
    "duration": 234,
    "start_time": "2022-08-29T08:17:27.863Z"
   },
   {
    "duration": 313,
    "start_time": "2022-08-29T08:17:28.099Z"
   },
   {
    "duration": 6,
    "start_time": "2022-08-29T08:17:28.413Z"
   },
   {
    "duration": 246,
    "start_time": "2022-08-29T08:17:28.421Z"
   },
   {
    "duration": 347,
    "start_time": "2022-08-29T08:17:28.669Z"
   },
   {
    "duration": 6,
    "start_time": "2022-08-29T08:17:29.018Z"
   },
   {
    "duration": 163,
    "start_time": "2022-08-29T08:17:29.025Z"
   },
   {
    "duration": 6,
    "start_time": "2022-08-29T08:17:29.190Z"
   },
   {
    "duration": 162,
    "start_time": "2022-08-29T08:17:29.197Z"
   },
   {
    "duration": 6,
    "start_time": "2022-08-29T08:17:29.361Z"
   },
   {
    "duration": 21,
    "start_time": "2022-08-29T08:17:29.368Z"
   },
   {
    "duration": 357,
    "start_time": "2022-08-29T08:17:29.391Z"
   },
   {
    "duration": 227,
    "start_time": "2022-08-29T08:17:29.750Z"
   },
   {
    "duration": 135,
    "start_time": "2022-08-29T08:17:29.984Z"
   },
   {
    "duration": 8,
    "start_time": "2022-08-29T08:17:30.121Z"
   },
   {
    "duration": 25,
    "start_time": "2022-08-29T08:17:30.131Z"
   },
   {
    "duration": 9,
    "start_time": "2022-08-29T08:17:30.158Z"
   },
   {
    "duration": 137,
    "start_time": "2022-08-29T08:17:30.185Z"
   },
   {
    "duration": 7,
    "start_time": "2022-08-29T08:17:30.324Z"
   },
   {
    "duration": 48,
    "start_time": "2022-08-29T08:17:30.332Z"
   },
   {
    "duration": 11,
    "start_time": "2022-08-29T08:17:30.381Z"
   },
   {
    "duration": 1290,
    "start_time": "2022-08-29T15:03:50.484Z"
   },
   {
    "duration": 187,
    "start_time": "2022-08-29T15:03:51.776Z"
   },
   {
    "duration": 23,
    "start_time": "2022-08-29T15:03:51.965Z"
   },
   {
    "duration": 3,
    "start_time": "2022-08-29T15:03:51.989Z"
   },
   {
    "duration": 26,
    "start_time": "2022-08-29T15:03:51.994Z"
   },
   {
    "duration": 6,
    "start_time": "2022-08-29T15:03:52.022Z"
   },
   {
    "duration": 26,
    "start_time": "2022-08-29T15:03:52.029Z"
   },
   {
    "duration": 3,
    "start_time": "2022-08-29T15:03:52.057Z"
   },
   {
    "duration": 5,
    "start_time": "2022-08-29T15:03:52.087Z"
   },
   {
    "duration": 12,
    "start_time": "2022-08-29T15:03:52.093Z"
   },
   {
    "duration": 9,
    "start_time": "2022-08-29T15:03:52.106Z"
   },
   {
    "duration": 12,
    "start_time": "2022-08-29T15:03:52.116Z"
   },
   {
    "duration": 196,
    "start_time": "2022-08-29T15:03:52.130Z"
   },
   {
    "duration": 122,
    "start_time": "2022-08-29T15:03:52.328Z"
   },
   {
    "duration": 6,
    "start_time": "2022-08-29T15:03:52.452Z"
   },
   {
    "duration": 11,
    "start_time": "2022-08-29T15:03:52.459Z"
   },
   {
    "duration": 20,
    "start_time": "2022-08-29T15:03:52.471Z"
   },
   {
    "duration": 295,
    "start_time": "2022-08-29T15:03:52.492Z"
   },
   {
    "duration": 219,
    "start_time": "2022-08-29T15:03:52.788Z"
   },
   {
    "duration": 346,
    "start_time": "2022-08-29T15:03:53.009Z"
   },
   {
    "duration": 5,
    "start_time": "2022-08-29T15:03:53.357Z"
   },
   {
    "duration": 234,
    "start_time": "2022-08-29T15:03:53.364Z"
   },
   {
    "duration": 317,
    "start_time": "2022-08-29T15:03:53.600Z"
   },
   {
    "duration": 6,
    "start_time": "2022-08-29T15:03:53.919Z"
   },
   {
    "duration": 146,
    "start_time": "2022-08-29T15:03:53.927Z"
   },
   {
    "duration": 15,
    "start_time": "2022-08-29T15:03:54.074Z"
   },
   {
    "duration": 156,
    "start_time": "2022-08-29T15:03:54.091Z"
   },
   {
    "duration": 4,
    "start_time": "2022-08-29T15:03:54.249Z"
   },
   {
    "duration": 14,
    "start_time": "2022-08-29T15:03:54.255Z"
   },
   {
    "duration": 363,
    "start_time": "2022-08-29T15:03:54.270Z"
   },
   {
    "duration": 228,
    "start_time": "2022-08-29T15:03:54.635Z"
   },
   {
    "duration": 144,
    "start_time": "2022-08-29T15:03:54.865Z"
   },
   {
    "duration": 7,
    "start_time": "2022-08-29T15:03:55.011Z"
   },
   {
    "duration": 23,
    "start_time": "2022-08-29T15:03:55.019Z"
   },
   {
    "duration": 9,
    "start_time": "2022-08-29T15:03:55.044Z"
   },
   {
    "duration": 137,
    "start_time": "2022-08-29T15:03:55.055Z"
   },
   {
    "duration": 8,
    "start_time": "2022-08-29T15:03:55.194Z"
   },
   {
    "duration": 22,
    "start_time": "2022-08-29T15:03:55.204Z"
   },
   {
    "duration": 10,
    "start_time": "2022-08-29T15:03:55.228Z"
   },
   {
    "duration": 8,
    "start_time": "2022-08-29T16:17:26.995Z"
   },
   {
    "duration": 21,
    "start_time": "2022-08-29T16:17:29.107Z"
   },
   {
    "duration": 44,
    "start_time": "2022-08-29T23:32:20.194Z"
   },
   {
    "duration": 6,
    "start_time": "2022-08-29T23:39:39.713Z"
   },
   {
    "duration": 1234,
    "start_time": "2022-08-29T23:40:00.496Z"
   },
   {
    "duration": 202,
    "start_time": "2022-08-29T23:40:01.732Z"
   },
   {
    "duration": 22,
    "start_time": "2022-08-29T23:40:01.935Z"
   },
   {
    "duration": 3,
    "start_time": "2022-08-29T23:40:02.016Z"
   },
   {
    "duration": 18,
    "start_time": "2022-08-29T23:40:02.520Z"
   },
   {
    "duration": 6,
    "start_time": "2022-08-29T23:40:05.511Z"
   },
   {
    "duration": 29,
    "start_time": "2022-08-29T23:40:06.167Z"
   },
   {
    "duration": 4,
    "start_time": "2022-08-29T23:40:08.150Z"
   },
   {
    "duration": 42,
    "start_time": "2022-08-29T23:40:14.707Z"
   },
   {
    "duration": 3,
    "start_time": "2022-08-29T23:40:21.819Z"
   },
   {
    "duration": 11,
    "start_time": "2022-08-29T23:42:02.871Z"
   },
   {
    "duration": 55,
    "start_time": "2022-08-29T23:43:21.469Z"
   },
   {
    "duration": 11,
    "start_time": "2022-08-29T23:43:30.356Z"
   },
   {
    "duration": 3,
    "start_time": "2022-08-29T23:45:34.297Z"
   },
   {
    "duration": 7,
    "start_time": "2022-08-29T23:46:08.296Z"
   },
   {
    "duration": 11,
    "start_time": "2022-08-29T23:46:25.143Z"
   },
   {
    "duration": 11,
    "start_time": "2022-08-29T23:47:06.050Z"
   },
   {
    "duration": 794,
    "start_time": "2022-08-29T23:48:25.428Z"
   },
   {
    "duration": 7,
    "start_time": "2022-08-29T23:48:55.396Z"
   },
   {
    "duration": 6,
    "start_time": "2022-08-29T23:49:19.844Z"
   },
   {
    "duration": 6,
    "start_time": "2022-08-29T23:50:29.676Z"
   },
   {
    "duration": 7,
    "start_time": "2022-08-29T23:50:46.658Z"
   },
   {
    "duration": 4,
    "start_time": "2022-08-29T23:53:33.757Z"
   },
   {
    "duration": 5,
    "start_time": "2022-08-29T23:56:05.815Z"
   },
   {
    "duration": 5,
    "start_time": "2022-08-29T23:56:07.495Z"
   },
   {
    "duration": 10,
    "start_time": "2022-08-29T23:56:07.891Z"
   },
   {
    "duration": 3,
    "start_time": "2022-08-29T23:56:51.103Z"
   },
   {
    "duration": 9,
    "start_time": "2022-08-29T23:56:54.999Z"
   },
   {
    "duration": 13,
    "start_time": "2022-08-29T23:59:17.014Z"
   },
   {
    "duration": 3,
    "start_time": "2022-08-29T23:59:25.838Z"
   },
   {
    "duration": 10,
    "start_time": "2022-08-29T23:59:25.989Z"
   },
   {
    "duration": 4,
    "start_time": "2022-08-29T23:59:26.878Z"
   },
   {
    "duration": 11,
    "start_time": "2022-08-29T23:59:27.029Z"
   },
   {
    "duration": 162,
    "start_time": "2022-08-29T23:59:27.799Z"
   },
   {
    "duration": 112,
    "start_time": "2022-08-29T23:59:27.963Z"
   },
   {
    "duration": 7,
    "start_time": "2022-08-29T23:59:28.323Z"
   },
   {
    "duration": 8,
    "start_time": "2022-08-29T23:59:28.471Z"
   },
   {
    "duration": 6,
    "start_time": "2022-08-29T23:59:29.620Z"
   },
   {
    "duration": 276,
    "start_time": "2022-08-29T23:59:29.971Z"
   },
   {
    "duration": 217,
    "start_time": "2022-08-30T00:00:42.744Z"
   },
   {
    "duration": 405,
    "start_time": "2022-08-30T00:01:15.307Z"
   },
   {
    "duration": 262,
    "start_time": "2022-08-30T00:01:28.110Z"
   },
   {
    "duration": 6,
    "start_time": "2022-08-30T00:03:22.043Z"
   },
   {
    "duration": 204,
    "start_time": "2022-08-30T00:03:23.479Z"
   },
   {
    "duration": 204,
    "start_time": "2022-08-30T00:03:28.008Z"
   },
   {
    "duration": 285,
    "start_time": "2022-08-30T00:03:33.024Z"
   },
   {
    "duration": 303,
    "start_time": "2022-08-30T00:03:37.820Z"
   },
   {
    "duration": 6,
    "start_time": "2022-08-30T00:03:48.685Z"
   },
   {
    "duration": 226,
    "start_time": "2022-08-30T00:03:48.965Z"
   },
   {
    "duration": 188,
    "start_time": "2022-08-30T00:04:05.984Z"
   },
   {
    "duration": 148,
    "start_time": "2022-08-30T00:04:10.146Z"
   },
   {
    "duration": 149,
    "start_time": "2022-08-30T00:04:39.609Z"
   },
   {
    "duration": 6,
    "start_time": "2022-08-30T00:04:58.213Z"
   },
   {
    "duration": 123,
    "start_time": "2022-08-30T00:05:00.741Z"
   },
   {
    "duration": 6,
    "start_time": "2022-08-30T00:05:54.541Z"
   },
   {
    "duration": 2,
    "start_time": "2022-08-30T00:05:55.845Z"
   },
   {
    "duration": 59,
    "start_time": "2022-08-30T00:05:58.374Z"
   },
   {
    "duration": 9,
    "start_time": "2022-08-30T00:07:08.863Z"
   },
   {
    "duration": 150,
    "start_time": "2022-08-30T00:08:13.998Z"
   },
   {
    "duration": 149,
    "start_time": "2022-08-30T00:08:43.454Z"
   },
   {
    "duration": 263,
    "start_time": "2022-08-30T00:12:03.722Z"
   },
   {
    "duration": 196,
    "start_time": "2022-08-30T00:12:08.676Z"
   },
   {
    "duration": 12,
    "start_time": "2022-08-30T00:12:44.423Z"
   },
   {
    "duration": 109,
    "start_time": "2022-08-30T00:12:57.331Z"
   },
   {
    "duration": 6,
    "start_time": "2022-08-30T00:12:57.753Z"
   },
   {
    "duration": 19,
    "start_time": "2022-08-30T00:13:06.684Z"
   },
   {
    "duration": 21,
    "start_time": "2022-08-30T00:14:17.195Z"
   },
   {
    "duration": 114,
    "start_time": "2022-08-30T00:14:43.799Z"
   },
   {
    "duration": 8,
    "start_time": "2022-08-30T00:14:44.226Z"
   },
   {
    "duration": 46,
    "start_time": "2022-08-30T00:15:26.602Z"
   },
   {
    "duration": 7,
    "start_time": "2022-08-30T00:15:32.571Z"
   },
   {
    "duration": 23,
    "start_time": "2022-08-30T00:15:37.710Z"
   },
   {
    "duration": 10,
    "start_time": "2022-08-30T00:15:43.879Z"
   },
   {
    "duration": 21,
    "start_time": "2022-08-30T00:16:12.624Z"
   },
   {
    "duration": 4,
    "start_time": "2022-08-30T00:21:37.292Z"
   },
   {
    "duration": 19,
    "start_time": "2022-08-30T00:22:38.889Z"
   },
   {
    "duration": 109,
    "start_time": "2022-08-30T00:23:04.431Z"
   },
   {
    "duration": 6,
    "start_time": "2022-08-30T00:23:45.929Z"
   },
   {
    "duration": 1064,
    "start_time": "2022-08-30T00:25:23.911Z"
   },
   {
    "duration": 74,
    "start_time": "2022-08-30T00:25:24.976Z"
   },
   {
    "duration": 24,
    "start_time": "2022-08-30T00:25:25.052Z"
   },
   {
    "duration": 3,
    "start_time": "2022-08-30T00:25:25.077Z"
   },
   {
    "duration": 44,
    "start_time": "2022-08-30T00:25:25.082Z"
   },
   {
    "duration": 6,
    "start_time": "2022-08-30T00:25:25.127Z"
   },
   {
    "duration": 32,
    "start_time": "2022-08-30T00:25:25.134Z"
   },
   {
    "duration": 5,
    "start_time": "2022-08-30T00:25:25.167Z"
   },
   {
    "duration": 30,
    "start_time": "2022-08-30T00:25:25.173Z"
   },
   {
    "duration": 18,
    "start_time": "2022-08-30T00:25:25.204Z"
   },
   {
    "duration": 14,
    "start_time": "2022-08-30T00:25:25.224Z"
   },
   {
    "duration": 30,
    "start_time": "2022-08-30T00:25:25.239Z"
   },
   {
    "duration": 31,
    "start_time": "2022-08-30T00:25:25.271Z"
   },
   {
    "duration": 34,
    "start_time": "2022-08-30T00:25:25.305Z"
   },
   {
    "duration": 9,
    "start_time": "2022-08-30T00:25:25.340Z"
   },
   {
    "duration": 38,
    "start_time": "2022-08-30T00:25:25.351Z"
   },
   {
    "duration": 184,
    "start_time": "2022-08-30T00:25:25.390Z"
   },
   {
    "duration": 115,
    "start_time": "2022-08-30T00:25:25.575Z"
   },
   {
    "duration": 22,
    "start_time": "2022-08-30T00:25:25.692Z"
   },
   {
    "duration": 36,
    "start_time": "2022-08-30T00:25:25.715Z"
   },
   {
    "duration": 21,
    "start_time": "2022-08-30T00:25:25.752Z"
   },
   {
    "duration": 270,
    "start_time": "2022-08-30T00:25:25.775Z"
   },
   {
    "duration": 6,
    "start_time": "2022-08-30T00:25:26.046Z"
   },
   {
    "duration": 214,
    "start_time": "2022-08-30T00:25:26.054Z"
   },
   {
    "duration": 302,
    "start_time": "2022-08-30T00:25:26.269Z"
   },
   {
    "duration": 13,
    "start_time": "2022-08-30T00:25:26.572Z"
   },
   {
    "duration": 200,
    "start_time": "2022-08-30T00:25:26.586Z"
   },
   {
    "duration": 315,
    "start_time": "2022-08-30T00:25:26.788Z"
   },
   {
    "duration": 5,
    "start_time": "2022-08-30T00:25:27.105Z"
   },
   {
    "duration": 164,
    "start_time": "2022-08-30T00:25:27.112Z"
   },
   {
    "duration": 11,
    "start_time": "2022-08-30T00:25:27.277Z"
   },
   {
    "duration": 140,
    "start_time": "2022-08-30T00:25:27.289Z"
   },
   {
    "duration": 5,
    "start_time": "2022-08-30T00:25:27.430Z"
   },
   {
    "duration": 4,
    "start_time": "2022-08-30T00:25:27.436Z"
   },
   {
    "duration": 9,
    "start_time": "2022-08-30T00:25:27.441Z"
   },
   {
    "duration": 223,
    "start_time": "2022-08-30T00:25:27.452Z"
   },
   {
    "duration": 269,
    "start_time": "2022-08-30T00:25:27.677Z"
   },
   {
    "duration": 203,
    "start_time": "2022-08-30T00:25:27.948Z"
   },
   {
    "duration": 112,
    "start_time": "2022-08-30T00:25:28.153Z"
   },
   {
    "duration": 7,
    "start_time": "2022-08-30T00:25:28.267Z"
   },
   {
    "duration": 21,
    "start_time": "2022-08-30T00:25:28.284Z"
   },
   {
    "duration": 10,
    "start_time": "2022-08-30T00:25:28.306Z"
   },
   {
    "duration": 127,
    "start_time": "2022-08-30T00:25:28.317Z"
   },
   {
    "duration": 6,
    "start_time": "2022-08-30T00:25:28.446Z"
   },
   {
    "duration": 31,
    "start_time": "2022-08-30T00:25:28.454Z"
   },
   {
    "duration": 8,
    "start_time": "2022-08-30T00:25:28.487Z"
   },
   {
    "duration": 3,
    "start_time": "2022-08-30T00:27:30.047Z"
   },
   {
    "duration": 73,
    "start_time": "2022-08-30T00:27:30.399Z"
   },
   {
    "duration": 1033,
    "start_time": "2022-08-30T00:27:34.807Z"
   },
   {
    "duration": 72,
    "start_time": "2022-08-30T00:27:35.842Z"
   },
   {
    "duration": 22,
    "start_time": "2022-08-30T00:27:35.915Z"
   },
   {
    "duration": 2,
    "start_time": "2022-08-30T00:27:35.938Z"
   },
   {
    "duration": 22,
    "start_time": "2022-08-30T00:27:35.942Z"
   },
   {
    "duration": 4,
    "start_time": "2022-08-30T00:27:35.966Z"
   },
   {
    "duration": 26,
    "start_time": "2022-08-30T00:27:35.971Z"
   },
   {
    "duration": 3,
    "start_time": "2022-08-30T00:27:35.999Z"
   },
   {
    "duration": 15,
    "start_time": "2022-08-30T00:27:36.003Z"
   },
   {
    "duration": 12,
    "start_time": "2022-08-30T00:27:36.019Z"
   },
   {
    "duration": 9,
    "start_time": "2022-08-30T00:27:36.032Z"
   },
   {
    "duration": 9,
    "start_time": "2022-08-30T00:27:36.042Z"
   },
   {
    "duration": 10,
    "start_time": "2022-08-30T00:27:36.052Z"
   },
   {
    "duration": 21,
    "start_time": "2022-08-30T00:27:36.064Z"
   },
   {
    "duration": 12,
    "start_time": "2022-08-30T00:27:36.086Z"
   },
   {
    "duration": 36,
    "start_time": "2022-08-30T00:27:36.100Z"
   },
   {
    "duration": 167,
    "start_time": "2022-08-30T00:27:36.137Z"
   },
   {
    "duration": 108,
    "start_time": "2022-08-30T00:27:36.306Z"
   },
   {
    "duration": 7,
    "start_time": "2022-08-30T00:27:36.415Z"
   },
   {
    "duration": 10,
    "start_time": "2022-08-30T00:27:36.424Z"
   },
   {
    "duration": 10,
    "start_time": "2022-08-30T00:27:36.435Z"
   },
   {
    "duration": 282,
    "start_time": "2022-08-30T00:27:36.446Z"
   },
   {
    "duration": 6,
    "start_time": "2022-08-30T00:27:36.730Z"
   },
   {
    "duration": 210,
    "start_time": "2022-08-30T00:27:36.737Z"
   },
   {
    "duration": 306,
    "start_time": "2022-08-30T00:27:36.948Z"
   },
   {
    "duration": 5,
    "start_time": "2022-08-30T00:27:37.256Z"
   },
   {
    "duration": 214,
    "start_time": "2022-08-30T00:27:37.262Z"
   },
   {
    "duration": 320,
    "start_time": "2022-08-30T00:27:37.477Z"
   },
   {
    "duration": 6,
    "start_time": "2022-08-30T00:27:37.799Z"
   },
   {
    "duration": 161,
    "start_time": "2022-08-30T00:27:37.806Z"
   },
   {
    "duration": 16,
    "start_time": "2022-08-30T00:27:37.968Z"
   },
   {
    "duration": 148,
    "start_time": "2022-08-30T00:27:37.985Z"
   },
   {
    "duration": 5,
    "start_time": "2022-08-30T00:27:38.134Z"
   },
   {
    "duration": 5,
    "start_time": "2022-08-30T00:27:38.141Z"
   },
   {
    "duration": 13,
    "start_time": "2022-08-30T00:27:38.147Z"
   },
   {
    "duration": 226,
    "start_time": "2022-08-30T00:27:38.161Z"
   },
   {
    "duration": 287,
    "start_time": "2022-08-30T00:27:38.388Z"
   },
   {
    "duration": 199,
    "start_time": "2022-08-30T00:27:38.676Z"
   },
   {
    "duration": 125,
    "start_time": "2022-08-30T00:27:38.877Z"
   },
   {
    "duration": 7,
    "start_time": "2022-08-30T00:27:39.004Z"
   },
   {
    "duration": 18,
    "start_time": "2022-08-30T00:27:39.014Z"
   },
   {
    "duration": 9,
    "start_time": "2022-08-30T00:27:39.033Z"
   },
   {
    "duration": 127,
    "start_time": "2022-08-30T00:27:39.043Z"
   },
   {
    "duration": 17,
    "start_time": "2022-08-30T00:27:39.171Z"
   },
   {
    "duration": 23,
    "start_time": "2022-08-30T00:27:39.189Z"
   },
   {
    "duration": 8,
    "start_time": "2022-08-30T00:27:39.213Z"
   },
   {
    "duration": 1291,
    "start_time": "2022-08-30T07:53:52.391Z"
   },
   {
    "duration": 194,
    "start_time": "2022-08-30T07:53:53.684Z"
   },
   {
    "duration": 24,
    "start_time": "2022-08-30T07:53:53.880Z"
   },
   {
    "duration": 3,
    "start_time": "2022-08-30T07:53:53.906Z"
   },
   {
    "duration": 30,
    "start_time": "2022-08-30T07:53:53.910Z"
   },
   {
    "duration": 6,
    "start_time": "2022-08-30T07:53:53.942Z"
   },
   {
    "duration": 22,
    "start_time": "2022-08-30T07:53:53.950Z"
   },
   {
    "duration": 3,
    "start_time": "2022-08-30T07:53:54.000Z"
   },
   {
    "duration": 15,
    "start_time": "2022-08-30T07:53:54.005Z"
   },
   {
    "duration": 12,
    "start_time": "2022-08-30T07:53:54.023Z"
   },
   {
    "duration": 8,
    "start_time": "2022-08-30T07:53:54.036Z"
   },
   {
    "duration": 6,
    "start_time": "2022-08-30T07:53:54.045Z"
   },
   {
    "duration": 13,
    "start_time": "2022-08-30T07:53:54.053Z"
   },
   {
    "duration": 37,
    "start_time": "2022-08-30T07:53:54.067Z"
   },
   {
    "duration": 5,
    "start_time": "2022-08-30T07:53:54.106Z"
   },
   {
    "duration": 12,
    "start_time": "2022-08-30T07:53:54.112Z"
   },
   {
    "duration": 184,
    "start_time": "2022-08-30T07:53:54.126Z"
   },
   {
    "duration": 124,
    "start_time": "2022-08-30T07:53:54.312Z"
   },
   {
    "duration": 7,
    "start_time": "2022-08-30T07:53:54.438Z"
   },
   {
    "duration": 18,
    "start_time": "2022-08-30T07:53:54.447Z"
   },
   {
    "duration": 7,
    "start_time": "2022-08-30T07:53:54.467Z"
   },
   {
    "duration": 296,
    "start_time": "2022-08-30T07:53:54.475Z"
   },
   {
    "duration": 7,
    "start_time": "2022-08-30T07:53:54.773Z"
   },
   {
    "duration": 244,
    "start_time": "2022-08-30T07:53:54.782Z"
   },
   {
    "duration": 336,
    "start_time": "2022-08-30T07:53:55.028Z"
   },
   {
    "duration": 6,
    "start_time": "2022-08-30T07:53:55.366Z"
   },
   {
    "duration": 226,
    "start_time": "2022-08-30T07:53:55.373Z"
   },
   {
    "duration": 311,
    "start_time": "2022-08-30T07:53:55.603Z"
   },
   {
    "duration": 5,
    "start_time": "2022-08-30T07:53:55.916Z"
   },
   {
    "duration": 172,
    "start_time": "2022-08-30T07:53:55.923Z"
   },
   {
    "duration": 6,
    "start_time": "2022-08-30T07:53:56.099Z"
   },
   {
    "duration": 157,
    "start_time": "2022-08-30T07:53:56.106Z"
   },
   {
    "duration": 4,
    "start_time": "2022-08-30T07:53:56.264Z"
   },
   {
    "duration": 5,
    "start_time": "2022-08-30T07:53:56.270Z"
   },
   {
    "duration": 11,
    "start_time": "2022-08-30T07:53:56.276Z"
   },
   {
    "duration": 236,
    "start_time": "2022-08-30T07:53:56.289Z"
   },
   {
    "duration": 330,
    "start_time": "2022-08-30T07:53:56.528Z"
   },
   {
    "duration": 245,
    "start_time": "2022-08-30T07:53:56.860Z"
   },
   {
    "duration": 126,
    "start_time": "2022-08-30T07:53:57.106Z"
   },
   {
    "duration": 7,
    "start_time": "2022-08-30T07:53:57.234Z"
   },
   {
    "duration": 22,
    "start_time": "2022-08-30T07:53:57.243Z"
   },
   {
    "duration": 9,
    "start_time": "2022-08-30T07:53:57.266Z"
   },
   {
    "duration": 131,
    "start_time": "2022-08-30T07:53:57.276Z"
   },
   {
    "duration": 7,
    "start_time": "2022-08-30T07:53:57.409Z"
   },
   {
    "duration": 23,
    "start_time": "2022-08-30T07:53:57.417Z"
   },
   {
    "duration": 9,
    "start_time": "2022-08-30T07:53:57.442Z"
   },
   {
    "duration": 8,
    "start_time": "2022-08-30T08:06:47.630Z"
   },
   {
    "duration": 21,
    "start_time": "2022-08-30T08:06:50.120Z"
   }
  ],
  "kernelspec": {
   "display_name": "Python 3 (ipykernel)",
   "language": "python",
   "name": "python3"
  },
  "language_info": {
   "codemirror_mode": {
    "name": "ipython",
    "version": 3
   },
   "file_extension": ".py",
   "mimetype": "text/x-python",
   "name": "python",
   "nbconvert_exporter": "python",
   "pygments_lexer": "ipython3",
   "version": "3.9.12"
  },
  "toc": {
   "base_numbering": 1,
   "nav_menu": {},
   "number_sections": true,
   "sideBar": true,
   "skip_h1_title": true,
   "title_cell": "Table of Contents",
   "title_sidebar": "Contents",
   "toc_cell": false,
   "toc_position": {},
   "toc_section_display": true,
   "toc_window_display": false
  }
 },
 "nbformat": 4,
 "nbformat_minor": 2
}
